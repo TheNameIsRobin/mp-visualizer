{
 "cells": [
  {
   "cell_type": "markdown",
   "metadata": {},
   "source": [
    "# WAMR vs Wasmtime vs Native I2C Benchmark Analysis\n",
    "\n",
    "This notebook analyzes the performance of different WebAssembly runtime implementations for I2C operations.\n",
    "\n",
    "## Setup\n",
    "Make sure you've run `cargo bench --benches` first to generate the Criterion data."
   ]
  },
  {
   "cell_type": "code",
   "execution_count": 1,
   "metadata": {},
   "outputs": [
    {
     "name": "stdout",
     "output_type": "stream",
     "text": [
      "✅ Libraries imported successfully!\n"
     ]
    }
   ],
   "source": [
    "# Import required libraries\n",
    "import json\n",
    "import matplotlib.pyplot as plt\n",
    "import seaborn as sns\n",
    "import numpy as np\n",
    "import pandas as pd\n",
    "import plotly.express as px\n",
    "import plotly.graph_objects as go\n",
    "from plotly.subplots import make_subplots\n",
    "from pathlib import Path\n",
    "from typing import Dict, List, Tuple\n",
    "import warnings\n",
    "warnings.filterwarnings('ignore')\n",
    "\n",
    "# Set style for better looking plots\n",
    "plt.style.use('seaborn-v0_8-whitegrid')\n",
    "sns.set_palette(\"husl\")\n",
    "plt.rcParams['figure.figsize'] = (12, 6)\n",
    "plt.rcParams['font.size'] = 12\n",
    "\n",
    "print(\"✅ Libraries imported successfully!\")"
   ]
  },
  {
   "cell_type": "code",
   "execution_count": 8,
   "metadata": {},
   "outputs": [
    {
     "name": "stdout",
     "output_type": "stream",
     "text": [
      "✅ CriterionAnalyzer class defined!\n"
     ]
    }
   ],
   "source": [
    "class CriterionAnalyzer:\n",
    "    def __init__(self, criterion_dir: str = \"./criterion\"):\n",
    "        self.criterion_dir = Path(criterion_dir)\n",
    "        print(self.criterion_dir)\n",
    "        self.results = {}\n",
    "        self.df = None\n",
    "        self.load_all_results()\n",
    "    \n",
    "    def load_all_results(self):\n",
    "        \"\"\"Load all Criterion benchmark results from JSON files\"\"\"\n",
    "        if not self.criterion_dir.exists():\n",
    "            raise FileNotFoundError(f\"Criterion directory not found: {self.criterion_dir}\")\n",
    "        \n",
    "        print(f\"📂 Loading results from: {self.criterion_dir}\")\n",
    "        \n",
    "        for group_dir in self.criterion_dir.iterdir():\n",
    "            if group_dir.is_dir():\n",
    "                group_name = group_dir.name\n",
    "                self.results[group_name] = {}\n",
    "                \n",
    "                # Look for subdirectories (benchmark functions within groups)\n",
    "                for bench_dir in group_dir.iterdir():\n",
    "                    if bench_dir.is_dir():\n",
    "                        measurements_file = bench_dir / \"base\" / \"sample.json\"\n",
    "                        if measurements_file.exists():\n",
    "                            with open(measurements_file, 'r') as f:\n",
    "                                data = json.load(f)\n",
    "                                self.results[group_name][bench_dir.name] = self._process_measurements(data)\n",
    "                                print(f\"  ✓ Loaded {group_name}/{bench_dir.name}\")\n",
    "        \n",
    "        # Create DataFrame for easy analysis\n",
    "        self.df = self.get_summary_dataframe()\n",
    "        print(f\"\\n📊 Loaded {len(self.df)} benchmark results\")\n",
    "    \n",
    "    def _process_measurements(self, data: dict) -> dict:\n",
    "        \"\"\"Process raw Criterion measurements into usable statistics\"\"\"\n",
    "        times = data.get(\"times\", [])\n",
    "        if not times:\n",
    "            return {}\n",
    "        \n",
    "        return {\n",
    "            'times_ns': times,\n",
    "            'mean_ns': np.mean(times),\n",
    "            'median_ns': np.median(times),\n",
    "            'std_ns': np.std(times),\n",
    "            'min_ns': np.min(times),\n",
    "            'max_ns': np.max(times),\n",
    "            'q25_ns': np.percentile(times, 25),\n",
    "            'q75_ns': np.percentile(times, 75),\n",
    "            'sample_count': len(times),\n",
    "            'cv': np.std(times) / np.mean(times) * 100  # Coefficient of variation\n",
    "        }\n",
    "    \n",
    "    def get_summary_dataframe(self) -> pd.DataFrame:\n",
    "        \"\"\"Create a pandas DataFrame with all results for easy analysis\"\"\"\n",
    "        rows = []\n",
    "        for group_name, group_data in self.results.items():\n",
    "            for bench_name, stats in group_data.items():\n",
    "                if stats:  # Skip empty results\n",
    "                    rows.append({\n",
    "                        'Group': group_name,\n",
    "                        'Implementation': bench_name,\n",
    "                        'Mean (ns)': stats['mean_ns'],\n",
    "                        'Median (ns)': stats['median_ns'],\n",
    "                        'Std Dev (ns)': stats['std_ns'],\n",
    "                        'Min (ns)': stats['min_ns'],\n",
    "                        'Max (ns)': stats['max_ns'],\n",
    "                        'CV (%)': stats['cv'],\n",
    "                        'Samples': stats['sample_count']\n",
    "                    })\n",
    "        return pd.DataFrame(rows)\n",
    "    \n",
    "    def get_raw_data(self) -> Dict:\n",
    "        \"\"\"Get raw timing data for detailed analysis\"\"\"\n",
    "        raw_data = {}\n",
    "        for group_name, group_data in self.results.items():\n",
    "            raw_data[group_name] = {}\n",
    "            for impl_name, stats in group_data.items():\n",
    "                if stats and 'times_ns' in stats:\n",
    "                    raw_data[group_name][impl_name] = stats['times_ns']\n",
    "        return raw_data\n",
    "\n",
    "print(\"✅ CriterionAnalyzer class defined!\")"
   ]
  },
  {
   "cell_type": "code",
   "execution_count": 10,
   "metadata": {},
   "outputs": [
    {
     "name": "stdout",
     "output_type": "stream",
     "text": [
      "criterion\n",
      "📂 Loading results from: criterion\n",
      "  ✓ Loaded Cold Ping Pong Execution/Wasmtime\n",
      "  ✓ Loaded Cold Ping Pong Execution/Native\n",
      "  ✓ Loaded Cold Ping Pong Execution/WAMR\n",
      "  ✓ Loaded Runtime Setup/Wasmtime\n",
      "  ✓ Loaded Runtime Setup/Native\n",
      "  ✓ Loaded Runtime Setup/WAMR\n",
      "  ✓ Loaded Hot Ping Pong Execution/Wasmtime\n",
      "  ✓ Loaded Hot Ping Pong Execution/Native\n",
      "  ✓ Loaded Hot Ping Pong Execution/WAMR\n",
      "\n",
      "📊 Loaded 9 benchmark results\n",
      "Found 4 benchmark groups:\n",
      "  📋 report: \n",
      "  📋 Cold Ping Pong Execution: Wasmtime, Native, WAMR\n",
      "  📋 Runtime Setup: Wasmtime, Native, WAMR\n",
      "  📋 Hot Ping Pong Execution: Wasmtime, Native, WAMR\n"
     ]
    }
   ],
   "source": [
    "# Initialize the analyzer\n",
    "analyzer = CriterionAnalyzer()\n",
    "\n",
    "# Display basic info\n",
    "print(f\"Found {len(analyzer.results)} benchmark groups:\")\n",
    "for group_name, group_data in analyzer.results.items():\n",
    "    implementations = list(group_data.keys())\n",
    "    print(f\"  📋 {group_name}: {', '.join(implementations)}\")"
   ]
  },
  {
   "cell_type": "markdown",
   "metadata": {},
   "source": [
    "## Summary Statistics"
   ]
  },
  {
   "cell_type": "code",
   "execution_count": 12,
   "metadata": {},
   "outputs": [
    {
     "name": "stdout",
     "output_type": "stream",
     "text": [
      "📊 BENCHMARK RESULTS SUMMARY\n",
      "==================================================\n"
     ]
    },
    {
     "data": {
      "text/html": [
       "<div>\n",
       "<style scoped>\n",
       "    .dataframe tbody tr th:only-of-type {\n",
       "        vertical-align: middle;\n",
       "    }\n",
       "\n",
       "    .dataframe tbody tr th {\n",
       "        vertical-align: top;\n",
       "    }\n",
       "\n",
       "    .dataframe thead th {\n",
       "        text-align: right;\n",
       "    }\n",
       "</style>\n",
       "<table border=\"1\" class=\"dataframe\">\n",
       "  <thead>\n",
       "    <tr style=\"text-align: right;\">\n",
       "      <th></th>\n",
       "      <th>Group</th>\n",
       "      <th>Implementation</th>\n",
       "      <th>Mean (ns)</th>\n",
       "      <th>Median (ns)</th>\n",
       "      <th>Std Dev (ns)</th>\n",
       "      <th>Min (ns)</th>\n",
       "      <th>Max (ns)</th>\n",
       "      <th>CV (%)</th>\n",
       "      <th>Samples</th>\n",
       "    </tr>\n",
       "  </thead>\n",
       "  <tbody>\n",
       "    <tr>\n",
       "      <th>0</th>\n",
       "      <td>Cold Ping Pong Execution</td>\n",
       "      <td>Wasmtime</td>\n",
       "      <td>1.995269e+07</td>\n",
       "      <td>19960640.5</td>\n",
       "      <td>5.008969e+04</td>\n",
       "      <td>19801160.0</td>\n",
       "      <td>20062122.0</td>\n",
       "      <td>0.25</td>\n",
       "      <td>100</td>\n",
       "    </tr>\n",
       "    <tr>\n",
       "      <th>1</th>\n",
       "      <td>Cold Ping Pong Execution</td>\n",
       "      <td>Native</td>\n",
       "      <td>3.001047e+08</td>\n",
       "      <td>300546697.0</td>\n",
       "      <td>1.719040e+08</td>\n",
       "      <td>5895543.0</td>\n",
       "      <td>594702317.0</td>\n",
       "      <td>57.28</td>\n",
       "      <td>100</td>\n",
       "    </tr>\n",
       "    <tr>\n",
       "      <th>2</th>\n",
       "      <td>Cold Ping Pong Execution</td>\n",
       "      <td>WAMR</td>\n",
       "      <td>1.283441e+08</td>\n",
       "      <td>128030758.5</td>\n",
       "      <td>7.391702e+07</td>\n",
       "      <td>2595977.0</td>\n",
       "      <td>255324681.0</td>\n",
       "      <td>57.59</td>\n",
       "      <td>100</td>\n",
       "    </tr>\n",
       "    <tr>\n",
       "      <th>3</th>\n",
       "      <td>Runtime Setup</td>\n",
       "      <td>Wasmtime</td>\n",
       "      <td>3.141996e+08</td>\n",
       "      <td>314203904.0</td>\n",
       "      <td>2.188828e+05</td>\n",
       "      <td>313501136.0</td>\n",
       "      <td>314803893.0</td>\n",
       "      <td>0.07</td>\n",
       "      <td>100</td>\n",
       "    </tr>\n",
       "    <tr>\n",
       "      <th>4</th>\n",
       "      <td>Runtime Setup</td>\n",
       "      <td>Native</td>\n",
       "      <td>2.986245e+08</td>\n",
       "      <td>298289658.5</td>\n",
       "      <td>1.701678e+08</td>\n",
       "      <td>5952969.0</td>\n",
       "      <td>593969022.0</td>\n",
       "      <td>56.98</td>\n",
       "      <td>100</td>\n",
       "    </tr>\n",
       "    <tr>\n",
       "      <th>5</th>\n",
       "      <td>Runtime Setup</td>\n",
       "      <td>WAMR</td>\n",
       "      <td>3.400850e+08</td>\n",
       "      <td>340007759.0</td>\n",
       "      <td>1.943710e+08</td>\n",
       "      <td>6757208.0</td>\n",
       "      <td>673569102.0</td>\n",
       "      <td>57.15</td>\n",
       "      <td>100</td>\n",
       "    </tr>\n",
       "    <tr>\n",
       "      <th>6</th>\n",
       "      <td>Hot Ping Pong Execution</td>\n",
       "      <td>Wasmtime</td>\n",
       "      <td>3.060984e+08</td>\n",
       "      <td>306057525.0</td>\n",
       "      <td>1.749691e+08</td>\n",
       "      <td>6071968.0</td>\n",
       "      <td>606100635.0</td>\n",
       "      <td>57.16</td>\n",
       "      <td>100</td>\n",
       "    </tr>\n",
       "    <tr>\n",
       "      <th>7</th>\n",
       "      <td>Hot Ping Pong Execution</td>\n",
       "      <td>Native</td>\n",
       "      <td>3.272768e+08</td>\n",
       "      <td>327283289.0</td>\n",
       "      <td>1.870733e+08</td>\n",
       "      <td>6495171.0</td>\n",
       "      <td>647973589.0</td>\n",
       "      <td>57.16</td>\n",
       "      <td>100</td>\n",
       "    </tr>\n",
       "    <tr>\n",
       "      <th>8</th>\n",
       "      <td>Hot Ping Pong Execution</td>\n",
       "      <td>WAMR</td>\n",
       "      <td>3.056746e+08</td>\n",
       "      <td>305642334.0</td>\n",
       "      <td>1.747589e+08</td>\n",
       "      <td>6066727.0</td>\n",
       "      <td>605860474.0</td>\n",
       "      <td>57.17</td>\n",
       "      <td>100</td>\n",
       "    </tr>\n",
       "  </tbody>\n",
       "</table>\n",
       "</div>"
      ],
      "text/plain": [
       "                      Group Implementation     Mean (ns)  Median (ns)  \\\n",
       "0  Cold Ping Pong Execution       Wasmtime  1.995269e+07   19960640.5   \n",
       "1  Cold Ping Pong Execution         Native  3.001047e+08  300546697.0   \n",
       "2  Cold Ping Pong Execution           WAMR  1.283441e+08  128030758.5   \n",
       "3             Runtime Setup       Wasmtime  3.141996e+08  314203904.0   \n",
       "4             Runtime Setup         Native  2.986245e+08  298289658.5   \n",
       "5             Runtime Setup           WAMR  3.400850e+08  340007759.0   \n",
       "6   Hot Ping Pong Execution       Wasmtime  3.060984e+08  306057525.0   \n",
       "7   Hot Ping Pong Execution         Native  3.272768e+08  327283289.0   \n",
       "8   Hot Ping Pong Execution           WAMR  3.056746e+08  305642334.0   \n",
       "\n",
       "   Std Dev (ns)     Min (ns)     Max (ns)  CV (%)  Samples  \n",
       "0  5.008969e+04   19801160.0   20062122.0    0.25      100  \n",
       "1  1.719040e+08    5895543.0  594702317.0   57.28      100  \n",
       "2  7.391702e+07    2595977.0  255324681.0   57.59      100  \n",
       "3  2.188828e+05  313501136.0  314803893.0    0.07      100  \n",
       "4  1.701678e+08    5952969.0  593969022.0   56.98      100  \n",
       "5  1.943710e+08    6757208.0  673569102.0   57.15      100  \n",
       "6  1.749691e+08    6071968.0  606100635.0   57.16      100  \n",
       "7  1.870733e+08    6495171.0  647973589.0   57.16      100  \n",
       "8  1.747589e+08    6066727.0  605860474.0   57.17      100  "
      ]
     },
     "metadata": {},
     "output_type": "display_data"
    }
   ],
   "source": [
    "# Display summary table\n",
    "df = analyzer.df\n",
    "if not df.empty:\n",
    "    print(\"📊 BENCHMARK RESULTS SUMMARY\")\n",
    "    print(\"=\" * 50)\n",
    "    display(df.round(2))\n",
    "else:\n",
    "    print(\"❌ No benchmark data found. Make sure to run 'cargo bench --benches' first!\")"
   ]
  },
  {
   "cell_type": "code",
   "execution_count": 13,
   "metadata": {},
   "outputs": [
    {
     "name": "stdout",
     "output_type": "stream",
     "text": [
      "🏆 PERFORMANCE WINNERS BY CATEGORY\n",
      "========================================\n",
      "\n",
      "Cold Ping Pong Execution:\n",
      "  🥇 Winner: Wasmtime (19952685.9ns)\n",
      "    🥇 Wasmtime: 19952685.9ns [1.00x]\n",
      "    📊 WAMR: 128344053.2ns [6.43x]\n",
      "    📊 Native: 300104739.9ns [15.04x]\n",
      "    📈 Performance gap: 15.04x (280152054.1ns)\n",
      "\n",
      "Runtime Setup:\n",
      "  🥇 Winner: Native (298624452.7ns)\n",
      "    🥇 Native: 298624452.7ns [1.00x]\n",
      "    🥈 Wasmtime: 314199614.5ns [1.05x]\n",
      "    🥈 WAMR: 340084990.9ns [1.14x]\n",
      "    📈 Performance gap: 1.14x (41460538.1ns)\n",
      "\n",
      "Hot Ping Pong Execution:\n",
      "  🥇 Winner: WAMR (305674577.3ns)\n",
      "    🥇 WAMR: 305674577.3ns [1.00x]\n",
      "    🥈 Wasmtime: 306098431.4ns [1.00x]\n",
      "    🥈 Native: 327276768.9ns [1.07x]\n",
      "    📈 Performance gap: 1.07x (21602191.7ns)\n"
     ]
    }
   ],
   "source": [
    "# Performance analysis per group\n",
    "if not df.empty:\n",
    "    print(\"🏆 PERFORMANCE WINNERS BY CATEGORY\")\n",
    "    print(\"=\" * 40)\n",
    "    \n",
    "    for group_name in df['Group'].unique():\n",
    "        group_df = df[df['Group'] == group_name].copy()\n",
    "        group_df = group_df.sort_values('Mean (ns)')\n",
    "        \n",
    "        fastest = group_df.iloc[0]\n",
    "        print(f\"\\n{group_name}:\")\n",
    "        print(f\"  🥇 Winner: {fastest['Implementation']} ({fastest['Mean (ns)']:.1f}ns)\")\n",
    "        \n",
    "        # Show relative performance\n",
    "        for _, row in group_df.iterrows():\n",
    "            relative_perf = row['Mean (ns)'] / fastest['Mean (ns)']\n",
    "            emoji = \"🥇\" if relative_perf == 1.0 else \"🥈\" if relative_perf < 2.0 else \"🥉\" if relative_perf < 5.0 else \"📊\"\n",
    "            print(f\"    {emoji} {row['Implementation']}: {row['Mean (ns)']:.1f}ns [{relative_perf:.2f}x]\")\n",
    "        \n",
    "        # Performance gap\n",
    "        if len(group_df) > 1:\n",
    "            slowest = group_df.iloc[-1]\n",
    "            speedup = slowest['Mean (ns)'] / fastest['Mean (ns)']\n",
    "            print(f\"    📈 Performance gap: {speedup:.2f}x ({slowest['Mean (ns)'] - fastest['Mean (ns)']:.1f}ns)\")"
   ]
  },
  {
   "cell_type": "markdown",
   "metadata": {},
   "source": [
    "## Interactive Visualizations"
   ]
  },
  {
   "cell_type": "code",
   "execution_count": 14,
   "metadata": {},
   "outputs": [
    {
     "data": {
      "application/vnd.plotly.v1+json": {
       "config": {
        "plotlyServerURL": "https://plot.ly"
       },
       "data": [
        {
         "error_y": {
          "array": {
           "bdata": "2cXWNTZ16EA=",
           "dtype": "f8"
          }
         },
         "hovertemplate": "Implementation=%{x}<br>Group=Cold Ping Pong Execution<br>Execution Time (ns)=%{y}<extra></extra>",
         "legendgroup": "Wasmtime",
         "marker": {
          "color": "#636efa",
          "pattern": {
           "shape": ""
          }
         },
         "name": "Wasmtime",
         "orientation": "v",
         "showlegend": true,
         "textposition": "auto",
         "type": "bar",
         "x": [
          "Wasmtime"
         ],
         "xaxis": "x",
         "y": {
          "bdata": "XI/C3UIHc0E=",
          "dtype": "f8"
         },
         "yaxis": "y"
        },
        {
         "error_y": {
          "array": {
           "bdata": "4xRDHBa4CkE=",
           "dtype": "f8"
          }
         },
         "hovertemplate": "Implementation=%{x}<br>Group=Runtime Setup<br>Execution Time (ns)=%{y}<extra></extra>",
         "legendgroup": "Wasmtime",
         "marker": {
          "color": "#636efa",
          "pattern": {
           "shape": ""
          }
         },
         "name": "Wasmtime",
         "orientation": "v",
         "showlegend": false,
         "textposition": "auto",
         "type": "bar",
         "x": [
          "Wasmtime"
         ],
         "xaxis": "x2",
         "y": {
          "bdata": "7FF4Pk66skE=",
          "dtype": "f8"
         },
         "yaxis": "y2"
        },
        {
         "error_y": {
          "array": {
           "bdata": "VQB7S6LbpEE=",
           "dtype": "f8"
          }
         },
         "hovertemplate": "Implementation=%{x}<br>Group=Hot Ping Pong Execution<br>Execution Time (ns)=%{y}<extra></extra>",
         "legendgroup": "Wasmtime",
         "marker": {
          "color": "#636efa",
          "pattern": {
           "shape": ""
          }
         },
         "name": "Wasmtime",
         "orientation": "v",
         "showlegend": false,
         "textposition": "auto",
         "type": "bar",
         "x": [
          "Wasmtime"
         ],
         "xaxis": "x3",
         "y": {
          "bdata": "rkdh/7A+skE=",
          "dtype": "f8"
         },
         "yaxis": "y3"
        },
        {
         "error_y": {
          "array": {
           "bdata": "IJK25Bd+pEE=",
           "dtype": "f8"
          }
         },
         "hovertemplate": "Implementation=%{x}<br>Group=Cold Ping Pong Execution<br>Execution Time (ns)=%{y}<extra></extra>",
         "legendgroup": "Native",
         "marker": {
          "color": "#EF553B",
          "pattern": {
           "shape": ""
          }
         },
         "name": "Native",
         "orientation": "v",
         "showlegend": true,
         "textposition": "auto",
         "type": "bar",
         "x": [
          "Native"
         ],
         "xaxis": "x",
         "y": {
          "bdata": "MzPzIzzjsUE=",
          "dtype": "f8"
         },
         "yaxis": "y"
        },
        {
         "error_y": {
          "array": {
           "bdata": "MNlLuRtJpEE=",
           "dtype": "f8"
          }
         },
         "hovertemplate": "Implementation=%{x}<br>Group=Runtime Setup<br>Execution Time (ns)=%{y}<extra></extra>",
         "legendgroup": "Native",
         "marker": {
          "color": "#EF553B",
          "pattern": {
           "shape": ""
          }
         },
         "name": "Native",
         "orientation": "v",
         "showlegend": false,
         "textposition": "auto",
         "type": "bar",
         "x": [
          "Native"
         ],
         "xaxis": "x2",
         "y": {
          "bdata": "7FG4xKXMsUE=",
          "dtype": "f8"
         },
         "yaxis": "y2"
        },
        {
         "error_y": {
          "array": {
           "bdata": "2+S/agZNpkE=",
           "dtype": "f8"
          }
         },
         "hovertemplate": "Implementation=%{x}<br>Group=Hot Ping Pong Execution<br>Execution Time (ns)=%{y}<extra></extra>",
         "legendgroup": "Native",
         "marker": {
          "color": "#EF553B",
          "pattern": {
           "shape": ""
          }
         },
         "name": "Native",
         "orientation": "v",
         "showlegend": false,
         "textposition": "auto",
         "type": "bar",
         "x": [
          "Native"
         ],
         "xaxis": "x3",
         "y": {
          "bdata": "H4Xr4NiBs0E=",
          "dtype": "f8"
         },
         "yaxis": "y3"
        },
        {
         "error_y": {
          "array": {
           "bdata": "RsZFYomfkUE=",
           "dtype": "f8"
          }
         },
         "hovertemplate": "Implementation=%{x}<br>Group=Cold Ping Pong Execution<br>Execution Time (ns)=%{y}<extra></extra>",
         "legendgroup": "WAMR",
         "marker": {
          "color": "#00cc96",
          "pattern": {
           "shape": ""
          }
         },
         "name": "WAMR",
         "orientation": "v",
         "showlegend": true,
         "textposition": "auto",
         "type": "bar",
         "x": [
          "WAMR"
         ],
         "xaxis": "x",
         "y": {
          "bdata": "AAAA1X+ZnkE=",
          "dtype": "f8"
         },
         "yaxis": "y"
        },
        {
         "error_y": {
          "array": {
           "bdata": "rvSpDbsrp0E=",
           "dtype": "f8"
          }
         },
         "hovertemplate": "Implementation=%{x}<br>Group=Runtime Setup<br>Execution Time (ns)=%{y}<extra></extra>",
         "legendgroup": "WAMR",
         "marker": {
          "color": "#00cc96",
          "pattern": {
           "shape": ""
          }
         },
         "name": "WAMR",
         "orientation": "v",
         "showlegend": false,
         "textposition": "auto",
         "type": "bar",
         "x": [
          "WAMR"
         ],
         "xaxis": "x2",
         "y": {
          "bdata": "Urje/khFtEE=",
          "dtype": "f8"
         },
         "yaxis": "y2"
        },
        {
         "error_y": {
          "array": {
           "bdata": "Jc2SujfVpEE=",
           "dtype": "f8"
          }
         },
         "hovertemplate": "Implementation=%{x}<br>Group=Hot Ping Pong Execution<br>Execution Time (ns)=%{y}<extra></extra>",
         "legendgroup": "WAMR",
         "marker": {
          "color": "#00cc96",
          "pattern": {
           "shape": ""
          }
         },
         "name": "WAMR",
         "orientation": "v",
         "showlegend": false,
         "textposition": "auto",
         "type": "bar",
         "x": [
          "WAMR"
         ],
         "xaxis": "x3",
         "y": {
          "bdata": "uB5FUTk4skE=",
          "dtype": "f8"
         },
         "yaxis": "y3"
        }
       ],
       "layout": {
        "annotations": [
         {
          "font": {},
          "showarrow": false,
          "text": "Group=Cold Ping Pong Execution",
          "x": 0.15999999999999998,
          "xanchor": "center",
          "xref": "paper",
          "y": 1,
          "yanchor": "bottom",
          "yref": "paper"
         },
         {
          "font": {},
          "showarrow": false,
          "text": "Group=Runtime Setup",
          "x": 0.49999999999999994,
          "xanchor": "center",
          "xref": "paper",
          "y": 1,
          "yanchor": "bottom",
          "yref": "paper"
         },
         {
          "font": {},
          "showarrow": false,
          "text": "Group=Hot Ping Pong Execution",
          "x": 0.8399999999999999,
          "xanchor": "center",
          "xref": "paper",
          "y": 1,
          "yanchor": "bottom",
          "yref": "paper"
         }
        ],
        "barmode": "relative",
        "font": {
         "size": 12
        },
        "height": 500,
        "legend": {
         "title": {
          "text": "Implementation"
         },
         "tracegroupgap": 0
        },
        "showlegend": false,
        "template": {
         "data": {
          "bar": [
           {
            "error_x": {
             "color": "#2a3f5f"
            },
            "error_y": {
             "color": "#2a3f5f"
            },
            "marker": {
             "line": {
              "color": "#E5ECF6",
              "width": 0.5
             },
             "pattern": {
              "fillmode": "overlay",
              "size": 10,
              "solidity": 0.2
             }
            },
            "type": "bar"
           }
          ],
          "barpolar": [
           {
            "marker": {
             "line": {
              "color": "#E5ECF6",
              "width": 0.5
             },
             "pattern": {
              "fillmode": "overlay",
              "size": 10,
              "solidity": 0.2
             }
            },
            "type": "barpolar"
           }
          ],
          "carpet": [
           {
            "aaxis": {
             "endlinecolor": "#2a3f5f",
             "gridcolor": "white",
             "linecolor": "white",
             "minorgridcolor": "white",
             "startlinecolor": "#2a3f5f"
            },
            "baxis": {
             "endlinecolor": "#2a3f5f",
             "gridcolor": "white",
             "linecolor": "white",
             "minorgridcolor": "white",
             "startlinecolor": "#2a3f5f"
            },
            "type": "carpet"
           }
          ],
          "choropleth": [
           {
            "colorbar": {
             "outlinewidth": 0,
             "ticks": ""
            },
            "type": "choropleth"
           }
          ],
          "contour": [
           {
            "colorbar": {
             "outlinewidth": 0,
             "ticks": ""
            },
            "colorscale": [
             [
              0,
              "#0d0887"
             ],
             [
              0.1111111111111111,
              "#46039f"
             ],
             [
              0.2222222222222222,
              "#7201a8"
             ],
             [
              0.3333333333333333,
              "#9c179e"
             ],
             [
              0.4444444444444444,
              "#bd3786"
             ],
             [
              0.5555555555555556,
              "#d8576b"
             ],
             [
              0.6666666666666666,
              "#ed7953"
             ],
             [
              0.7777777777777778,
              "#fb9f3a"
             ],
             [
              0.8888888888888888,
              "#fdca26"
             ],
             [
              1,
              "#f0f921"
             ]
            ],
            "type": "contour"
           }
          ],
          "contourcarpet": [
           {
            "colorbar": {
             "outlinewidth": 0,
             "ticks": ""
            },
            "type": "contourcarpet"
           }
          ],
          "heatmap": [
           {
            "colorbar": {
             "outlinewidth": 0,
             "ticks": ""
            },
            "colorscale": [
             [
              0,
              "#0d0887"
             ],
             [
              0.1111111111111111,
              "#46039f"
             ],
             [
              0.2222222222222222,
              "#7201a8"
             ],
             [
              0.3333333333333333,
              "#9c179e"
             ],
             [
              0.4444444444444444,
              "#bd3786"
             ],
             [
              0.5555555555555556,
              "#d8576b"
             ],
             [
              0.6666666666666666,
              "#ed7953"
             ],
             [
              0.7777777777777778,
              "#fb9f3a"
             ],
             [
              0.8888888888888888,
              "#fdca26"
             ],
             [
              1,
              "#f0f921"
             ]
            ],
            "type": "heatmap"
           }
          ],
          "histogram": [
           {
            "marker": {
             "pattern": {
              "fillmode": "overlay",
              "size": 10,
              "solidity": 0.2
             }
            },
            "type": "histogram"
           }
          ],
          "histogram2d": [
           {
            "colorbar": {
             "outlinewidth": 0,
             "ticks": ""
            },
            "colorscale": [
             [
              0,
              "#0d0887"
             ],
             [
              0.1111111111111111,
              "#46039f"
             ],
             [
              0.2222222222222222,
              "#7201a8"
             ],
             [
              0.3333333333333333,
              "#9c179e"
             ],
             [
              0.4444444444444444,
              "#bd3786"
             ],
             [
              0.5555555555555556,
              "#d8576b"
             ],
             [
              0.6666666666666666,
              "#ed7953"
             ],
             [
              0.7777777777777778,
              "#fb9f3a"
             ],
             [
              0.8888888888888888,
              "#fdca26"
             ],
             [
              1,
              "#f0f921"
             ]
            ],
            "type": "histogram2d"
           }
          ],
          "histogram2dcontour": [
           {
            "colorbar": {
             "outlinewidth": 0,
             "ticks": ""
            },
            "colorscale": [
             [
              0,
              "#0d0887"
             ],
             [
              0.1111111111111111,
              "#46039f"
             ],
             [
              0.2222222222222222,
              "#7201a8"
             ],
             [
              0.3333333333333333,
              "#9c179e"
             ],
             [
              0.4444444444444444,
              "#bd3786"
             ],
             [
              0.5555555555555556,
              "#d8576b"
             ],
             [
              0.6666666666666666,
              "#ed7953"
             ],
             [
              0.7777777777777778,
              "#fb9f3a"
             ],
             [
              0.8888888888888888,
              "#fdca26"
             ],
             [
              1,
              "#f0f921"
             ]
            ],
            "type": "histogram2dcontour"
           }
          ],
          "mesh3d": [
           {
            "colorbar": {
             "outlinewidth": 0,
             "ticks": ""
            },
            "type": "mesh3d"
           }
          ],
          "parcoords": [
           {
            "line": {
             "colorbar": {
              "outlinewidth": 0,
              "ticks": ""
             }
            },
            "type": "parcoords"
           }
          ],
          "pie": [
           {
            "automargin": true,
            "type": "pie"
           }
          ],
          "scatter": [
           {
            "fillpattern": {
             "fillmode": "overlay",
             "size": 10,
             "solidity": 0.2
            },
            "type": "scatter"
           }
          ],
          "scatter3d": [
           {
            "line": {
             "colorbar": {
              "outlinewidth": 0,
              "ticks": ""
             }
            },
            "marker": {
             "colorbar": {
              "outlinewidth": 0,
              "ticks": ""
             }
            },
            "type": "scatter3d"
           }
          ],
          "scattercarpet": [
           {
            "marker": {
             "colorbar": {
              "outlinewidth": 0,
              "ticks": ""
             }
            },
            "type": "scattercarpet"
           }
          ],
          "scattergeo": [
           {
            "marker": {
             "colorbar": {
              "outlinewidth": 0,
              "ticks": ""
             }
            },
            "type": "scattergeo"
           }
          ],
          "scattergl": [
           {
            "marker": {
             "colorbar": {
              "outlinewidth": 0,
              "ticks": ""
             }
            },
            "type": "scattergl"
           }
          ],
          "scattermap": [
           {
            "marker": {
             "colorbar": {
              "outlinewidth": 0,
              "ticks": ""
             }
            },
            "type": "scattermap"
           }
          ],
          "scattermapbox": [
           {
            "marker": {
             "colorbar": {
              "outlinewidth": 0,
              "ticks": ""
             }
            },
            "type": "scattermapbox"
           }
          ],
          "scatterpolar": [
           {
            "marker": {
             "colorbar": {
              "outlinewidth": 0,
              "ticks": ""
             }
            },
            "type": "scatterpolar"
           }
          ],
          "scatterpolargl": [
           {
            "marker": {
             "colorbar": {
              "outlinewidth": 0,
              "ticks": ""
             }
            },
            "type": "scatterpolargl"
           }
          ],
          "scatterternary": [
           {
            "marker": {
             "colorbar": {
              "outlinewidth": 0,
              "ticks": ""
             }
            },
            "type": "scatterternary"
           }
          ],
          "surface": [
           {
            "colorbar": {
             "outlinewidth": 0,
             "ticks": ""
            },
            "colorscale": [
             [
              0,
              "#0d0887"
             ],
             [
              0.1111111111111111,
              "#46039f"
             ],
             [
              0.2222222222222222,
              "#7201a8"
             ],
             [
              0.3333333333333333,
              "#9c179e"
             ],
             [
              0.4444444444444444,
              "#bd3786"
             ],
             [
              0.5555555555555556,
              "#d8576b"
             ],
             [
              0.6666666666666666,
              "#ed7953"
             ],
             [
              0.7777777777777778,
              "#fb9f3a"
             ],
             [
              0.8888888888888888,
              "#fdca26"
             ],
             [
              1,
              "#f0f921"
             ]
            ],
            "type": "surface"
           }
          ],
          "table": [
           {
            "cells": {
             "fill": {
              "color": "#EBF0F8"
             },
             "line": {
              "color": "white"
             }
            },
            "header": {
             "fill": {
              "color": "#C8D4E3"
             },
             "line": {
              "color": "white"
             }
            },
            "type": "table"
           }
          ]
         },
         "layout": {
          "annotationdefaults": {
           "arrowcolor": "#2a3f5f",
           "arrowhead": 0,
           "arrowwidth": 1
          },
          "autotypenumbers": "strict",
          "coloraxis": {
           "colorbar": {
            "outlinewidth": 0,
            "ticks": ""
           }
          },
          "colorscale": {
           "diverging": [
            [
             0,
             "#8e0152"
            ],
            [
             0.1,
             "#c51b7d"
            ],
            [
             0.2,
             "#de77ae"
            ],
            [
             0.3,
             "#f1b6da"
            ],
            [
             0.4,
             "#fde0ef"
            ],
            [
             0.5,
             "#f7f7f7"
            ],
            [
             0.6,
             "#e6f5d0"
            ],
            [
             0.7,
             "#b8e186"
            ],
            [
             0.8,
             "#7fbc41"
            ],
            [
             0.9,
             "#4d9221"
            ],
            [
             1,
             "#276419"
            ]
           ],
           "sequential": [
            [
             0,
             "#0d0887"
            ],
            [
             0.1111111111111111,
             "#46039f"
            ],
            [
             0.2222222222222222,
             "#7201a8"
            ],
            [
             0.3333333333333333,
             "#9c179e"
            ],
            [
             0.4444444444444444,
             "#bd3786"
            ],
            [
             0.5555555555555556,
             "#d8576b"
            ],
            [
             0.6666666666666666,
             "#ed7953"
            ],
            [
             0.7777777777777778,
             "#fb9f3a"
            ],
            [
             0.8888888888888888,
             "#fdca26"
            ],
            [
             1,
             "#f0f921"
            ]
           ],
           "sequentialminus": [
            [
             0,
             "#0d0887"
            ],
            [
             0.1111111111111111,
             "#46039f"
            ],
            [
             0.2222222222222222,
             "#7201a8"
            ],
            [
             0.3333333333333333,
             "#9c179e"
            ],
            [
             0.4444444444444444,
             "#bd3786"
            ],
            [
             0.5555555555555556,
             "#d8576b"
            ],
            [
             0.6666666666666666,
             "#ed7953"
            ],
            [
             0.7777777777777778,
             "#fb9f3a"
            ],
            [
             0.8888888888888888,
             "#fdca26"
            ],
            [
             1,
             "#f0f921"
            ]
           ]
          },
          "colorway": [
           "#636efa",
           "#EF553B",
           "#00cc96",
           "#ab63fa",
           "#FFA15A",
           "#19d3f3",
           "#FF6692",
           "#B6E880",
           "#FF97FF",
           "#FECB52"
          ],
          "font": {
           "color": "#2a3f5f"
          },
          "geo": {
           "bgcolor": "white",
           "lakecolor": "white",
           "landcolor": "#E5ECF6",
           "showlakes": true,
           "showland": true,
           "subunitcolor": "white"
          },
          "hoverlabel": {
           "align": "left"
          },
          "hovermode": "closest",
          "mapbox": {
           "style": "light"
          },
          "paper_bgcolor": "white",
          "plot_bgcolor": "#E5ECF6",
          "polar": {
           "angularaxis": {
            "gridcolor": "white",
            "linecolor": "white",
            "ticks": ""
           },
           "bgcolor": "#E5ECF6",
           "radialaxis": {
            "gridcolor": "white",
            "linecolor": "white",
            "ticks": ""
           }
          },
          "scene": {
           "xaxis": {
            "backgroundcolor": "#E5ECF6",
            "gridcolor": "white",
            "gridwidth": 2,
            "linecolor": "white",
            "showbackground": true,
            "ticks": "",
            "zerolinecolor": "white"
           },
           "yaxis": {
            "backgroundcolor": "#E5ECF6",
            "gridcolor": "white",
            "gridwidth": 2,
            "linecolor": "white",
            "showbackground": true,
            "ticks": "",
            "zerolinecolor": "white"
           },
           "zaxis": {
            "backgroundcolor": "#E5ECF6",
            "gridcolor": "white",
            "gridwidth": 2,
            "linecolor": "white",
            "showbackground": true,
            "ticks": "",
            "zerolinecolor": "white"
           }
          },
          "shapedefaults": {
           "line": {
            "color": "#2a3f5f"
           }
          },
          "ternary": {
           "aaxis": {
            "gridcolor": "white",
            "linecolor": "white",
            "ticks": ""
           },
           "baxis": {
            "gridcolor": "white",
            "linecolor": "white",
            "ticks": ""
           },
           "bgcolor": "#E5ECF6",
           "caxis": {
            "gridcolor": "white",
            "linecolor": "white",
            "ticks": ""
           }
          },
          "title": {
           "x": 0.05
          },
          "xaxis": {
           "automargin": true,
           "gridcolor": "white",
           "linecolor": "white",
           "ticks": "",
           "title": {
            "standoff": 15
           },
           "zerolinecolor": "white",
           "zerolinewidth": 2
          },
          "yaxis": {
           "automargin": true,
           "gridcolor": "white",
           "linecolor": "white",
           "ticks": "",
           "title": {
            "standoff": 15
           },
           "zerolinecolor": "white",
           "zerolinewidth": 2
          }
         }
        },
        "title": {
         "font": {
          "size": 16
         },
         "text": "Benchmark Performance Comparison"
        },
        "xaxis": {
         "anchor": "y",
         "categoryarray": [
          "Wasmtime",
          "Native",
          "WAMR"
         ],
         "categoryorder": "array",
         "domain": [
          0,
          0.31999999999999995
         ],
         "tickangle": 45,
         "title": {
          "text": "Implementation"
         }
        },
        "xaxis2": {
         "anchor": "y2",
         "categoryarray": [
          "Wasmtime",
          "Native",
          "WAMR"
         ],
         "categoryorder": "array",
         "domain": [
          0.33999999999999997,
          0.6599999999999999
         ],
         "matches": "x",
         "tickangle": 45,
         "title": {
          "text": "Implementation"
         }
        },
        "xaxis3": {
         "anchor": "y3",
         "categoryarray": [
          "Wasmtime",
          "Native",
          "WAMR"
         ],
         "categoryorder": "array",
         "domain": [
          0.6799999999999999,
          0.9999999999999999
         ],
         "matches": "x",
         "tickangle": 45,
         "title": {
          "text": "Implementation"
         }
        },
        "yaxis": {
         "anchor": "x",
         "domain": [
          0,
          1
         ],
         "title": {
          "text": "Execution Time (ns)"
         }
        },
        "yaxis2": {
         "anchor": "x2",
         "domain": [
          0,
          1
         ],
         "matches": "y",
         "showticklabels": false
        },
        "yaxis3": {
         "anchor": "x3",
         "domain": [
          0,
          1
         ],
         "matches": "y",
         "showticklabels": false
        }
       }
      },
      "image/png": "[encoded data removed]"
     },
     "metadata": {},
     "output_type": "display_data"
    }
   ],
   "source": [
    "# Interactive bar chart with Plotly\n",
    "if not df.empty:\n",
    "    fig = px.bar(\n",
    "        df, \n",
    "        x='Implementation', \n",
    "        y='Mean (ns)', \n",
    "        color='Implementation',\n",
    "        facet_col='Group',\n",
    "        error_y='Std Dev (ns)',\n",
    "        title='Benchmark Performance Comparison',\n",
    "        labels={'Mean (ns)': 'Execution Time (ns)'},\n",
    "        height=500\n",
    "    )\n",
    "    \n",
    "    fig.update_layout(\n",
    "        showlegend=False,\n",
    "        font=dict(size=12),\n",
    "        title_font_size=16\n",
    "    )\n",
    "    \n",
    "    # Rotate x-axis labels for better readability\n",
    "    fig.update_xaxes(tickangle=45)\n",
    "    \n",
    "    fig.show()\n",
    "else:\n",
    "    print(\"❌ No data available for plotting.\")"
   ]
  },
  {
   "cell_type": "code",
   "execution_count": 15,
   "metadata": {},
   "outputs": [
    {
     "data": {
      "application/vnd.plotly.v1+json": {
       "config": {
        "plotlyServerURL": "https://plot.ly"
       },
       "data": [
        {
         "alignmentgroup": "True",
         "hovertemplate": "Implementation=%{x}<br>Group=Cold Ping Pong Execution<br>Time (ns)=%{y}<extra></extra>",
         "legendgroup": "Wasmtime",
         "marker": {
          "color": "#636efa"
         },
         "name": "Wasmtime",
         "notched": false,
         "offsetgroup": "Wasmtime",
         "orientation": "v",
         "showlegend": true,
         "type": "box",
         "x": [
          "Wasmtime",
          "Wasmtime",
          "Wasmtime",
          "Wasmtime",
          "Wasmtime",
          "Wasmtime",
          "Wasmtime",
          "Wasmtime",
          "Wasmtime",
          "Wasmtime",
          "Wasmtime",
          "Wasmtime",
          "Wasmtime",
          "Wasmtime",
          "Wasmtime",
          "Wasmtime",
          "Wasmtime",
          "Wasmtime",
          "Wasmtime",
          "Wasmtime",
          "Wasmtime",
          "Wasmtime",
          "Wasmtime",
          "Wasmtime",
          "Wasmtime",
          "Wasmtime",
          "Wasmtime",
          "Wasmtime",
          "Wasmtime",
          "Wasmtime",
          "Wasmtime",
          "Wasmtime",
          "Wasmtime",
          "Wasmtime",
          "Wasmtime",
          "Wasmtime",
          "Wasmtime",
          "Wasmtime",
          "Wasmtime",
          "Wasmtime",
          "Wasmtime",
          "Wasmtime",
          "Wasmtime",
          "Wasmtime",
          "Wasmtime",
          "Wasmtime",
          "Wasmtime",
          "Wasmtime",
          "Wasmtime",
          "Wasmtime",
          "Wasmtime",
          "Wasmtime",
          "Wasmtime",
          "Wasmtime",
          "Wasmtime",
          "Wasmtime",
          "Wasmtime",
          "Wasmtime",
          "Wasmtime",
          "Wasmtime",
          "Wasmtime",
          "Wasmtime",
          "Wasmtime",
          "Wasmtime",
          "Wasmtime",
          "Wasmtime",
          "Wasmtime",
          "Wasmtime",
          "Wasmtime",
          "Wasmtime",
          "Wasmtime",
          "Wasmtime",
          "Wasmtime",
          "Wasmtime",
          "Wasmtime",
          "Wasmtime",
          "Wasmtime",
          "Wasmtime",
          "Wasmtime",
          "Wasmtime",
          "Wasmtime",
          "Wasmtime",
          "Wasmtime",
          "Wasmtime",
          "Wasmtime",
          "Wasmtime",
          "Wasmtime",
          "Wasmtime",
          "Wasmtime",
          "Wasmtime",
          "Wasmtime",
          "Wasmtime",
          "Wasmtime",
          "Wasmtime",
          "Wasmtime",
          "Wasmtime",
          "Wasmtime",
          "Wasmtime",
          "Wasmtime",
          "Wasmtime"
         ],
         "x0": " ",
         "xaxis": "x",
         "y": {
          "bdata": "AAAAMEMfc0EAAABw7RNzQQAAADBwGnNBAAAAoPohc0EAAADA8BRzQQAAAEBq6nJBAAAAAA7tckEAAADg7/hyQQAAAODO6nJBAAAAAH34ckEAAACQJfFyQQAAACCs+nJBAAAAoM3wckEAAACQJOtyQQAAAGA983JBAAAAQFsPc0EAAADADQ9zQQAAAIDmCHNBAAAAMHEPc0EAAACAjQ1zQQAAAEDsCHNBAAAAQIQNc0EAAADAuQxzQQAAAOCL/3JBAAAAEH0Uc0EAAABghwlzQQAAAHAoBHNBAAAAICsNc0EAAABQ3hNzQQAAACBTCnNBAAAAYBgJc0EAAADg4BJzQQAAAMA4CXNBAAAAIJoNc0EAAABQSAZzQQAAALBkFHNBAAAA0AYPc0EAAADAIxRzQQAAAOAqA3NBAAAAACsDc0EAAACgmgtzQQAAALAp/nJBAAAAsI8Oc0EAAADACghzQQAAACAPCXNBAAAAoN0Gc0EAAABg/ANzQQAAAEC773JBAAAAgETickEAAACg9QJzQQAAAJDG5nJBAAAA8JsPc0EAAACATQ9zQQAAAHDdAnNBAAAAoBf8ckEAAACAgwtzQQAAABDBCnNBAAAAUGIJc0EAAABgWgRzQQAAADDTEXNBAAAAcCsGc0EAAADAkwtzQQAAAFAvCXNBAAAAgAsJc0EAAAAwdQhzQQAAAMD7BnNBAAAAIGEUc0EAAADAgwpzQQAAAMCBCXNBAAAAsJgPc0EAAABwrhBzQQAAAFA/CnNBAAAAcEkBc0EAAACgsAtzQQAAALAZCHNBAAAAoIADc0EAAACgdQtzQQAAAGANFnNBAAAAcMULc0EAAADgMQ5zQQAAABB8E3NBAAAAoIwGc0EAAAAwgAVzQQAAALCGB3NBAAAAgFMIc0EAAABAOOVyQQAAAPC9CHNBAAAAEBQHc0EAAADQ8g9zQQAAAPD0EXNBAAAAoKP8ckEAAABQcwtzQQAAAJDGBnNBAAAAcMsFc0EAAAAwzxNzQQAAAABDD3NBAAAA0GcQc0EAAABAlAlzQQAAAKAXB3NBAAAAkBT6ckE=",
          "dtype": "f8"
         },
         "y0": " ",
         "yaxis": "y"
        },
        {
         "alignmentgroup": "True",
         "hovertemplate": "Implementation=%{x}<br>Group=Runtime Setup<br>Time (ns)=%{y}<extra></extra>",
         "legendgroup": "Wasmtime",
         "marker": {
          "color": "#636efa"
         },
         "name": "Wasmtime",
         "notched": false,
         "offsetgroup": "Wasmtime",
         "orientation": "v",
         "showlegend": false,
         "type": "box",
         "x": [
          "Wasmtime",
          "Wasmtime",
          "Wasmtime",
          "Wasmtime",
          "Wasmtime",
          "Wasmtime",
          "Wasmtime",
          "Wasmtime",
          "Wasmtime",
          "Wasmtime",
          "Wasmtime",
          "Wasmtime",
          "Wasmtime",
          "Wasmtime",
          "Wasmtime",
          "Wasmtime",
          "Wasmtime",
          "Wasmtime",
          "Wasmtime",
          "Wasmtime",
          "Wasmtime",
          "Wasmtime",
          "Wasmtime",
          "Wasmtime",
          "Wasmtime",
          "Wasmtime",
          "Wasmtime",
          "Wasmtime",
          "Wasmtime",
          "Wasmtime",
          "Wasmtime",
          "Wasmtime",
          "Wasmtime",
          "Wasmtime",
          "Wasmtime",
          "Wasmtime",
          "Wasmtime",
          "Wasmtime",
          "Wasmtime",
          "Wasmtime",
          "Wasmtime",
          "Wasmtime",
          "Wasmtime",
          "Wasmtime",
          "Wasmtime",
          "Wasmtime",
          "Wasmtime",
          "Wasmtime",
          "Wasmtime",
          "Wasmtime",
          "Wasmtime",
          "Wasmtime",
          "Wasmtime",
          "Wasmtime",
          "Wasmtime",
          "Wasmtime",
          "Wasmtime",
          "Wasmtime",
          "Wasmtime",
          "Wasmtime",
          "Wasmtime",
          "Wasmtime",
          "Wasmtime",
          "Wasmtime",
          "Wasmtime",
          "Wasmtime",
          "Wasmtime",
          "Wasmtime",
          "Wasmtime",
          "Wasmtime",
          "Wasmtime",
          "Wasmtime",
          "Wasmtime",
          "Wasmtime",
          "Wasmtime",
          "Wasmtime",
          "Wasmtime",
          "Wasmtime",
          "Wasmtime",
          "Wasmtime",
          "Wasmtime",
          "Wasmtime",
          "Wasmtime",
          "Wasmtime",
          "Wasmtime",
          "Wasmtime",
          "Wasmtime",
          "Wasmtime",
          "Wasmtime",
          "Wasmtime",
          "Wasmtime",
          "Wasmtime",
          "Wasmtime",
          "Wasmtime",
          "Wasmtime",
          "Wasmtime",
          "Wasmtime",
          "Wasmtime",
          "Wasmtime",
          "Wasmtime"
         ],
         "x0": " ",
         "xaxis": "x2",
         "y": {
          "bdata": "AAAApMG8skEAAABU6LiyQQAAAEU3v7JBAAAAfDS1skEAAADH3riyQQAAAHtrurJBAAAAcSfDskEAAAB4m8KyQQAAAOr/urJBAAAAgqe2skEAAADbLrmyQQAAAPVuu7JBAAAAsxe2skEAAAA9JbqyQQAAABJVvrJBAAAAQk67skEAAAC1hsOyQQAAABwrvbJBAAAA+l+6skEAAADISrqyQQAAAAP9uLJBAAAAng+8skEAAABEmbmyQQAAAAMDt7JBAAAAM7a5skEAAAAGXrqyQQAAANADuLJBAAAASxe+skEAAADS7beyQQAAANc+ubJBAAAAAI+7skEAAAAzsLuyQQAAAGmlt7JBAAAAVKi+skEAAABqLL6yQQAAABVSuLJBAAAAS125skEAAABRX7myQQAAACwgurJBAAAA2m22skEAAACAwrqyQQAAAIQlt7JBAAAALbu2skEAAACZqLmyQQAAAAXztbJBAAAAUIa6skEAAACIH72yQQAAAFAIvbJBAAAAbMK5skEAAADIyrCyQQAAADfCvLJBAAAADde9skEAAAAJT7eyQQAAADk/v7JBAAAAQk+5skEAAAD6/7myQQAAAKvVu7JBAAAAT+22skEAAACX4beyQQAAABSEvbJBAAAA0A67skEAAADsI7eyQQAAAJx7u7JBAAAAGTa9skEAAAA9xLyyQQAAAG15uLJBAAAATDG1skEAAABqzrWyQQAAAChYubJBAAAAr9y7skEAAAD7HbWyQQAAAKcIuLJBAAAA0KWvskEAAADTo7qyQQAAANm2urJBAAAAtBa9skEAAAAk37qyQQAAAHhmt7JBAAAA/Fq7skEAAABPBbSyQQAAANNIu7JBAAAADdm2skEAAACjpbuyQQAAANfet7JBAAAA7Nm3skEAAADkE8CyQQAAAHsQvbJBAAAAcJa5skEAAACgHLuyQQAAAOKuuLJBAAAAkre6skEAAABQWL6yQQAAAPFAu7JBAAAAg+W8skEAAACrhb2yQQAAABARvrJBAAAAg+y4skEAAAAYTrmyQQAAAFKXvrJBAAAA8pa6skE=",
          "dtype": "f8"
         },
         "y0": " ",
         "yaxis": "y2"
        },
        {
         "alignmentgroup": "True",
         "hovertemplate": "Implementation=%{x}<br>Group=Hot Ping Pong Execution<br>Time (ns)=%{y}<extra></extra>",
         "legendgroup": "Wasmtime",
         "marker": {
          "color": "#636efa"
         },
         "name": "Wasmtime",
         "notched": false,
         "offsetgroup": "Wasmtime",
         "orientation": "v",
         "showlegend": false,
         "type": "box",
         "x": [
          "Wasmtime",
          "Wasmtime",
          "Wasmtime",
          "Wasmtime",
          "Wasmtime",
          "Wasmtime",
          "Wasmtime",
          "Wasmtime",
          "Wasmtime",
          "Wasmtime",
          "Wasmtime",
          "Wasmtime",
          "Wasmtime",
          "Wasmtime",
          "Wasmtime",
          "Wasmtime",
          "Wasmtime",
          "Wasmtime",
          "Wasmtime",
          "Wasmtime",
          "Wasmtime",
          "Wasmtime",
          "Wasmtime",
          "Wasmtime",
          "Wasmtime",
          "Wasmtime",
          "Wasmtime",
          "Wasmtime",
          "Wasmtime",
          "Wasmtime",
          "Wasmtime",
          "Wasmtime",
          "Wasmtime",
          "Wasmtime",
          "Wasmtime",
          "Wasmtime",
          "Wasmtime",
          "Wasmtime",
          "Wasmtime",
          "Wasmtime",
          "Wasmtime",
          "Wasmtime",
          "Wasmtime",
          "Wasmtime",
          "Wasmtime",
          "Wasmtime",
          "Wasmtime",
          "Wasmtime",
          "Wasmtime",
          "Wasmtime",
          "Wasmtime",
          "Wasmtime",
          "Wasmtime",
          "Wasmtime",
          "Wasmtime",
          "Wasmtime",
          "Wasmtime",
          "Wasmtime",
          "Wasmtime",
          "Wasmtime",
          "Wasmtime",
          "Wasmtime",
          "Wasmtime",
          "Wasmtime",
          "Wasmtime",
          "Wasmtime",
          "Wasmtime",
          "Wasmtime",
          "Wasmtime",
          "Wasmtime",
          "Wasmtime",
          "Wasmtime",
          "Wasmtime",
          "Wasmtime",
          "Wasmtime",
          "Wasmtime",
          "Wasmtime",
          "Wasmtime",
          "Wasmtime",
          "Wasmtime",
          "Wasmtime",
          "Wasmtime",
          "Wasmtime",
          "Wasmtime",
          "Wasmtime",
          "Wasmtime",
          "Wasmtime",
          "Wasmtime",
          "Wasmtime",
          "Wasmtime",
          "Wasmtime",
          "Wasmtime",
          "Wasmtime",
          "Wasmtime",
          "Wasmtime",
          "Wasmtime",
          "Wasmtime",
          "Wasmtime",
          "Wasmtime",
          "Wasmtime"
         ],
         "x0": " ",
         "xaxis": "x3",
         "y": {
          "bdata": "AAAAAKgpV0EAAAAgNSBnQQAAANAMV3FBAAAAkEoid0EAAABQDuV8QQAAAKBHWIFBAAAAUN06hEEAAAAIHyCHQQAAAJDwAYpBAAAA0AHpjEEAAAB4K82PQQAAAMT5V5FBAAAA8ALJkkEAAAB8czuUQQAAAMCfrZVBAAAAjMUel0EAAACYgI+YQQAAADBEAppBAAAADLx1m0EAAADkSuecQQAAAFglWp5BAAAAUA3Mn0EAAABojZ6gQQAAAB52V6FBAAAAfGEPokEAAAByXsqiQQAAAJDfgqNBAAAAFp46pEEAAAAmcPSkQQAAADqqrKVBAAAAXqVkpkEAAACqZyCnQQAAAMLh16dBAAAAHg+SqEEAAACouEmpQQAAANAaAqpBAAAAXG68qkEAAAD2r3SrQQAAACBzLqxBAAAAqqTmrEEAAABiW6CtQQAAACjvWK5BAAAATGcRr0EAAAAiVcmvQQAAAEoJQrBBAAAAieyesEEAAADHafqwQQAAAD4aV7FBAAAAaJazsUEAAADh7A+yQQAAAIk1bLJBAAAAyDrJskEAAABQDSWzQQAAAD21gbNBAAAAkFTfs0EAAADHfzu0QQAAAMPzlrRBAAAAAyH1tEEAAACyWlC1QQAAAKrprLVBAAAALeENtkEAAAAYOma2QQAAAFh+w7ZBAAAAZ7kft0EAAACQf3u3QQAAAF8M2rdBAAAAGuk1uEEAAADQ4JC4QQAAAFE/7rhBAAAA0IBJuUEAAACmZae5QQAAAJgrA7pBAAAALoVfukEAAAC6Nry6QQAAAE/rF7tBAAAAaCl0u0EAAAC7ptG7QQAAAJeNLbxBAAAAyzqKvEEAAAC4aue8QQAAAFOkQr1BAAAA7eefvUEAAAA08Py9QQAAANG9Wb5BAAAA0Wu1vkEAAACDtxC/QQAAAPrkbr9BAAAA34/Mv0EAAAA7AxTAQQAAAJdAQsBBAAAAce9vwEEAAIBtq57AQQAAAFpazMBBAAAABL77wEEAAADWPCnBQQAAgMKsV8FBAACA1VOFwUEAAIDXQbTBQQAAgIzw4cFBAACATS4QwkE=",
          "dtype": "f8"
         },
         "y0": " ",
         "yaxis": "y3"
        },
        {
         "alignmentgroup": "True",
         "hovertemplate": "Implementation=%{x}<br>Group=Cold Ping Pong Execution<br>Time (ns)=%{y}<extra></extra>",
         "legendgroup": "Native",
         "marker": {
          "color": "#EF553B"
         },
         "name": "Native",
         "notched": false,
         "offsetgroup": "Native",
         "orientation": "v",
         "showlegend": true,
         "type": "box",
         "x": [
          "Native",
          "Native",
          "Native",
          "Native",
          "Native",
          "Native",
          "Native",
          "Native",
          "Native",
          "Native",
          "Native",
          "Native",
          "Native",
          "Native",
          "Native",
          "Native",
          "Native",
          "Native",
          "Native",
          "Native",
          "Native",
          "Native",
          "Native",
          "Native",
          "Native",
          "Native",
          "Native",
          "Native",
          "Native",
          "Native",
          "Native",
          "Native",
          "Native",
          "Native",
          "Native",
          "Native",
          "Native",
          "Native",
          "Native",
          "Native",
          "Native",
          "Native",
          "Native",
          "Native",
          "Native",
          "Native",
          "Native",
          "Native",
          "Native",
          "Native",
          "Native",
          "Native",
          "Native",
          "Native",
          "Native",
          "Native",
          "Native",
          "Native",
          "Native",
          "Native",
          "Native",
          "Native",
          "Native",
          "Native",
          "Native",
          "Native",
          "Native",
          "Native",
          "Native",
          "Native",
          "Native",
          "Native",
          "Native",
          "Native",
          "Native",
          "Native",
          "Native",
          "Native",
          "Native",
          "Native",
          "Native",
          "Native",
          "Native",
          "Native",
          "Native",
          "Native",
          "Native",
          "Native",
          "Native",
          "Native",
          "Native",
          "Native",
          "Native",
          "Native",
          "Native",
          "Native",
          "Native",
          "Native",
          "Native",
          "Native"
         ],
         "x0": " ",
         "xaxis": "x",
         "y": {
          "bdata": "AAAAwF19VkEAAADAhHpmQQAAAMDr13BBAAAAYEB6dkEAAAAwpBV8QQAAAJDr2IBBAAAAkFWpg0EAAABI03eGQQAAAKhnRYlBAAAAWEcWjEEAAADoPeWOQQAAADyx2ZBBAAAAKNFBkkEAAABcNKmTQQAAAHj2FpVBAAAApLt4lkEAAACgn+CXQQAAAAxfSZlBAAAA6H+ymkEAAAAUShmcQQAAAOxPgJ1BAAAAEDPonkEAAACO0iegQQAAAEbD26BBAAAA2lSQoUEAAACg10OiQQAAAJYE96JBAAAAgCK5o0EAAAAG4o6kQQAAAIJERKVBAAAAsPL5pUEAAACYe7CmQQAAAEqOZKdBAAAAaG4aqEEAAACAgtGoQQAAABjWhqlBAAAA4h88qkEAAACmPPGqQQAAADgGpqtBAAAAUklbrEEAAADqfxGtQQAAAFwWx61BAAAAgu18rkEAAAAQBTKvQQAAAKLk6K9BAAAAs+9OsEEAAABM06iwQQAAAODQBLFBAAAAWihesUEAAACXmbyxQQAAAHtbF7JBAAAACstsskEAAAAnOMiyQQAAALaPJLNBAAAALvd9s0EAAACc49mzQQAAADN3NLRBAAAA7wqOtEEAAABst+q0QQAAAFjLQ7VBAAAA/uuftUEAAADsFvq1QQAAAOARVLZBAAAAcnuutkEAAAACkAm3QQAAAOjrY7dBAAAADzS+t0EAAAAAPxm4QQAAAJCLdLhBAAAAy+vPuEEAAACYESu5QQAAAHeChblBAAAApbDfuUEAAAAtyDq6QQAAAM9YlrpBAAAAFeTwukEAAAAnjEy7QQAAAJDIpLtBAAAAwCgBvEEAAADFKFu8QQAAABP1tbxBAAAAvtMOvUEAAAC6MGu9QQAAAAsOx71BAAAArdEhvkEAAABSA3y+QQAAAAPM1r5BAAAAdfkvv0EAAABsJo2/QQAAAM1l5r9BAAAA+wkhwEEAAAA7D07AQQAAAM0sfMBBAACAo3+pwEEAAIAJnNXAQQAAAJOlBcFBAACA5rAwwUEAAIAfA17BQQAAADGKi8FBAACA9je5wUE=",
          "dtype": "f8"
         },
         "y0": " ",
         "yaxis": "y"
        },
        {
         "alignmentgroup": "True",
         "hovertemplate": "Implementation=%{x}<br>Group=Runtime Setup<br>Time (ns)=%{y}<extra></extra>",
         "legendgroup": "Native",
         "marker": {
          "color": "#EF553B"
         },
         "name": "Native",
         "notched": false,
         "offsetgroup": "Native",
         "orientation": "v",
         "showlegend": false,
         "type": "box",
         "x": [
          "Native",
          "Native",
          "Native",
          "Native",
          "Native",
          "Native",
          "Native",
          "Native",
          "Native",
          "Native",
          "Native",
          "Native",
          "Native",
          "Native",
          "Native",
          "Native",
          "Native",
          "Native",
          "Native",
          "Native",
          "Native",
          "Native",
          "Native",
          "Native",
          "Native",
          "Native",
          "Native",
          "Native",
          "Native",
          "Native",
          "Native",
          "Native",
          "Native",
          "Native",
          "Native",
          "Native",
          "Native",
          "Native",
          "Native",
          "Native",
          "Native",
          "Native",
          "Native",
          "Native",
          "Native",
          "Native",
          "Native",
          "Native",
          "Native",
          "Native",
          "Native",
          "Native",
          "Native",
          "Native",
          "Native",
          "Native",
          "Native",
          "Native",
          "Native",
          "Native",
          "Native",
          "Native",
          "Native",
          "Native",
          "Native",
          "Native",
          "Native",
          "Native",
          "Native",
          "Native",
          "Native",
          "Native",
          "Native",
          "Native",
          "Native",
          "Native",
          "Native",
          "Native",
          "Native",
          "Native",
          "Native",
          "Native",
          "Native",
          "Native",
          "Native",
          "Native",
          "Native",
          "Native",
          "Native",
          "Native",
          "Native",
          "Native",
          "Native",
          "Native",
          "Native",
          "Native",
          "Native",
          "Native",
          "Native",
          "Native"
         ],
         "x0": " ",
         "xaxis": "x2",
         "y": {
          "bdata": "AAAAQHK1VkEAAADACLtmQQAAAADGEXFBAAAAQLG9dkEAAACwSl18QQAAAJi7BoFBAAAACHnfg0EAAACoAreGQQAAAKh2l4lBAAAAqOFYjEEAAADITEKPQQAAALiQEZFBAAAAzNqDkkEAAABMR+OTQQAAAMg9SpVBAAAAHBC5lkEAAACYSCSYQQAAACR4jJlBAAAAcDrXmkEAAABAfxOcQQAAALyKwZ1BAAAAoDo/n0EAAADA+lKgQQAAAF6qCKFBAAAAAsi9oUEAAAAInHiiQQAAAEL9cqNBAAAALjbqo0EAAAACC6ikQQAAADA+WaVBAAAAxC/2pUEAAAACnq+mQQAAAPBZaadBAAAA/tD2p0EAAABifaCoQQAAAPZkTKlBAAAAQLkKqkEAAABC5M+qQQAAAJidY6tBAAAAYE8VrEEAAADEDdGsQQAAAPA4ha1BAAAAhEMHrkEAAAAY/u+uQQAAAEY4nK9BAAAAxv42sEEAAAB7L5CwQQAAABtp27BBAAAAdXY5sUEAAAD+L56xQQAAAPfj8LFBAAAAJEBIskEAAADpz6WyQQAAAPa1/bJBAAAAk2N7s0EAAADZONWzQQAAAN+SMbRBAAAAKf2LtEEAAABbWuW0QQAAALe4LbVBAAAAZPiZtUEAAAC9VvK1QQAAAMY8RrZBAAAAGkSftkEAAAA4ePy2QQAAAFqzbbdBAAAAjdzKt0EAAAAHegi4QQAAANb4R7hBAAAAehOfuEEAAACqQ/a4QQAAAF3xTblBAAAAVQKsuUEAAAAAbQu6QQAAAJoRaLpBAAAA9lS+ukEAAACr5ha7QQAAADhsg7tBAAAA6JTfu0EAAABjjyy8QQAAAPG7fbxBAAAAz9zXvEEAAABZtCO9QQAAAME8hL1BAAAA9ZrdvUEAAABoYDu+QQAAACAUmL5BAAAA7O2+vkEAAAC+ekq/QQAAAE/xnr9BAAAA81YEwEEAAIAYgzPAQQAAAAZfT8BBAACA6mRjwEEAAADNcKfAQQAAgKgp5cBBAACAPz47wUEAAICjMTTBQQAAgNosZcFBAAAAv5+zwUE=",
          "dtype": "f8"
         },
         "y0": " ",
         "yaxis": "y2"
        },
        {
         "alignmentgroup": "True",
         "hovertemplate": "Implementation=%{x}<br>Group=Hot Ping Pong Execution<br>Time (ns)=%{y}<extra></extra>",
         "legendgroup": "Native",
         "marker": {
          "color": "#EF553B"
         },
         "name": "Native",
         "notched": false,
         "offsetgroup": "Native",
         "orientation": "v",
         "showlegend": false,
         "type": "box",
         "x": [
          "Native",
          "Native",
          "Native",
          "Native",
          "Native",
          "Native",
          "Native",
          "Native",
          "Native",
          "Native",
          "Native",
          "Native",
          "Native",
          "Native",
          "Native",
          "Native",
          "Native",
          "Native",
          "Native",
          "Native",
          "Native",
          "Native",
          "Native",
          "Native",
          "Native",
          "Native",
          "Native",
          "Native",
          "Native",
          "Native",
          "Native",
          "Native",
          "Native",
          "Native",
          "Native",
          "Native",
          "Native",
          "Native",
          "Native",
          "Native",
          "Native",
          "Native",
          "Native",
          "Native",
          "Native",
          "Native",
          "Native",
          "Native",
          "Native",
          "Native",
          "Native",
          "Native",
          "Native",
          "Native",
          "Native",
          "Native",
          "Native",
          "Native",
          "Native",
          "Native",
          "Native",
          "Native",
          "Native",
          "Native",
          "Native",
          "Native",
          "Native",
          "Native",
          "Native",
          "Native",
          "Native",
          "Native",
          "Native",
          "Native",
          "Native",
          "Native",
          "Native",
          "Native",
          "Native",
          "Native",
          "Native",
          "Native",
          "Native",
          "Native",
          "Native",
          "Native",
          "Native",
          "Native",
          "Native",
          "Native",
          "Native",
          "Native",
          "Native",
          "Native",
          "Native",
          "Native",
          "Native",
          "Native",
          "Native",
          "Native"
         ],
         "x0": " ",
         "xaxis": "x3",
         "y": {
          "bdata": "AAAAwPDGWEEAAACgU7poQQAAAHAnjHJBAAAAwG+4eEEAAABAlOR+QQAAAAhIi4JBAAAAiMmjhUEAAAAQUbuIQQAAAOhM0ItBAAAAcA7qjkEAAAAQ2f+QQQAAAGwRjJJBAAAA0GIWlEEAAAD8raKVQQAAACBULZdBAAAAGEa4mEEAAAA8REOaQQAAAITC3ZtBAAAAVHhdnUEAAAC0GOieQQAAAP6+OqBBAAAA0Nr/oEEAAABWm8ShQQAAAA4ni6JBAAAATuJQo0EAAACWLhikQQAAAMp03aRBAAAAeoyhpUEAAAAQGWamQQAAAFT+KqdBAAAA+MDyp0EAAADsxbeoQQAAADRAfalBAAAAVOtDqkEAAACSBwmrQQAAAHA4z6tBAAAA6syUrEEAAAB6f1qtQQAAALBwIK5BAAAAsJrlrkEAAACQIquvQQAAAKekOLBBAAAAUZyasEEAAABt2f6wQQAAAFXkYbFBAAAAzA/GsUEAAACdhSeyQQAAAJBVirJBAAAAa37uskEAAABts1CzQQAAAEUxs7NBAAAAYWMVtEEAAAADR3m0QQAAAB7l2rRBAAAAtvM8tUEAAABFr6C1QQAAAJsVBLZBAAAAwERltkEAAAA6mcm2QQAAAMLbLLdBAAAAS86Qt0EAAACbgvK3QQAAANo8VLhBAAAAMZG5uEEAAAA5mxu5QQAAACO3f7lBAAAABRzhuUEAAABIcEW6QQAAABUeprpBAAAAoIMIu0EAAAAEQ2y7QQAAAKkt0LtBAAAAzAAzvEEAAACb55W8QQAAAPFN+LxBAAAAudFbvUEAAABnGr69QQAAAJyYH75BAAAAnIKEvkEAAAAjMea+QQAAANatSr9BAAAAHrmxv0EAAIAEiAjAQQAAAKkqOsBBAACAsd5qwEEAAABdb53AQQAAACNezsBBAAAAGRcBwUEAAAB/XzHBQQAAAKTPYcFBAAAAE9mTwUEAAIC5ZcXBQQAAAJgu9sFBAACAUlsnwkEAAAA4/ljCQQAAgNPcisJBAACASi27wkEAAAAYE+zCQQAAAFxkHsNBAACAaqVPw0E=",
          "dtype": "f8"
         },
         "y0": " ",
         "yaxis": "y3"
        },
        {
         "alignmentgroup": "True",
         "hovertemplate": "Implementation=%{x}<br>Group=Cold Ping Pong Execution<br>Time (ns)=%{y}<extra></extra>",
         "legendgroup": "WAMR",
         "marker": {
          "color": "#00cc96"
         },
         "name": "WAMR",
         "notched": false,
         "offsetgroup": "WAMR",
         "orientation": "v",
         "showlegend": true,
         "type": "box",
         "x": [
          "WAMR",
          "WAMR",
          "WAMR",
          "WAMR",
          "WAMR",
          "WAMR",
          "WAMR",
          "WAMR",
          "WAMR",
          "WAMR",
          "WAMR",
          "WAMR",
          "WAMR",
          "WAMR",
          "WAMR",
          "WAMR",
          "WAMR",
          "WAMR",
          "WAMR",
          "WAMR",
          "WAMR",
          "WAMR",
          "WAMR",
          "WAMR",
          "WAMR",
          "WAMR",
          "WAMR",
          "WAMR",
          "WAMR",
          "WAMR",
          "WAMR",
          "WAMR",
          "WAMR",
          "WAMR",
          "WAMR",
          "WAMR",
          "WAMR",
          "WAMR",
          "WAMR",
          "WAMR",
          "WAMR",
          "WAMR",
          "WAMR",
          "WAMR",
          "WAMR",
          "WAMR",
          "WAMR",
          "WAMR",
          "WAMR",
          "WAMR",
          "WAMR",
          "WAMR",
          "WAMR",
          "WAMR",
          "WAMR",
          "WAMR",
          "WAMR",
          "WAMR",
          "WAMR",
          "WAMR",
          "WAMR",
          "WAMR",
          "WAMR",
          "WAMR",
          "WAMR",
          "WAMR",
          "WAMR",
          "WAMR",
          "WAMR",
          "WAMR",
          "WAMR",
          "WAMR",
          "WAMR",
          "WAMR",
          "WAMR",
          "WAMR",
          "WAMR",
          "WAMR",
          "WAMR",
          "WAMR",
          "WAMR",
          "WAMR",
          "WAMR",
          "WAMR",
          "WAMR",
          "WAMR",
          "WAMR",
          "WAMR",
          "WAMR",
          "WAMR",
          "WAMR",
          "WAMR",
          "WAMR",
          "WAMR",
          "WAMR",
          "WAMR",
          "WAMR",
          "WAMR",
          "WAMR",
          "WAMR"
         ],
         "x0": " ",
         "xaxis": "x",
         "y": {
          "bdata": "AAAAgETOQ0EAAACATi5TQQAAAMDStlxBAAAAwEAkY0EAAABgj+5nQQAAAIAZrGxBAAAAEMO3cEEAAABgLhlzQQAAADBgfXVBAAAAQGfhd0EAAABwr096QQAAALDAs3xBAAAA4NkOf0EAAACwObiAQQAAAMhN64FBAAAAWLQgg0EAAADQF06EQQAAAPgViYVBAAAAiG6whkEAAABAQeOHQQAAAOiYH4lBAAAAMAtOikEAAAC4u4OLQQAAAMDZuIxBAAAASBQJjkEAAACIRSiPQQAAACgLMpBBAAAAgNbCkEEAAACIRGGRQQAAAEQJ9pFBAAAAUM6akkEAAACkHUCTQQAAAGztypNBAAAAXIFklEEAAAC0ZP2UQQAAAIxDqpVBAAAAVA4/lkEAAAAk1NqWQQAAAIRQc5dBAAAAyEcPmEEAAACA/7OYQQAAANSbTplBAAAAhIbgmUEAAABg6XuaQQAAADAJHJtBAAAAIBzNm0EAAADYDWicQQAAAOCZ/ZxBAAAAtD2XnUEAAAAYdzGeQQAAABxK255BAAAAGAWBn0EAAACutBWgQQAAAMyOVqBBAAAAMhOkoEEAAAC47PWgQQAAAKRCRKFBAAAAQFySoUEAAABWQ+ChQQAAAPy9LKJBAAAA0vJ+okEAAABcD8yiQQAAAFonGKNBAAAA4mJpo0EAAABq2rajQQAAAEgZCKRBAAAA/IpWpEEAAABiaKKkQQAAAGq98KRBAAAAihc/pUEAAABUBo+lQQAAAKrY36VBAAAA5G4rpkEAAAAWIHqmQQAAAPo9yaZBAAAAiokap0EAAACKS2WnQQAAAB4DtqdBAAAAsJ4DqEEAAAC+PlOoQQAAAJzOoqhBAAAAvvDwqEEAAAD+3D+pQQAAAPQ8jalBAAAATNHaqUEAAADyPyeqQQAAAL6FeKpBAAAACsbFqkEAAAAUlhSrQQAAAEaLY6tBAAAAPOqwq0EAAAAg9AGsQQAAAKBKTKxBAAAAHMKarEEAAACaKeisQQAAAPQHOa1BAAAAzHSGrUEAAACSstatQQAAAELpJK5BAAAAEuRvrkE=",
          "dtype": "f8"
         },
         "y0": " ",
         "yaxis": "y"
        },
        {
         "alignmentgroup": "True",
         "hovertemplate": "Implementation=%{x}<br>Group=Runtime Setup<br>Time (ns)=%{y}<extra></extra>",
         "legendgroup": "WAMR",
         "marker": {
          "color": "#00cc96"
         },
         "name": "WAMR",
         "notched": false,
         "offsetgroup": "WAMR",
         "orientation": "v",
         "showlegend": false,
         "type": "box",
         "x": [
          "WAMR",
          "WAMR",
          "WAMR",
          "WAMR",
          "WAMR",
          "WAMR",
          "WAMR",
          "WAMR",
          "WAMR",
          "WAMR",
          "WAMR",
          "WAMR",
          "WAMR",
          "WAMR",
          "WAMR",
          "WAMR",
          "WAMR",
          "WAMR",
          "WAMR",
          "WAMR",
          "WAMR",
          "WAMR",
          "WAMR",
          "WAMR",
          "WAMR",
          "WAMR",
          "WAMR",
          "WAMR",
          "WAMR",
          "WAMR",
          "WAMR",
          "WAMR",
          "WAMR",
          "WAMR",
          "WAMR",
          "WAMR",
          "WAMR",
          "WAMR",
          "WAMR",
          "WAMR",
          "WAMR",
          "WAMR",
          "WAMR",
          "WAMR",
          "WAMR",
          "WAMR",
          "WAMR",
          "WAMR",
          "WAMR",
          "WAMR",
          "WAMR",
          "WAMR",
          "WAMR",
          "WAMR",
          "WAMR",
          "WAMR",
          "WAMR",
          "WAMR",
          "WAMR",
          "WAMR",
          "WAMR",
          "WAMR",
          "WAMR",
          "WAMR",
          "WAMR",
          "WAMR",
          "WAMR",
          "WAMR",
          "WAMR",
          "WAMR",
          "WAMR",
          "WAMR",
          "WAMR",
          "WAMR",
          "WAMR",
          "WAMR",
          "WAMR",
          "WAMR",
          "WAMR",
          "WAMR",
          "WAMR",
          "WAMR",
          "WAMR",
          "WAMR",
          "WAMR",
          "WAMR",
          "WAMR",
          "WAMR",
          "WAMR",
          "WAMR",
          "WAMR",
          "WAMR",
          "WAMR",
          "WAMR",
          "WAMR",
          "WAMR",
          "WAMR",
          "WAMR",
          "WAMR",
          "WAMR"
         ],
         "x0": " ",
         "xaxis": "x2",
         "y": {
          "bdata": "AAAAANbGWUEAAADgq61pQQAAAACuQ3NBAAAAgBy3eUEAAADIyxKAQQAAAEgLSYNBAAAAmJJ8hkEAAACY6ryJQQAAAEg26IxBAAAAvGcPkEEAAAAwrqmRQQAAAHh7RJNBAAAA5PjelEEAAAC8PnmWQQAAANT1FJhBAAAAyLOvmUEAAAA8fU2bQQAAADAp65xBAAAA2KyLnkEAAACuMA6gQQAAAIC826BBAAAAhCSqoUEAAAAGkXaiQQAAAJwERaNBAAAAmiYTpEEAAACu+eGkQQAAABKFraVBAAAAlA57pkEAAADoLkinQQAAADiMFqhBAAAA+J7pqEEAAADApbGpQQAAAJZgfapBAAAA0pVLq0EAAAA6bRisQQAAAFQT6axBAAAAyHyzrUEAAAAOpICuQQAAAK6cUq9BAAAArjURsEEAAADNS3WwQQAAALjT27BBAAAAEBxEsUEAAACTm6exQQAAAJT8DbJBAAAAk8N1skEAAABcYt6yQQAAAPajQ7NBAAAA+o6ps0EAAAD8vBG0QQAAAKJ5drRBAAAAKLPitEEAAACOmke1QQAAAJaBq7VBAAAARWgTtkEAAAD5Snu2QQAAABw04LZBAAAAUFRLt0EAAAB71K63QQAAAIUFFbhBAAAAGpmAuEEAAACwm+K4QQAAAI56SrlBAAAAlbCvuUEAAABVMBe6QQAAAMU8frpBAAAA02PjukEAAAA52Ey7QQAAAJhisbtBAAAA9i8ZvEEAAACDyH28QQAAACmb57xBAAAAGexLvUEAAAAJSLO9QQAAAJsxGb5BAAAAM2aCvkEAAABy2+W+QQAAAFNlT79BAAAAxt60v0EAAIBOqg7AQQAAgIAmQMBBAACAbe1zwEEAAIB+IKfAQQAAALvg2sBBAACA3XYOwUEAAIBoiELBQQAAgJ6ndcFBAACAcvWnwUEAAIBU9NzBQQAAAPajD8JBAACAdmVDwkEAAIAnlHbCQQAAgIVwqMJBAACAnmbewkEAAIB8VhHDQQAAAJW5Q8NBAACA5x94w0EAAACmZqvDQQAAAFxV38NBAAAAp+wSxEE=",
          "dtype": "f8"
         },
         "y0": " ",
         "yaxis": "y2"
        },
        {
         "alignmentgroup": "True",
         "hovertemplate": "Implementation=%{x}<br>Group=Hot Ping Pong Execution<br>Time (ns)=%{y}<extra></extra>",
         "legendgroup": "WAMR",
         "marker": {
          "color": "#00cc96"
         },
         "name": "WAMR",
         "notched": false,
         "offsetgroup": "WAMR",
         "orientation": "v",
         "showlegend": false,
         "type": "box",
         "x": [
          "WAMR",
          "WAMR",
          "WAMR",
          "WAMR",
          "WAMR",
          "WAMR",
          "WAMR",
          "WAMR",
          "WAMR",
          "WAMR",
          "WAMR",
          "WAMR",
          "WAMR",
          "WAMR",
          "WAMR",
          "WAMR",
          "WAMR",
          "WAMR",
          "WAMR",
          "WAMR",
          "WAMR",
          "WAMR",
          "WAMR",
          "WAMR",
          "WAMR",
          "WAMR",
          "WAMR",
          "WAMR",
          "WAMR",
          "WAMR",
          "WAMR",
          "WAMR",
          "WAMR",
          "WAMR",
          "WAMR",
          "WAMR",
          "WAMR",
          "WAMR",
          "WAMR",
          "WAMR",
          "WAMR",
          "WAMR",
          "WAMR",
          "WAMR",
          "WAMR",
          "WAMR",
          "WAMR",
          "WAMR",
          "WAMR",
          "WAMR",
          "WAMR",
          "WAMR",
          "WAMR",
          "WAMR",
          "WAMR",
          "WAMR",
          "WAMR",
          "WAMR",
          "WAMR",
          "WAMR",
          "WAMR",
          "WAMR",
          "WAMR",
          "WAMR",
          "WAMR",
          "WAMR",
          "WAMR",
          "WAMR",
          "WAMR",
          "WAMR",
          "WAMR",
          "WAMR",
          "WAMR",
          "WAMR",
          "WAMR",
          "WAMR",
          "WAMR",
          "WAMR",
          "WAMR",
          "WAMR",
          "WAMR",
          "WAMR",
          "WAMR",
          "WAMR",
          "WAMR",
          "WAMR",
          "WAMR",
          "WAMR",
          "WAMR",
          "WAMR",
          "WAMR",
          "WAMR",
          "WAMR",
          "WAMR",
          "WAMR",
          "WAMR",
          "WAMR",
          "WAMR",
          "WAMR",
          "WAMR"
         ],
         "x0": " ",
         "xaxis": "x3",
         "y": {
          "bdata": "AAAAwIkkV0EAAABggBVnQQAAABCRUHFBAAAAYFcXd0EAAAAgAdx8QQAAAEDCUIFBAAAAWPEzhEEAAACI5haHQQAAAAhn+IlBAAAACEDdjEEAAAB4YL6PQQAAANDWUJFBAAAAyPLBkkEAAACgojOUQQAAAAg7pZVBAAAAlEwWl0EAAADk9IeYQQAAAPDm+JlBAAAAbCBqm0EAAABUo9qcQQAAAFzeTJ5BAAAAxES/n0EAAAAOmpegQQAAAAQrUaFBAAAAdoIJokEAAABQPsKiQQAAAFa4eqNBAAAAdIkzpEEAAABA9+ykQQAAAIzQpKVBAAAA0mldpkEAAAAixxanQQAAAOIUz6dBAAAA3kaJqEEAAABSzEGpQQAAAJY9+alBAAAAIgOyqkEAAADGl2qrQQAAAPCCI6xBAAAAnvjbrEEAAAAu+JStQQAAAD6uTa5BAAAAyrIFr0EAAABg4b6vQQAAAPcMPLBBAAAAl+yXsEEAAABfg/SwQQAAAF3PULFBAAAAky2tsUEAAAB4lAmyQQAAAETiZbJBAAAAsorBskEAAADFBR6zQQAAAKPQerNBAAAAT03Xs0EAAACNnDO0QQAAAL7nkLRBAAAA00bstEEAAACluEi1QQAAAD0NpbVBAAAASHoBtkEAAADTuV22QQAAAJvNurZBAAAAmbMWt0EAAACRe3K3QQAAAF0Zz7dBAAAA+ZAruEEAAABROIe4QQAAAIEi5LhBAAAAN6hAuUEAAAB+N6G5QQAAAJKM+LlBAAAA/FpVukEAAADvFbK6QQAAAOBSDrtBAAAAJcxqu0EAAAAUJce7QQAAAFpaI7xBAAAAJ4F/vEEAAAACrNq8QQAAAK1VOL1BAAAABtuUvUEAAADkP/G9QQAAABZeTb5BAAAAp/SpvkEAAAA1/AW/QQAAAIXZYr9BAAAA+J++v0EAAIC7tA3AQQAAAGUNO8BBAACAwFtpwEEAAADjD5jAQQAAgIk/xsBBAACAlYD0wEEAAIC9ECXBQQAAgPbkVMFBAACAnUqEwUEAAIBaYrHBQQAAABIX4MFBAAAAPVkOwkE=",
          "dtype": "f8"
         },
         "y0": " ",
         "yaxis": "y3"
        }
       ],
       "layout": {
        "annotations": [
         {
          "font": {},
          "showarrow": false,
          "text": "Group=Cold Ping Pong Execution",
          "x": 0.15999999999999998,
          "xanchor": "center",
          "xref": "paper",
          "y": 1,
          "yanchor": "bottom",
          "yref": "paper"
         },
         {
          "font": {},
          "showarrow": false,
          "text": "Group=Runtime Setup",
          "x": 0.49999999999999994,
          "xanchor": "center",
          "xref": "paper",
          "y": 1,
          "yanchor": "bottom",
          "yref": "paper"
         },
         {
          "font": {},
          "showarrow": false,
          "text": "Group=Hot Ping Pong Execution",
          "x": 0.8399999999999999,
          "xanchor": "center",
          "xref": "paper",
          "y": 1,
          "yanchor": "bottom",
          "yref": "paper"
         }
        ],
        "boxmode": "overlay",
        "font": {
         "size": 12
        },
        "height": 500,
        "legend": {
         "title": {
          "text": "Implementation"
         },
         "tracegroupgap": 0
        },
        "showlegend": false,
        "template": {
         "data": {
          "bar": [
           {
            "error_x": {
             "color": "#2a3f5f"
            },
            "error_y": {
             "color": "#2a3f5f"
            },
            "marker": {
             "line": {
              "color": "#E5ECF6",
              "width": 0.5
             },
             "pattern": {
              "fillmode": "overlay",
              "size": 10,
              "solidity": 0.2
             }
            },
            "type": "bar"
           }
          ],
          "barpolar": [
           {
            "marker": {
             "line": {
              "color": "#E5ECF6",
              "width": 0.5
             },
             "pattern": {
              "fillmode": "overlay",
              "size": 10,
              "solidity": 0.2
             }
            },
            "type": "barpolar"
           }
          ],
          "carpet": [
           {
            "aaxis": {
             "endlinecolor": "#2a3f5f",
             "gridcolor": "white",
             "linecolor": "white",
             "minorgridcolor": "white",
             "startlinecolor": "#2a3f5f"
            },
            "baxis": {
             "endlinecolor": "#2a3f5f",
             "gridcolor": "white",
             "linecolor": "white",
             "minorgridcolor": "white",
             "startlinecolor": "#2a3f5f"
            },
            "type": "carpet"
           }
          ],
          "choropleth": [
           {
            "colorbar": {
             "outlinewidth": 0,
             "ticks": ""
            },
            "type": "choropleth"
           }
          ],
          "contour": [
           {
            "colorbar": {
             "outlinewidth": 0,
             "ticks": ""
            },
            "colorscale": [
             [
              0,
              "#0d0887"
             ],
             [
              0.1111111111111111,
              "#46039f"
             ],
             [
              0.2222222222222222,
              "#7201a8"
             ],
             [
              0.3333333333333333,
              "#9c179e"
             ],
             [
              0.4444444444444444,
              "#bd3786"
             ],
             [
              0.5555555555555556,
              "#d8576b"
             ],
             [
              0.6666666666666666,
              "#ed7953"
             ],
             [
              0.7777777777777778,
              "#fb9f3a"
             ],
             [
              0.8888888888888888,
              "#fdca26"
             ],
             [
              1,
              "#f0f921"
             ]
            ],
            "type": "contour"
           }
          ],
          "contourcarpet": [
           {
            "colorbar": {
             "outlinewidth": 0,
             "ticks": ""
            },
            "type": "contourcarpet"
           }
          ],
          "heatmap": [
           {
            "colorbar": {
             "outlinewidth": 0,
             "ticks": ""
            },
            "colorscale": [
             [
              0,
              "#0d0887"
             ],
             [
              0.1111111111111111,
              "#46039f"
             ],
             [
              0.2222222222222222,
              "#7201a8"
             ],
             [
              0.3333333333333333,
              "#9c179e"
             ],
             [
              0.4444444444444444,
              "#bd3786"
             ],
             [
              0.5555555555555556,
              "#d8576b"
             ],
             [
              0.6666666666666666,
              "#ed7953"
             ],
             [
              0.7777777777777778,
              "#fb9f3a"
             ],
             [
              0.8888888888888888,
              "#fdca26"
             ],
             [
              1,
              "#f0f921"
             ]
            ],
            "type": "heatmap"
           }
          ],
          "histogram": [
           {
            "marker": {
             "pattern": {
              "fillmode": "overlay",
              "size": 10,
              "solidity": 0.2
             }
            },
            "type": "histogram"
           }
          ],
          "histogram2d": [
           {
            "colorbar": {
             "outlinewidth": 0,
             "ticks": ""
            },
            "colorscale": [
             [
              0,
              "#0d0887"
             ],
             [
              0.1111111111111111,
              "#46039f"
             ],
             [
              0.2222222222222222,
              "#7201a8"
             ],
             [
              0.3333333333333333,
              "#9c179e"
             ],
             [
              0.4444444444444444,
              "#bd3786"
             ],
             [
              0.5555555555555556,
              "#d8576b"
             ],
             [
              0.6666666666666666,
              "#ed7953"
             ],
             [
              0.7777777777777778,
              "#fb9f3a"
             ],
             [
              0.8888888888888888,
              "#fdca26"
             ],
             [
              1,
              "#f0f921"
             ]
            ],
            "type": "histogram2d"
           }
          ],
          "histogram2dcontour": [
           {
            "colorbar": {
             "outlinewidth": 0,
             "ticks": ""
            },
            "colorscale": [
             [
              0,
              "#0d0887"
             ],
             [
              0.1111111111111111,
              "#46039f"
             ],
             [
              0.2222222222222222,
              "#7201a8"
             ],
             [
              0.3333333333333333,
              "#9c179e"
             ],
             [
              0.4444444444444444,
              "#bd3786"
             ],
             [
              0.5555555555555556,
              "#d8576b"
             ],
             [
              0.6666666666666666,
              "#ed7953"
             ],
             [
              0.7777777777777778,
              "#fb9f3a"
             ],
             [
              0.8888888888888888,
              "#fdca26"
             ],
             [
              1,
              "#f0f921"
             ]
            ],
            "type": "histogram2dcontour"
           }
          ],
          "mesh3d": [
           {
            "colorbar": {
             "outlinewidth": 0,
             "ticks": ""
            },
            "type": "mesh3d"
           }
          ],
          "parcoords": [
           {
            "line": {
             "colorbar": {
              "outlinewidth": 0,
              "ticks": ""
             }
            },
            "type": "parcoords"
           }
          ],
          "pie": [
           {
            "automargin": true,
            "type": "pie"
           }
          ],
          "scatter": [
           {
            "fillpattern": {
             "fillmode": "overlay",
             "size": 10,
             "solidity": 0.2
            },
            "type": "scatter"
           }
          ],
          "scatter3d": [
           {
            "line": {
             "colorbar": {
              "outlinewidth": 0,
              "ticks": ""
             }
            },
            "marker": {
             "colorbar": {
              "outlinewidth": 0,
              "ticks": ""
             }
            },
            "type": "scatter3d"
           }
          ],
          "scattercarpet": [
           {
            "marker": {
             "colorbar": {
              "outlinewidth": 0,
              "ticks": ""
             }
            },
            "type": "scattercarpet"
           }
          ],
          "scattergeo": [
           {
            "marker": {
             "colorbar": {
              "outlinewidth": 0,
              "ticks": ""
             }
            },
            "type": "scattergeo"
           }
          ],
          "scattergl": [
           {
            "marker": {
             "colorbar": {
              "outlinewidth": 0,
              "ticks": ""
             }
            },
            "type": "scattergl"
           }
          ],
          "scattermap": [
           {
            "marker": {
             "colorbar": {
              "outlinewidth": 0,
              "ticks": ""
             }
            },
            "type": "scattermap"
           }
          ],
          "scattermapbox": [
           {
            "marker": {
             "colorbar": {
              "outlinewidth": 0,
              "ticks": ""
             }
            },
            "type": "scattermapbox"
           }
          ],
          "scatterpolar": [
           {
            "marker": {
             "colorbar": {
              "outlinewidth": 0,
              "ticks": ""
             }
            },
            "type": "scatterpolar"
           }
          ],
          "scatterpolargl": [
           {
            "marker": {
             "colorbar": {
              "outlinewidth": 0,
              "ticks": ""
             }
            },
            "type": "scatterpolargl"
           }
          ],
          "scatterternary": [
           {
            "marker": {
             "colorbar": {
              "outlinewidth": 0,
              "ticks": ""
             }
            },
            "type": "scatterternary"
           }
          ],
          "surface": [
           {
            "colorbar": {
             "outlinewidth": 0,
             "ticks": ""
            },
            "colorscale": [
             [
              0,
              "#0d0887"
             ],
             [
              0.1111111111111111,
              "#46039f"
             ],
             [
              0.2222222222222222,
              "#7201a8"
             ],
             [
              0.3333333333333333,
              "#9c179e"
             ],
             [
              0.4444444444444444,
              "#bd3786"
             ],
             [
              0.5555555555555556,
              "#d8576b"
             ],
             [
              0.6666666666666666,
              "#ed7953"
             ],
             [
              0.7777777777777778,
              "#fb9f3a"
             ],
             [
              0.8888888888888888,
              "#fdca26"
             ],
             [
              1,
              "#f0f921"
             ]
            ],
            "type": "surface"
           }
          ],
          "table": [
           {
            "cells": {
             "fill": {
              "color": "#EBF0F8"
             },
             "line": {
              "color": "white"
             }
            },
            "header": {
             "fill": {
              "color": "#C8D4E3"
             },
             "line": {
              "color": "white"
             }
            },
            "type": "table"
           }
          ]
         },
         "layout": {
          "annotationdefaults": {
           "arrowcolor": "#2a3f5f",
           "arrowhead": 0,
           "arrowwidth": 1
          },
          "autotypenumbers": "strict",
          "coloraxis": {
           "colorbar": {
            "outlinewidth": 0,
            "ticks": ""
           }
          },
          "colorscale": {
           "diverging": [
            [
             0,
             "#8e0152"
            ],
            [
             0.1,
             "#c51b7d"
            ],
            [
             0.2,
             "#de77ae"
            ],
            [
             0.3,
             "#f1b6da"
            ],
            [
             0.4,
             "#fde0ef"
            ],
            [
             0.5,
             "#f7f7f7"
            ],
            [
             0.6,
             "#e6f5d0"
            ],
            [
             0.7,
             "#b8e186"
            ],
            [
             0.8,
             "#7fbc41"
            ],
            [
             0.9,
             "#4d9221"
            ],
            [
             1,
             "#276419"
            ]
           ],
           "sequential": [
            [
             0,
             "#0d0887"
            ],
            [
             0.1111111111111111,
             "#46039f"
            ],
            [
             0.2222222222222222,
             "#7201a8"
            ],
            [
             0.3333333333333333,
             "#9c179e"
            ],
            [
             0.4444444444444444,
             "#bd3786"
            ],
            [
             0.5555555555555556,
             "#d8576b"
            ],
            [
             0.6666666666666666,
             "#ed7953"
            ],
            [
             0.7777777777777778,
             "#fb9f3a"
            ],
            [
             0.8888888888888888,
             "#fdca26"
            ],
            [
             1,
             "#f0f921"
            ]
           ],
           "sequentialminus": [
            [
             0,
             "#0d0887"
            ],
            [
             0.1111111111111111,
             "#46039f"
            ],
            [
             0.2222222222222222,
             "#7201a8"
            ],
            [
             0.3333333333333333,
             "#9c179e"
            ],
            [
             0.4444444444444444,
             "#bd3786"
            ],
            [
             0.5555555555555556,
             "#d8576b"
            ],
            [
             0.6666666666666666,
             "#ed7953"
            ],
            [
             0.7777777777777778,
             "#fb9f3a"
            ],
            [
             0.8888888888888888,
             "#fdca26"
            ],
            [
             1,
             "#f0f921"
            ]
           ]
          },
          "colorway": [
           "#636efa",
           "#EF553B",
           "#00cc96",
           "#ab63fa",
           "#FFA15A",
           "#19d3f3",
           "#FF6692",
           "#B6E880",
           "#FF97FF",
           "#FECB52"
          ],
          "font": {
           "color": "#2a3f5f"
          },
          "geo": {
           "bgcolor": "white",
           "lakecolor": "white",
           "landcolor": "#E5ECF6",
           "showlakes": true,
           "showland": true,
           "subunitcolor": "white"
          },
          "hoverlabel": {
           "align": "left"
          },
          "hovermode": "closest",
          "mapbox": {
           "style": "light"
          },
          "paper_bgcolor": "white",
          "plot_bgcolor": "#E5ECF6",
          "polar": {
           "angularaxis": {
            "gridcolor": "white",
            "linecolor": "white",
            "ticks": ""
           },
           "bgcolor": "#E5ECF6",
           "radialaxis": {
            "gridcolor": "white",
            "linecolor": "white",
            "ticks": ""
           }
          },
          "scene": {
           "xaxis": {
            "backgroundcolor": "#E5ECF6",
            "gridcolor": "white",
            "gridwidth": 2,
            "linecolor": "white",
            "showbackground": true,
            "ticks": "",
            "zerolinecolor": "white"
           },
           "yaxis": {
            "backgroundcolor": "#E5ECF6",
            "gridcolor": "white",
            "gridwidth": 2,
            "linecolor": "white",
            "showbackground": true,
            "ticks": "",
            "zerolinecolor": "white"
           },
           "zaxis": {
            "backgroundcolor": "#E5ECF6",
            "gridcolor": "white",
            "gridwidth": 2,
            "linecolor": "white",
            "showbackground": true,
            "ticks": "",
            "zerolinecolor": "white"
           }
          },
          "shapedefaults": {
           "line": {
            "color": "#2a3f5f"
           }
          },
          "ternary": {
           "aaxis": {
            "gridcolor": "white",
            "linecolor": "white",
            "ticks": ""
           },
           "baxis": {
            "gridcolor": "white",
            "linecolor": "white",
            "ticks": ""
           },
           "bgcolor": "#E5ECF6",
           "caxis": {
            "gridcolor": "white",
            "linecolor": "white",
            "ticks": ""
           }
          },
          "title": {
           "x": 0.05
          },
          "xaxis": {
           "automargin": true,
           "gridcolor": "white",
           "linecolor": "white",
           "ticks": "",
           "title": {
            "standoff": 15
           },
           "zerolinecolor": "white",
           "zerolinewidth": 2
          },
          "yaxis": {
           "automargin": true,
           "gridcolor": "white",
           "linecolor": "white",
           "ticks": "",
           "title": {
            "standoff": 15
           },
           "zerolinecolor": "white",
           "zerolinewidth": 2
          }
         }
        },
        "title": {
         "font": {
          "size": 16
         },
         "text": "Execution Time Distribution (Box Plots)"
        },
        "xaxis": {
         "anchor": "y",
         "categoryarray": [
          "Wasmtime",
          "Native",
          "WAMR"
         ],
         "categoryorder": "array",
         "domain": [
          0,
          0.31999999999999995
         ],
         "tickangle": 45,
         "title": {
          "text": "Implementation"
         }
        },
        "xaxis2": {
         "anchor": "y2",
         "categoryarray": [
          "Wasmtime",
          "Native",
          "WAMR"
         ],
         "categoryorder": "array",
         "domain": [
          0.33999999999999997,
          0.6599999999999999
         ],
         "matches": "x",
         "tickangle": 45,
         "title": {
          "text": "Implementation"
         }
        },
        "xaxis3": {
         "anchor": "y3",
         "categoryarray": [
          "Wasmtime",
          "Native",
          "WAMR"
         ],
         "categoryorder": "array",
         "domain": [
          0.6799999999999999,
          0.9999999999999999
         ],
         "matches": "x",
         "tickangle": 45,
         "title": {
          "text": "Implementation"
         }
        },
        "yaxis": {
         "anchor": "x",
         "domain": [
          0,
          1
         ],
         "title": {
          "text": "Time (ns)"
         }
        },
        "yaxis2": {
         "anchor": "x2",
         "domain": [
          0,
          1
         ],
         "matches": "y",
         "showticklabels": false
        },
        "yaxis3": {
         "anchor": "x3",
         "domain": [
          0,
          1
         ],
         "matches": "y",
         "showticklabels": false
        }
       }
      },
      "image/png": "[encoded data removed]"
     },
     "metadata": {},
     "output_type": "display_data"
    }
   ],
   "source": [
    "# Box plots showing distribution\n",
    "if not df.empty:\n",
    "    raw_data = analyzer.get_raw_data()\n",
    "    \n",
    "    # Prepare data for box plots\n",
    "    plot_data = []\n",
    "    for group_name, group_data in raw_data.items():\n",
    "        for impl_name, times in group_data.items():\n",
    "            for time in times:\n",
    "                plot_data.append({\n",
    "                    'Group': group_name,\n",
    "                    'Implementation': impl_name,\n",
    "                    'Time (ns)': time\n",
    "                })\n",
    "    \n",
    "    if plot_data:\n",
    "        plot_df = pd.DataFrame(plot_data)\n",
    "        \n",
    "        fig = px.box(\n",
    "            plot_df,\n",
    "            x='Implementation',\n",
    "            y='Time (ns)',\n",
    "            color='Implementation',\n",
    "            facet_col='Group',\n",
    "            title='Execution Time Distribution (Box Plots)',\n",
    "            height=500\n",
    "        )\n",
    "        \n",
    "        fig.update_layout(\n",
    "            showlegend=False,\n",
    "            font=dict(size=12),\n",
    "            title_font_size=16\n",
    "        )\n",
    "        \n",
    "        fig.update_xaxes(tickangle=45)\n",
    "        fig.show()\n",
    "else:\n",
    "    print(\"❌ No raw data available for distribution plots.\")"
   ]
  },
  {
   "cell_type": "code",
   "execution_count": 16,
   "metadata": {},
   "outputs": [
    {
     "data": {
      "application/vnd.plotly.v1+json": {
       "config": {
        "plotlyServerURL": "https://plot.ly"
       },
       "data": [
        {
         "coloraxis": "coloraxis",
         "hovertemplate": "x: %{x}<br>y: %{y}<br>Relative Performance: %{z}<extra></extra>",
         "name": "0",
         "texttemplate": "%{z:.2f}",
         "type": "heatmap",
         "x": [
          "Cold Ping Pong Execution",
          "Hot Ping Pong Execution",
          "Runtime Setup"
         ],
         "xaxis": "x",
         "y": [
          "Native",
          "WAMR",
          "Wasmtime"
         ],
         "yaxis": "y",
         "z": {
          "bdata": "dCwFQOYULkCb7FNydyHxPwAAAAAAAPA/fbQiR8y6GUAAAAAAAADwPxIydZquOPI/AAAAAAAA8D9VIKX5rQXwP1rU1+Wh1fA/",
          "dtype": "f8",
          "shape": "3, 3"
         }
        }
       ],
       "layout": {
        "coloraxis": {
         "colorbar": {
          "title": {
           "text": "Relative Performance"
          }
         },
         "colorscale": [
          [
           0,
           "rgb(0,104,55)"
          ],
          [
           0.1,
           "rgb(26,152,80)"
          ],
          [
           0.2,
           "rgb(102,189,99)"
          ],
          [
           0.3,
           "rgb(166,217,106)"
          ],
          [
           0.4,
           "rgb(217,239,139)"
          ],
          [
           0.5,
           "rgb(255,255,191)"
          ],
          [
           0.6,
           "rgb(254,224,139)"
          ],
          [
           0.7,
           "rgb(253,174,97)"
          ],
          [
           0.8,
           "rgb(244,109,67)"
          ],
          [
           0.9,
           "rgb(215,48,39)"
          ],
          [
           1,
           "rgb(165,0,38)"
          ]
         ]
        },
        "font": {
         "size": 12
        },
        "height": 400,
        "template": {
         "data": {
          "bar": [
           {
            "error_x": {
             "color": "#2a3f5f"
            },
            "error_y": {
             "color": "#2a3f5f"
            },
            "marker": {
             "line": {
              "color": "#E5ECF6",
              "width": 0.5
             },
             "pattern": {
              "fillmode": "overlay",
              "size": 10,
              "solidity": 0.2
             }
            },
            "type": "bar"
           }
          ],
          "barpolar": [
           {
            "marker": {
             "line": {
              "color": "#E5ECF6",
              "width": 0.5
             },
             "pattern": {
              "fillmode": "overlay",
              "size": 10,
              "solidity": 0.2
             }
            },
            "type": "barpolar"
           }
          ],
          "carpet": [
           {
            "aaxis": {
             "endlinecolor": "#2a3f5f",
             "gridcolor": "white",
             "linecolor": "white",
             "minorgridcolor": "white",
             "startlinecolor": "#2a3f5f"
            },
            "baxis": {
             "endlinecolor": "#2a3f5f",
             "gridcolor": "white",
             "linecolor": "white",
             "minorgridcolor": "white",
             "startlinecolor": "#2a3f5f"
            },
            "type": "carpet"
           }
          ],
          "choropleth": [
           {
            "colorbar": {
             "outlinewidth": 0,
             "ticks": ""
            },
            "type": "choropleth"
           }
          ],
          "contour": [
           {
            "colorbar": {
             "outlinewidth": 0,
             "ticks": ""
            },
            "colorscale": [
             [
              0,
              "#0d0887"
             ],
             [
              0.1111111111111111,
              "#46039f"
             ],
             [
              0.2222222222222222,
              "#7201a8"
             ],
             [
              0.3333333333333333,
              "#9c179e"
             ],
             [
              0.4444444444444444,
              "#bd3786"
             ],
             [
              0.5555555555555556,
              "#d8576b"
             ],
             [
              0.6666666666666666,
              "#ed7953"
             ],
             [
              0.7777777777777778,
              "#fb9f3a"
             ],
             [
              0.8888888888888888,
              "#fdca26"
             ],
             [
              1,
              "#f0f921"
             ]
            ],
            "type": "contour"
           }
          ],
          "contourcarpet": [
           {
            "colorbar": {
             "outlinewidth": 0,
             "ticks": ""
            },
            "type": "contourcarpet"
           }
          ],
          "heatmap": [
           {
            "colorbar": {
             "outlinewidth": 0,
             "ticks": ""
            },
            "colorscale": [
             [
              0,
              "#0d0887"
             ],
             [
              0.1111111111111111,
              "#46039f"
             ],
             [
              0.2222222222222222,
              "#7201a8"
             ],
             [
              0.3333333333333333,
              "#9c179e"
             ],
             [
              0.4444444444444444,
              "#bd3786"
             ],
             [
              0.5555555555555556,
              "#d8576b"
             ],
             [
              0.6666666666666666,
              "#ed7953"
             ],
             [
              0.7777777777777778,
              "#fb9f3a"
             ],
             [
              0.8888888888888888,
              "#fdca26"
             ],
             [
              1,
              "#f0f921"
             ]
            ],
            "type": "heatmap"
           }
          ],
          "histogram": [
           {
            "marker": {
             "pattern": {
              "fillmode": "overlay",
              "size": 10,
              "solidity": 0.2
             }
            },
            "type": "histogram"
           }
          ],
          "histogram2d": [
           {
            "colorbar": {
             "outlinewidth": 0,
             "ticks": ""
            },
            "colorscale": [
             [
              0,
              "#0d0887"
             ],
             [
              0.1111111111111111,
              "#46039f"
             ],
             [
              0.2222222222222222,
              "#7201a8"
             ],
             [
              0.3333333333333333,
              "#9c179e"
             ],
             [
              0.4444444444444444,
              "#bd3786"
             ],
             [
              0.5555555555555556,
              "#d8576b"
             ],
             [
              0.6666666666666666,
              "#ed7953"
             ],
             [
              0.7777777777777778,
              "#fb9f3a"
             ],
             [
              0.8888888888888888,
              "#fdca26"
             ],
             [
              1,
              "#f0f921"
             ]
            ],
            "type": "histogram2d"
           }
          ],
          "histogram2dcontour": [
           {
            "colorbar": {
             "outlinewidth": 0,
             "ticks": ""
            },
            "colorscale": [
             [
              0,
              "#0d0887"
             ],
             [
              0.1111111111111111,
              "#46039f"
             ],
             [
              0.2222222222222222,
              "#7201a8"
             ],
             [
              0.3333333333333333,
              "#9c179e"
             ],
             [
              0.4444444444444444,
              "#bd3786"
             ],
             [
              0.5555555555555556,
              "#d8576b"
             ],
             [
              0.6666666666666666,
              "#ed7953"
             ],
             [
              0.7777777777777778,
              "#fb9f3a"
             ],
             [
              0.8888888888888888,
              "#fdca26"
             ],
             [
              1,
              "#f0f921"
             ]
            ],
            "type": "histogram2dcontour"
           }
          ],
          "mesh3d": [
           {
            "colorbar": {
             "outlinewidth": 0,
             "ticks": ""
            },
            "type": "mesh3d"
           }
          ],
          "parcoords": [
           {
            "line": {
             "colorbar": {
              "outlinewidth": 0,
              "ticks": ""
             }
            },
            "type": "parcoords"
           }
          ],
          "pie": [
           {
            "automargin": true,
            "type": "pie"
           }
          ],
          "scatter": [
           {
            "fillpattern": {
             "fillmode": "overlay",
             "size": 10,
             "solidity": 0.2
            },
            "type": "scatter"
           }
          ],
          "scatter3d": [
           {
            "line": {
             "colorbar": {
              "outlinewidth": 0,
              "ticks": ""
             }
            },
            "marker": {
             "colorbar": {
              "outlinewidth": 0,
              "ticks": ""
             }
            },
            "type": "scatter3d"
           }
          ],
          "scattercarpet": [
           {
            "marker": {
             "colorbar": {
              "outlinewidth": 0,
              "ticks": ""
             }
            },
            "type": "scattercarpet"
           }
          ],
          "scattergeo": [
           {
            "marker": {
             "colorbar": {
              "outlinewidth": 0,
              "ticks": ""
             }
            },
            "type": "scattergeo"
           }
          ],
          "scattergl": [
           {
            "marker": {
             "colorbar": {
              "outlinewidth": 0,
              "ticks": ""
             }
            },
            "type": "scattergl"
           }
          ],
          "scattermap": [
           {
            "marker": {
             "colorbar": {
              "outlinewidth": 0,
              "ticks": ""
             }
            },
            "type": "scattermap"
           }
          ],
          "scattermapbox": [
           {
            "marker": {
             "colorbar": {
              "outlinewidth": 0,
              "ticks": ""
             }
            },
            "type": "scattermapbox"
           }
          ],
          "scatterpolar": [
           {
            "marker": {
             "colorbar": {
              "outlinewidth": 0,
              "ticks": ""
             }
            },
            "type": "scatterpolar"
           }
          ],
          "scatterpolargl": [
           {
            "marker": {
             "colorbar": {
              "outlinewidth": 0,
              "ticks": ""
             }
            },
            "type": "scatterpolargl"
           }
          ],
          "scatterternary": [
           {
            "marker": {
             "colorbar": {
              "outlinewidth": 0,
              "ticks": ""
             }
            },
            "type": "scatterternary"
           }
          ],
          "surface": [
           {
            "colorbar": {
             "outlinewidth": 0,
             "ticks": ""
            },
            "colorscale": [
             [
              0,
              "#0d0887"
             ],
             [
              0.1111111111111111,
              "#46039f"
             ],
             [
              0.2222222222222222,
              "#7201a8"
             ],
             [
              0.3333333333333333,
              "#9c179e"
             ],
             [
              0.4444444444444444,
              "#bd3786"
             ],
             [
              0.5555555555555556,
              "#d8576b"
             ],
             [
              0.6666666666666666,
              "#ed7953"
             ],
             [
              0.7777777777777778,
              "#fb9f3a"
             ],
             [
              0.8888888888888888,
              "#fdca26"
             ],
             [
              1,
              "#f0f921"
             ]
            ],
            "type": "surface"
           }
          ],
          "table": [
           {
            "cells": {
             "fill": {
              "color": "#EBF0F8"
             },
             "line": {
              "color": "white"
             }
            },
            "header": {
             "fill": {
              "color": "#C8D4E3"
             },
             "line": {
              "color": "white"
             }
            },
            "type": "table"
           }
          ]
         },
         "layout": {
          "annotationdefaults": {
           "arrowcolor": "#2a3f5f",
           "arrowhead": 0,
           "arrowwidth": 1
          },
          "autotypenumbers": "strict",
          "coloraxis": {
           "colorbar": {
            "outlinewidth": 0,
            "ticks": ""
           }
          },
          "colorscale": {
           "diverging": [
            [
             0,
             "#8e0152"
            ],
            [
             0.1,
             "#c51b7d"
            ],
            [
             0.2,
             "#de77ae"
            ],
            [
             0.3,
             "#f1b6da"
            ],
            [
             0.4,
             "#fde0ef"
            ],
            [
             0.5,
             "#f7f7f7"
            ],
            [
             0.6,
             "#e6f5d0"
            ],
            [
             0.7,
             "#b8e186"
            ],
            [
             0.8,
             "#7fbc41"
            ],
            [
             0.9,
             "#4d9221"
            ],
            [
             1,
             "#276419"
            ]
           ],
           "sequential": [
            [
             0,
             "#0d0887"
            ],
            [
             0.1111111111111111,
             "#46039f"
            ],
            [
             0.2222222222222222,
             "#7201a8"
            ],
            [
             0.3333333333333333,
             "#9c179e"
            ],
            [
             0.4444444444444444,
             "#bd3786"
            ],
            [
             0.5555555555555556,
             "#d8576b"
            ],
            [
             0.6666666666666666,
             "#ed7953"
            ],
            [
             0.7777777777777778,
             "#fb9f3a"
            ],
            [
             0.8888888888888888,
             "#fdca26"
            ],
            [
             1,
             "#f0f921"
            ]
           ],
           "sequentialminus": [
            [
             0,
             "#0d0887"
            ],
            [
             0.1111111111111111,
             "#46039f"
            ],
            [
             0.2222222222222222,
             "#7201a8"
            ],
            [
             0.3333333333333333,
             "#9c179e"
            ],
            [
             0.4444444444444444,
             "#bd3786"
            ],
            [
             0.5555555555555556,
             "#d8576b"
            ],
            [
             0.6666666666666666,
             "#ed7953"
            ],
            [
             0.7777777777777778,
             "#fb9f3a"
            ],
            [
             0.8888888888888888,
             "#fdca26"
            ],
            [
             1,
             "#f0f921"
            ]
           ]
          },
          "colorway": [
           "#636efa",
           "#EF553B",
           "#00cc96",
           "#ab63fa",
           "#FFA15A",
           "#19d3f3",
           "#FF6692",
           "#B6E880",
           "#FF97FF",
           "#FECB52"
          ],
          "font": {
           "color": "#2a3f5f"
          },
          "geo": {
           "bgcolor": "white",
           "lakecolor": "white",
           "landcolor": "#E5ECF6",
           "showlakes": true,
           "showland": true,
           "subunitcolor": "white"
          },
          "hoverlabel": {
           "align": "left"
          },
          "hovermode": "closest",
          "mapbox": {
           "style": "light"
          },
          "paper_bgcolor": "white",
          "plot_bgcolor": "#E5ECF6",
          "polar": {
           "angularaxis": {
            "gridcolor": "white",
            "linecolor": "white",
            "ticks": ""
           },
           "bgcolor": "#E5ECF6",
           "radialaxis": {
            "gridcolor": "white",
            "linecolor": "white",
            "ticks": ""
           }
          },
          "scene": {
           "xaxis": {
            "backgroundcolor": "#E5ECF6",
            "gridcolor": "white",
            "gridwidth": 2,
            "linecolor": "white",
            "showbackground": true,
            "ticks": "",
            "zerolinecolor": "white"
           },
           "yaxis": {
            "backgroundcolor": "#E5ECF6",
            "gridcolor": "white",
            "gridwidth": 2,
            "linecolor": "white",
            "showbackground": true,
            "ticks": "",
            "zerolinecolor": "white"
           },
           "zaxis": {
            "backgroundcolor": "#E5ECF6",
            "gridcolor": "white",
            "gridwidth": 2,
            "linecolor": "white",
            "showbackground": true,
            "ticks": "",
            "zerolinecolor": "white"
           }
          },
          "shapedefaults": {
           "line": {
            "color": "#2a3f5f"
           }
          },
          "ternary": {
           "aaxis": {
            "gridcolor": "white",
            "linecolor": "white",
            "ticks": ""
           },
           "baxis": {
            "gridcolor": "white",
            "linecolor": "white",
            "ticks": ""
           },
           "bgcolor": "#E5ECF6",
           "caxis": {
            "gridcolor": "white",
            "linecolor": "white",
            "ticks": ""
           }
          },
          "title": {
           "x": 0.05
          },
          "xaxis": {
           "automargin": true,
           "gridcolor": "white",
           "linecolor": "white",
           "ticks": "",
           "title": {
            "standoff": 15
           },
           "zerolinecolor": "white",
           "zerolinewidth": 2
          },
          "yaxis": {
           "automargin": true,
           "gridcolor": "white",
           "linecolor": "white",
           "ticks": "",
           "title": {
            "standoff": 15
           },
           "zerolinecolor": "white",
           "zerolinewidth": 2
          }
         }
        },
        "title": {
         "font": {
          "size": 16
         },
         "text": "Relative Performance Heatmap<br><sub>Lower values (green) are better</sub>"
        },
        "width": 800,
        "xaxis": {
         "anchor": "y",
         "constrain": "domain",
         "domain": [
          0,
          1
         ],
         "scaleanchor": "y"
        },
        "yaxis": {
         "anchor": "x",
         "autorange": "reversed",
         "constrain": "domain",
         "domain": [
          0,
          1
         ]
        }
       }
      },
      "image/png": "[encoded data removed]"
     },
     "metadata": {},
     "output_type": "display_data"
    }
   ],
   "source": [
    "# Performance heatmap\n",
    "if not df.empty and len(df['Group'].unique()) > 1:\n",
    "    # Create pivot table for heatmap\n",
    "    pivot_df = df.pivot(index='Implementation', columns='Group', values='Mean (ns)')\n",
    "    \n",
    "    # Calculate relative performance (normalize by minimum in each column)\n",
    "    normalized_df = pivot_df.div(pivot_df.min(), axis=1)\n",
    "    \n",
    "    fig = px.imshow(\n",
    "        normalized_df.values,\n",
    "        x=normalized_df.columns,\n",
    "        y=normalized_df.index,\n",
    "        color_continuous_scale='RdYlGn_r',\n",
    "        title='Relative Performance Heatmap<br><sub>Lower values (green) are better</sub>',\n",
    "        labels=dict(color=\"Relative Performance\"),\n",
    "        text_auto='.2f'\n",
    "    )\n",
    "    \n",
    "    fig.update_layout(\n",
    "        width=800,\n",
    "        height=400,\n",
    "        font=dict(size=12),\n",
    "        title_font_size=16\n",
    "    )\n",
    "    \n",
    "    fig.show()\n",
    "else:\n",
    "    print(\"❌ Not enough data for heatmap (need multiple benchmark groups).\")"
   ]
  },
  {
   "cell_type": "markdown",
   "metadata": {},
   "source": [
    "## Static Matplotlib Plots"
   ]
  },
  {
   "cell_type": "code",
   "execution_count": 17,
   "metadata": {},
   "outputs": [
    {
     "data": {
      "image/png": "[encoded data removed]",
      "text/plain": [
       "<Figure size 1500x600 with 3 Axes>"
      ]
     },
     "metadata": {},
     "output_type": "display_data"
    },
    {
     "name": "stdout",
     "output_type": "stream",
     "text": [
      "💾 Plot saved as 'benchmark_comparison.png'\n"
     ]
    }
   ],
   "source": [
    "# Traditional matplotlib plots for publication\n",
    "if not df.empty:\n",
    "    groups = df['Group'].unique()\n",
    "    n_groups = len(groups)\n",
    "    \n",
    "    fig, axes = plt.subplots(1, n_groups, figsize=(5*n_groups, 6))\n",
    "    if n_groups == 1:\n",
    "        axes = [axes]\n",
    "    \n",
    "    colors = ['#1f77b4', '#ff7f0e', '#2ca02c', '#d62728', '#9467bd']\n",
    "    \n",
    "    for idx, group_name in enumerate(groups):\n",
    "        group_data = df[df['Group'] == group_name]\n",
    "        \n",
    "        bars = axes[idx].bar(\n",
    "            group_data['Implementation'],\n",
    "            group_data['Mean (ns)'],\n",
    "            yerr=group_data['Std Dev (ns)'],\n",
    "            capsize=5,\n",
    "            alpha=0.8,\n",
    "            color=colors[:len(group_data)]\n",
    "        )\n",
    "        \n",
    "        axes[idx].set_title(f'{group_name}', fontweight='bold', fontsize=14)\n",
    "        axes[idx].set_ylabel('Execution Time (ns)', fontsize=12)\n",
    "        axes[idx].tick_params(axis='x', rotation=45)\n",
    "        axes[idx].grid(True, alpha=0.3)\n",
    "        \n",
    "        # Add value labels on bars\n",
    "        for bar, mean_val in zip(bars, group_data['Mean (ns)']):\n",
    "            height = bar.get_height()\n",
    "            axes[idx].text(\n",
    "                bar.get_x() + bar.get_width()/2.,\n",
    "                height + max(group_data['Std Dev (ns)'])/10,\n",
    "                f'{mean_val:.1f}ns',\n",
    "                ha='center', va='bottom', fontsize=10, fontweight='bold'\n",
    "            )\n",
    "    \n",
    "    plt.suptitle('WASM Runtime Performance Comparison', fontsize=16, fontweight='bold', y=1.02)\n",
    "    plt.tight_layout()\n",
    "    plt.show()\n",
    "    \n",
    "    # Save the plot\n",
    "    fig.savefig('benchmark_comparison.png', dpi=300, bbox_inches='tight')\n",
    "    print(\"💾 Plot saved as 'benchmark_comparison.png'\")\n",
    "else:\n",
    "    print(\"❌ No data available for matplotlib plots.\")"
   ]
  },
  {
   "cell_type": "markdown",
   "metadata": {},
   "source": [
    "## Detailed Statistical Analysis"
   ]
  },
  {
   "cell_type": "code",
   "execution_count": 18,
   "metadata": {},
   "outputs": [
    {
     "name": "stdout",
     "output_type": "stream",
     "text": [
      "📈 COEFFICIENT OF VARIATION (Consistency Measure)\n",
      "Lower CV% = more consistent performance\n",
      "==================================================\n"
     ]
    },
    {
     "data": {
      "text/html": [
       "<div>\n",
       "<style scoped>\n",
       "    .dataframe tbody tr th:only-of-type {\n",
       "        vertical-align: middle;\n",
       "    }\n",
       "\n",
       "    .dataframe tbody tr th {\n",
       "        vertical-align: top;\n",
       "    }\n",
       "\n",
       "    .dataframe thead th {\n",
       "        text-align: right;\n",
       "    }\n",
       "</style>\n",
       "<table border=\"1\" class=\"dataframe\">\n",
       "  <thead>\n",
       "    <tr style=\"text-align: right;\">\n",
       "      <th></th>\n",
       "      <th>Group</th>\n",
       "      <th>Implementation</th>\n",
       "      <th>CV (%)</th>\n",
       "    </tr>\n",
       "  </thead>\n",
       "  <tbody>\n",
       "    <tr>\n",
       "      <th>0</th>\n",
       "      <td>Cold Ping Pong Execution</td>\n",
       "      <td>Wasmtime</td>\n",
       "      <td>0.25</td>\n",
       "    </tr>\n",
       "    <tr>\n",
       "      <th>1</th>\n",
       "      <td>Cold Ping Pong Execution</td>\n",
       "      <td>Native</td>\n",
       "      <td>57.28</td>\n",
       "    </tr>\n",
       "    <tr>\n",
       "      <th>2</th>\n",
       "      <td>Cold Ping Pong Execution</td>\n",
       "      <td>WAMR</td>\n",
       "      <td>57.59</td>\n",
       "    </tr>\n",
       "    <tr>\n",
       "      <th>7</th>\n",
       "      <td>Hot Ping Pong Execution</td>\n",
       "      <td>Native</td>\n",
       "      <td>57.16</td>\n",
       "    </tr>\n",
       "    <tr>\n",
       "      <th>6</th>\n",
       "      <td>Hot Ping Pong Execution</td>\n",
       "      <td>Wasmtime</td>\n",
       "      <td>57.16</td>\n",
       "    </tr>\n",
       "    <tr>\n",
       "      <th>8</th>\n",
       "      <td>Hot Ping Pong Execution</td>\n",
       "      <td>WAMR</td>\n",
       "      <td>57.17</td>\n",
       "    </tr>\n",
       "    <tr>\n",
       "      <th>3</th>\n",
       "      <td>Runtime Setup</td>\n",
       "      <td>Wasmtime</td>\n",
       "      <td>0.07</td>\n",
       "    </tr>\n",
       "    <tr>\n",
       "      <th>4</th>\n",
       "      <td>Runtime Setup</td>\n",
       "      <td>Native</td>\n",
       "      <td>56.98</td>\n",
       "    </tr>\n",
       "    <tr>\n",
       "      <th>5</th>\n",
       "      <td>Runtime Setup</td>\n",
       "      <td>WAMR</td>\n",
       "      <td>57.15</td>\n",
       "    </tr>\n",
       "  </tbody>\n",
       "</table>\n",
       "</div>"
      ],
      "text/plain": [
       "                      Group Implementation  CV (%)\n",
       "0  Cold Ping Pong Execution       Wasmtime    0.25\n",
       "1  Cold Ping Pong Execution         Native   57.28\n",
       "2  Cold Ping Pong Execution           WAMR   57.59\n",
       "7   Hot Ping Pong Execution         Native   57.16\n",
       "6   Hot Ping Pong Execution       Wasmtime   57.16\n",
       "8   Hot Ping Pong Execution           WAMR   57.17\n",
       "3             Runtime Setup       Wasmtime    0.07\n",
       "4             Runtime Setup         Native   56.98\n",
       "5             Runtime Setup           WAMR   57.15"
      ]
     },
     "metadata": {},
     "output_type": "display_data"
    },
    {
     "name": "stdout",
     "output_type": "stream",
     "text": [
      "\n",
      "💡 Interpretation:\n",
      "   • CV < 5%: Very consistent\n",
      "   • CV 5-10%: Moderately consistent\n",
      "   • CV > 10%: High variability\n"
     ]
    }
   ],
   "source": [
    "# Statistical significance testing (if you want to add this later)\n",
    "if not df.empty:\n",
    "    print(\"📈 COEFFICIENT OF VARIATION (Consistency Measure)\")\n",
    "    print(\"Lower CV% = more consistent performance\")\n",
    "    print(\"=\" * 50)\n",
    "    \n",
    "    cv_df = df[['Group', 'Implementation', 'CV (%)']].sort_values(['Group', 'CV (%)'])\n",
    "    display(cv_df.round(2))\n",
    "    \n",
    "    print(\"\\n💡 Interpretation:\")\n",
    "    print(\"   • CV < 5%: Very consistent\")\n",
    "    print(\"   • CV 5-10%: Moderately consistent\")\n",
    "    print(\"   • CV > 10%: High variability\")"
   ]
  },
  {
   "cell_type": "code",
   "execution_count": 19,
   "metadata": {},
   "outputs": [
    {
     "name": "stdout",
     "output_type": "stream",
     "text": [
      "💾 Results exported to 'benchmark_results.csv'\n",
      "💾 Raw data exported to 'raw_benchmark_data.json'\n"
     ]
    }
   ],
   "source": [
    "# Export results for further analysis\n",
    "if not df.empty:\n",
    "    # Save to CSV\n",
    "    df.to_csv('benchmark_results.csv', index=False)\n",
    "    print(\"💾 Results exported to 'benchmark_results.csv'\")\n",
    "    \n",
    "    # Export raw data as JSON for other tools\n",
    "    raw_data = analyzer.get_raw_data()\n",
    "    with open('raw_benchmark_data.json', 'w') as f:\n",
    "        json.dump(raw_data, f, indent=2)\n",
    "    print(\"💾 Raw data exported to 'raw_benchmark_data.json'\")\n",
    "else:\n",
    "    print(\"❌ No data to export.\")"
   ]
  },
  {
   "cell_type": "markdown",
   "metadata": {},
   "source": [
    "## Notes for Master's Thesis\n",
    "\n",
    "Key observations for your analysis:\n",
    "\n",
    "1. **Setup Overhead**: Compare the initialization costs between runtimes\n",
    "2. **Cold vs Hot Performance**: Look at the difference between cold starts and hot execution\n",
    "3. **Consistency**: Check the coefficient of variation to see which runtime is most predictable\n",
    "4. **Scalability**: Consider how performance might change with different workload sizes\n",
    "\n",
    "Remember to run multiple benchmark sessions and compare results for statistical significance!"
   ]
  }
 ],
 "metadata": {
  "kernelspec": {
   "display_name": "WAMR Benchmark Analysis",
   "language": "python",
   "name": "wamr-benchmark"
  },
  "language_info": {
   "codemirror_mode": {
    "name": "ipython",
    "version": 3
   },
   "file_extension": ".py",
   "mimetype": "text/x-python",
   "name": "python",
   "nbconvert_exporter": "python",
   "pygments_lexer": "ipython3",
   "version": "3.12.3"
  }
 },
 "nbformat": 4,
 "nbformat_minor": 4
}
