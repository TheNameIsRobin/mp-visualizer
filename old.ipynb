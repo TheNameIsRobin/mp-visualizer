{
 "cells": [
  {
   "cell_type": "markdown",
   "metadata": {},
   "source": [
    "# WAMR vs Wasmtime vs Native I2C Benchmark Analysis\n",
    "\n",
    "This notebook analyzes the performance of different WebAssembly runtime implementations for I2C operations.\n",
    "\n",
    "## Setup\n",
    "Make sure you've run `cargo bench --benches` first and copied the `criterion/` directory to this location."
   ]
  },
  {
   "cell_type": "code",
   "execution_count": 1,
   "metadata": {},
   "outputs": [
    {
     "name": "stdout",
     "output_type": "stream",
     "text": [
      "✅ Libraries imported successfully!\n"
     ]
    }
   ],
   "source": [
    "# Import required libraries\n",
    "import json\n",
    "import matplotlib.pyplot as plt\n",
    "import seaborn as sns\n",
    "import numpy as np\n",
    "import pandas as pd\n",
    "import plotly.express as px\n",
    "import plotly.graph_objects as go\n",
    "from plotly.subplots import make_subplots\n",
    "from pathlib import Path\n",
    "from typing import Dict, List, Tuple\n",
    "import warnings\n",
    "import os\n",
    "warnings.filterwarnings('ignore')\n",
    "\n",
    "# Set style for better looking plots\n",
    "plt.style.use('seaborn-v0_8-whitegrid')\n",
    "sns.set_palette(\"husl\")\n",
    "plt.rcParams['figure.figsize'] = (12, 6)\n",
    "plt.rcParams['font.size'] = 12\n",
    "\n",
    "print(\"✅ Libraries imported successfully!\")"
   ]
  },
  {
   "cell_type": "code",
   "execution_count": 2,
   "metadata": {},
   "outputs": [
    {
     "name": "stdout",
     "output_type": "stream",
     "text": [
      "✅ CriterionAnalyzer class defined!\n"
     ]
    }
   ],
   "source": [
    "class CriterionAnalyzer:\n",
    "    def __init__(self, criterion_dir: str = \"criterion\"):\n",
    "        self.criterion_dir = Path(criterion_dir)\n",
    "        self.results = {}\n",
    "        self.df = None\n",
    "        self.load_all_results()\n",
    "    \n",
    "    def load_all_results(self):\n",
    "        \"\"\"Load all Criterion benchmark results from JSON files\"\"\"\n",
    "        if not self.criterion_dir.exists():\n",
    "            raise FileNotFoundError(f\"Criterion directory not found: {self.criterion_dir}\")\n",
    "        \n",
    "        print(f\"📂 Loading results from: {self.criterion_dir}\")\n",
    "        \n",
    "        for group_dir in self.criterion_dir.iterdir():\n",
    "            if group_dir.is_dir() and group_dir.name != \"report\":\n",
    "                group_name = group_dir.name\n",
    "                self.results[group_name] = {}\n",
    "                \n",
    "                # Look for subdirectories (benchmark functions within groups)\n",
    "                for bench_dir in group_dir.iterdir():\n",
    "                    if bench_dir.is_dir() and bench_dir.name != \"report\":\n",
    "                        # Try to load sample data first (contains raw timing data)\n",
    "                        sample_file = bench_dir / \"base\" / \"sample.json\"\n",
    "                        estimates_file = bench_dir / \"base\" / \"estimates.json\"\n",
    "                        \n",
    "                        if sample_file.exists() and estimates_file.exists():\n",
    "                            try:\n",
    "                                # Load raw sample data\n",
    "                                with open(sample_file, 'r') as f:\n",
    "                                    sample_data = json.load(f)\n",
    "                                \n",
    "                                # Load statistical estimates  \n",
    "                                with open(estimates_file, 'r') as f:\n",
    "                                    estimates_data = json.load(f)\n",
    "                                \n",
    "                                # Combine the data\n",
    "                                combined_data = {\n",
    "                                    'samples': sample_data,\n",
    "                                    'estimates': estimates_data\n",
    "                                }\n",
    "                                \n",
    "                                self.results[group_name][bench_dir.name] = self._process_criterion_data(combined_data)\n",
    "                                print(f\"  ✓ Loaded {group_name}/{bench_dir.name}\")\n",
    "                            except Exception as e:\n",
    "                                print(f\"  ❌ Failed to load {group_name}/{bench_dir.name}: {e}\")\n",
    "        \n",
    "        # Create DataFrame for easy analysis\n",
    "        self.df = self.get_summary_dataframe()\n",
    "        print(f\"\\n📊 Loaded {len(self.df)} benchmark results\")\n",
    "    \n",
    "    def _process_criterion_data(self, data: dict) -> dict:\n",
    "        \"\"\"Process Criterion sample and estimates data into usable statistics\"\"\"\n",
    "        try:\n",
    "            # Extract raw timing data from samples\n",
    "            samples = data.get('samples', {})\n",
    "            estimates = data.get('estimates', {})\n",
    "            \n",
    "            # Get the sampling times (in nanoseconds)\n",
    "            times_ns = []\n",
    "            \n",
    "            # Try different possible keys for timing data\n",
    "            if 'sampling_times' in samples:\n",
    "                times_ns = samples['sampling_times']\n",
    "            elif 'times' in samples:\n",
    "                times_ns = samples['times']\n",
    "            elif 'iters' in samples and 'times' in samples:\n",
    "                # Sometimes it's structured as iters and times arrays\n",
    "                times = samples.get('times', [])\n",
    "                iters = samples.get('iters', [])\n",
    "                if len(times) == len(iters) and len(iters) > 0:\n",
    "                    # Calculate time per iteration\n",
    "                    times_ns = [t/i if i > 0 else 0 for t, i in zip(times, iters)]\n",
    "            \n",
    "            # If we still have no timing data, try to get it from estimates\n",
    "            if not times_ns and 'mean' in estimates:\n",
    "                # Use estimates mean as a single data point\n",
    "                mean_estimate = estimates['mean']\n",
    "                if 'point_estimate' in mean_estimate:\n",
    "                    times_ns = [mean_estimate['point_estimate']]\n",
    "                elif isinstance(mean_estimate, (int, float)):\n",
    "                    times_ns = [mean_estimate]\n",
    "            \n",
    "            if not times_ns:\n",
    "                print(f\"    ⚠️  No timing data found in sample structure: {list(samples.keys())}\")\n",
    "                return {}\n",
    "                \n",
    "            # Keep in nanoseconds - ensure no negative values\n",
    "            times_ns = [max(0, t) for t in times_ns]\n",
    "            \n",
    "            if not times_ns or all(t == 0 for t in times_ns):\n",
    "                print(f\"    ⚠️  All timing values are zero or negative\")\n",
    "                return {}\n",
    "            \n",
    "            # Calculate statistics (all in nanoseconds)\n",
    "            stats = {\n",
    "                'times_ns': times_ns,\n",
    "                'mean_ns': np.mean(times_ns),\n",
    "                'median_ns': np.median(times_ns),\n",
    "                'std_ns': np.std(times_ns),\n",
    "                'min_ns': np.min(times_ns),\n",
    "                'max_ns': np.max(times_ns),\n",
    "                'q25_ns': np.percentile(times_ns, 25),\n",
    "                'q75_ns': np.percentile(times_ns, 75),\n",
    "                'sample_count': len(times_ns),\n",
    "                'cv': np.std(times_ns) / np.mean(times_ns) * 100 if np.mean(times_ns) > 0 else 0\n",
    "            }\n",
    "            \n",
    "            return stats\n",
    "            \n",
    "        except Exception as e:\n",
    "            print(f\"    ❌ Error processing data: {e}\")\n",
    "            return {}\n",
    "    \n",
    "    def get_summary_dataframe(self) -> pd.DataFrame:\n",
    "        \"\"\"Create a pandas DataFrame with all results for easy analysis\"\"\"\n",
    "        rows = []\n",
    "        for group_name, group_data in self.results.items():\n",
    "            for bench_name, stats in group_data.items():\n",
    "                if stats:  # Skip empty results\n",
    "                    rows.append({\n",
    "                        'Group': group_name,\n",
    "                        'Implementation': bench_name,\n",
    "                        'Mean (ns)': stats['mean_ns'],\n",
    "                        'Median (ns)': stats['median_ns'],\n",
    "                        'Std Dev (ns)': stats['std_ns'],\n",
    "                        'Min (ns)': stats['min_ns'],\n",
    "                        'Max (ns)': stats['max_ns'],\n",
    "                        'CV (%)': stats['cv'],\n",
    "                        'Samples': stats['sample_count']\n",
    "                    })\n",
    "        return pd.DataFrame(rows)\n",
    "    \n",
    "    def get_raw_data(self) -> Dict:\n",
    "        \"\"\"Get raw timing data for detailed analysis\"\"\"\n",
    "        raw_data = {}\n",
    "        for group_name, group_data in self.results.items():\n",
    "            raw_data[group_name] = {}\n",
    "            for impl_name, stats in group_data.items():\n",
    "                if stats and 'times_ns' in stats:\n",
    "                    raw_data[group_name][impl_name] = stats['times_ns']\n",
    "        return raw_data\n",
    "\n",
    "print(\"✅ CriterionAnalyzer class defined!\")"
   ]
  },
  {
   "cell_type": "code",
   "execution_count": 13,
   "metadata": {},
   "outputs": [
    {
     "name": "stdout",
     "output_type": "stream",
     "text": [
      "📋 Examining: criterion/Cold Ping Pong Execution/Wasmtime/base/sample.json\n",
      "📋 Examining: criterion/Cold Ping Pong Execution/Native/base/sample.json\n",
      "📋 Examining: criterion/Cold Ping Pong Execution/WAMR/base/sample.json\n",
      "📋 Examining: criterion/Runtime Setup/Wasmtime/base/sample.json\n",
      "📋 Examining: criterion/Runtime Setup/Native/base/sample.json\n",
      "📋 Examining: criterion/Runtime Setup/WAMR/base/sample.json\n",
      "📋 Examining: criterion/Hot Ping Pong Execution/Wasmtime/base/sample.json\n",
      "📋 Examining: criterion/Hot Ping Pong Execution/Native/base/sample.json\n",
      "📋 Examining: criterion/Hot Ping Pong Execution/WAMR/base/sample.json\n"
     ]
    }
   ],
   "source": [
    "# Debug: Let's examine the structure of one sample file to understand the format\n",
    "def debug_criterion_structure():\n",
    "    criterion_path = Path(\"criterion\")\n",
    "    \n",
    "    if not criterion_path.exists():\n",
    "        print(f\"❌ Directory 'criterion' not found in current directory\")\n",
    "        print(f\"Current directory: {os.getcwd()}\")\n",
    "        print(\"Available directories:\")\n",
    "        for item in Path(\".\").iterdir():\n",
    "            if item.is_dir():\n",
    "                print(f\"  📁 {item.name}\")\n",
    "        return\n",
    "    \n",
    "    # Find the first sample.json file to examine\n",
    "    for group_dir in criterion_path.iterdir():\n",
    "        if group_dir.is_dir() and group_dir.name != \"report\":\n",
    "            for impl_dir in group_dir.iterdir():\n",
    "                if impl_dir.is_dir() and impl_dir.name != \"report\":\n",
    "                    sample_file = impl_dir / \"base\" / \"sample.json\"\n",
    "                    \n",
    "                    if sample_file.exists():\n",
    "                        print(f\"📋 Examining: {sample_file}\")\n",
    "                        with open(sample_file, 'r') as f:\n",
    "                            sample_data = json.load(f)\n",
    "                        print(f\"Sample data keys: {list(sample_data.keys())}\")\n",
    "                        \n",
    "            #             # Show a bit of the structure\n",
    "            #             for key, value in sample_data.items():\n",
    "            #                 if isinstance(value, list):\n",
    "            #                     print(f\"  {key}: list with {len(value)} items\")\n",
    "            #                     if len(value) > 0:\n",
    "            #                         print(f\"    First few items: {value[:3]}\")\n",
    "            #                 else:\n",
    "            #                     print(f\"  {key}: {type(value)} = {value}\")\n",
    "            #             return  # Only examine the first one\n",
    "\n",
    "debug_criterion_structure()"
   ]
  },
  {
   "cell_type": "code",
   "execution_count": 4,
   "metadata": {},
   "outputs": [
    {
     "name": "stdout",
     "output_type": "stream",
     "text": [
      "📂 Loading results from: criterion\n",
      "  ✓ Loaded Cold Ping Pong Execution/Wasmtime\n",
      "  ✓ Loaded Cold Ping Pong Execution/Native\n",
      "  ✓ Loaded Cold Ping Pong Execution/WAMR\n",
      "  ✓ Loaded Runtime Setup/Wasmtime\n",
      "  ✓ Loaded Runtime Setup/Native\n",
      "  ✓ Loaded Runtime Setup/WAMR\n",
      "  ✓ Loaded Hot Ping Pong Execution/Wasmtime\n",
      "  ✓ Loaded Hot Ping Pong Execution/Native\n",
      "  ✓ Loaded Hot Ping Pong Execution/WAMR\n",
      "\n",
      "📊 Loaded 9 benchmark results\n",
      "Found 3 benchmark groups:\n",
      "  📋 Cold Ping Pong Execution: Wasmtime, Native, WAMR\n",
      "  📋 Runtime Setup: Wasmtime, Native, WAMR\n",
      "  📋 Hot Ping Pong Execution: Wasmtime, Native, WAMR\n"
     ]
    }
   ],
   "source": [
    "# Initialize the analyzer\n",
    "analyzer = CriterionAnalyzer(criterion_dir=\"criterion\")\n",
    "\n",
    "# Display basic info\n",
    "print(f\"Found {len(analyzer.results)} benchmark groups:\")\n",
    "for group_name, group_data in analyzer.results.items():\n",
    "    implementations = list(group_data.keys())\n",
    "    print(f\"  📋 {group_name}: {', '.join(implementations)}\")\n",
    "    \n",
    "# If no data was loaded, show error\n",
    "if not analyzer.results or all(not group_data for group_data in analyzer.results.values()):\n",
    "    print(\"\\n❌ No data loaded! Check the debug output above and ensure:\")\n",
    "    print(\"1. The 'criterion' directory exists in this directory\")\n",
    "    print(\"2. It contains the benchmark results from 'cargo bench'\")\n",
    "    print(\"3. The sample.json and estimates.json files are present\")"
   ]
  },
  {
   "cell_type": "markdown",
   "metadata": {},
   "source": [
    "## Summary Statistics"
   ]
  },
  {
   "cell_type": "code",
   "execution_count": 5,
   "metadata": {},
   "outputs": [
    {
     "name": "stdout",
     "output_type": "stream",
     "text": [
      "📊 BENCHMARK RESULTS SUMMARY\n",
      "==================================================\n"
     ]
    },
    {
     "data": {
      "text/html": [
       "<div>\n",
       "<style scoped>\n",
       "    .dataframe tbody tr th:only-of-type {\n",
       "        vertical-align: middle;\n",
       "    }\n",
       "\n",
       "    .dataframe tbody tr th {\n",
       "        vertical-align: top;\n",
       "    }\n",
       "\n",
       "    .dataframe thead th {\n",
       "        text-align: right;\n",
       "    }\n",
       "</style>\n",
       "<table border=\"1\" class=\"dataframe\">\n",
       "  <thead>\n",
       "    <tr style=\"text-align: right;\">\n",
       "      <th></th>\n",
       "      <th>Group</th>\n",
       "      <th>Implementation</th>\n",
       "      <th>Mean (ns)</th>\n",
       "      <th>Median (ns)</th>\n",
       "      <th>Std Dev (ns)</th>\n",
       "      <th>Min (ns)</th>\n",
       "      <th>Max (ns)</th>\n",
       "      <th>CV (%)</th>\n",
       "      <th>Samples</th>\n",
       "    </tr>\n",
       "  </thead>\n",
       "  <tbody>\n",
       "    <tr>\n",
       "      <th>0</th>\n",
       "      <td>Cold Ping Pong Execution</td>\n",
       "      <td>Wasmtime</td>\n",
       "      <td>6.524358e+07</td>\n",
       "      <td>65187318.5</td>\n",
       "      <td>3.728382e+07</td>\n",
       "      <td>1307459.0</td>\n",
       "      <td>1.291303e+08</td>\n",
       "      <td>57.15</td>\n",
       "      <td>100</td>\n",
       "    </tr>\n",
       "    <tr>\n",
       "      <th>1</th>\n",
       "      <td>Cold Ping Pong Execution</td>\n",
       "      <td>Native</td>\n",
       "      <td>2.996589e+08</td>\n",
       "      <td>299886172.0</td>\n",
       "      <td>1.710867e+08</td>\n",
       "      <td>5945720.0</td>\n",
       "      <td>5.941880e+08</td>\n",
       "      <td>57.09</td>\n",
       "      <td>100</td>\n",
       "    </tr>\n",
       "    <tr>\n",
       "      <th>2</th>\n",
       "      <td>Cold Ping Pong Execution</td>\n",
       "      <td>WAMR</td>\n",
       "      <td>3.054359e+08</td>\n",
       "      <td>305443713.5</td>\n",
       "      <td>1.748448e+08</td>\n",
       "      <td>6047923.0</td>\n",
       "      <td>6.057906e+08</td>\n",
       "      <td>57.24</td>\n",
       "      <td>100</td>\n",
       "    </tr>\n",
       "    <tr>\n",
       "      <th>3</th>\n",
       "      <td>Runtime Setup</td>\n",
       "      <td>Wasmtime</td>\n",
       "      <td>9.905308e+08</td>\n",
       "      <td>990465591.0</td>\n",
       "      <td>5.663378e+08</td>\n",
       "      <td>19639849.0</td>\n",
       "      <td>1.960633e+09</td>\n",
       "      <td>57.18</td>\n",
       "      <td>100</td>\n",
       "    </tr>\n",
       "    <tr>\n",
       "      <th>4</th>\n",
       "      <td>Runtime Setup</td>\n",
       "      <td>Native</td>\n",
       "      <td>2.965958e+08</td>\n",
       "      <td>297628888.0</td>\n",
       "      <td>1.692629e+08</td>\n",
       "      <td>5890106.0</td>\n",
       "      <td>5.857182e+08</td>\n",
       "      <td>57.07</td>\n",
       "      <td>100</td>\n",
       "    </tr>\n",
       "    <tr>\n",
       "      <th>5</th>\n",
       "      <td>Runtime Setup</td>\n",
       "      <td>WAMR</td>\n",
       "      <td>3.055704e+08</td>\n",
       "      <td>305331516.0</td>\n",
       "      <td>1.747717e+08</td>\n",
       "      <td>6044161.0</td>\n",
       "      <td>6.049562e+08</td>\n",
       "      <td>57.20</td>\n",
       "      <td>100</td>\n",
       "    </tr>\n",
       "    <tr>\n",
       "      <th>6</th>\n",
       "      <td>Hot Ping Pong Execution</td>\n",
       "      <td>Wasmtime</td>\n",
       "      <td>3.590322e+08</td>\n",
       "      <td>358975955.5</td>\n",
       "      <td>2.051791e+08</td>\n",
       "      <td>7145290.0</td>\n",
       "      <td>7.109653e+08</td>\n",
       "      <td>57.15</td>\n",
       "      <td>100</td>\n",
       "    </tr>\n",
       "    <tr>\n",
       "      <th>7</th>\n",
       "      <td>Hot Ping Pong Execution</td>\n",
       "      <td>Native</td>\n",
       "      <td>3.271901e+08</td>\n",
       "      <td>327278229.5</td>\n",
       "      <td>1.869702e+08</td>\n",
       "      <td>6483606.0</td>\n",
       "      <td>6.477865e+08</td>\n",
       "      <td>57.14</td>\n",
       "      <td>100</td>\n",
       "    </tr>\n",
       "    <tr>\n",
       "      <th>8</th>\n",
       "      <td>Hot Ping Pong Execution</td>\n",
       "      <td>WAMR</td>\n",
       "      <td>3.587382e+08</td>\n",
       "      <td>358743991.5</td>\n",
       "      <td>2.050512e+08</td>\n",
       "      <td>7108752.0</td>\n",
       "      <td>7.103339e+08</td>\n",
       "      <td>57.16</td>\n",
       "      <td>100</td>\n",
       "    </tr>\n",
       "  </tbody>\n",
       "</table>\n",
       "</div>"
      ],
      "text/plain": [
       "                      Group Implementation     Mean (ns)  Median (ns)  \\\n",
       "0  Cold Ping Pong Execution       Wasmtime  6.524358e+07   65187318.5   \n",
       "1  Cold Ping Pong Execution         Native  2.996589e+08  299886172.0   \n",
       "2  Cold Ping Pong Execution           WAMR  3.054359e+08  305443713.5   \n",
       "3             Runtime Setup       Wasmtime  9.905308e+08  990465591.0   \n",
       "4             Runtime Setup         Native  2.965958e+08  297628888.0   \n",
       "5             Runtime Setup           WAMR  3.055704e+08  305331516.0   \n",
       "6   Hot Ping Pong Execution       Wasmtime  3.590322e+08  358975955.5   \n",
       "7   Hot Ping Pong Execution         Native  3.271901e+08  327278229.5   \n",
       "8   Hot Ping Pong Execution           WAMR  3.587382e+08  358743991.5   \n",
       "\n",
       "   Std Dev (ns)    Min (ns)      Max (ns)  CV (%)  Samples  \n",
       "0  3.728382e+07   1307459.0  1.291303e+08   57.15      100  \n",
       "1  1.710867e+08   5945720.0  5.941880e+08   57.09      100  \n",
       "2  1.748448e+08   6047923.0  6.057906e+08   57.24      100  \n",
       "3  5.663378e+08  19639849.0  1.960633e+09   57.18      100  \n",
       "4  1.692629e+08   5890106.0  5.857182e+08   57.07      100  \n",
       "5  1.747717e+08   6044161.0  6.049562e+08   57.20      100  \n",
       "6  2.051791e+08   7145290.0  7.109653e+08   57.15      100  \n",
       "7  1.869702e+08   6483606.0  6.477865e+08   57.14      100  \n",
       "8  2.050512e+08   7108752.0  7.103339e+08   57.16      100  "
      ]
     },
     "metadata": {},
     "output_type": "display_data"
    }
   ],
   "source": [
    "# Display summary table\n",
    "df = analyzer.df\n",
    "if not df.empty:\n",
    "    print(\"📊 BENCHMARK RESULTS SUMMARY\")\n",
    "    print(\"=\" * 50)\n",
    "    display(df.round(2))\n",
    "else:\n",
    "    print(\"❌ No benchmark data found. Make sure to run 'cargo bench --benches' first!\")"
   ]
  },
  {
   "cell_type": "code",
   "execution_count": 6,
   "metadata": {},
   "outputs": [
    {
     "name": "stdout",
     "output_type": "stream",
     "text": [
      "🏆 PERFORMANCE WINNERS BY CATEGORY\n",
      "========================================\n",
      "\n",
      "Cold Ping Pong Execution:\n",
      "  🥇 Winner: Wasmtime (65243576ns)\n",
      "    🥇 Wasmtime: 65243576ns [1.00x]\n",
      "    🥉 Native: 299658902ns [4.59x]\n",
      "    🥉 WAMR: 305435859ns [4.68x]\n",
      "    📈 Performance gap: 4.68x (240192283ns)\n",
      "\n",
      "Runtime Setup:\n",
      "  🥇 Winner: Native (296595835ns)\n",
      "    🥇 Native: 296595835ns [1.00x]\n",
      "    🥈 WAMR: 305570405ns [1.03x]\n",
      "    🥉 Wasmtime: 990530805ns [3.34x]\n",
      "    📈 Performance gap: 3.34x (693934969ns)\n",
      "\n",
      "Hot Ping Pong Execution:\n",
      "  🥇 Winner: Native (327190101ns)\n",
      "    🥇 Native: 327190101ns [1.00x]\n",
      "    🥈 WAMR: 358738152ns [1.10x]\n",
      "    🥈 Wasmtime: 359032207ns [1.10x]\n",
      "    📈 Performance gap: 1.10x (31842106ns)\n"
     ]
    }
   ],
   "source": [
    "# Performance analysis per group\n",
    "if not df.empty:\n",
    "    print(\"🏆 PERFORMANCE WINNERS BY CATEGORY\")\n",
    "    print(\"=\" * 40)\n",
    "    \n",
    "    for group_name in df['Group'].unique():\n",
    "        group_df = df[df['Group'] == group_name].copy()\n",
    "        group_df = group_df.sort_values('Mean (ns)')\n",
    "        \n",
    "        fastest = group_df.iloc[0]\n",
    "        print(f\"\\n{group_name}:\")\n",
    "        print(f\"  🥇 Winner: {fastest['Implementation']} ({fastest['Mean (ns)']:.0f}ns)\")\n",
    "        \n",
    "        # Show relative performance\n",
    "        for _, row in group_df.iterrows():\n",
    "            relative_perf = row['Mean (ns)'] / fastest['Mean (ns)']\n",
    "            emoji = \"🥇\" if relative_perf == 1.0 else \"🥈\" if relative_perf < 2.0 else \"🥉\" if relative_perf < 5.0 else \"📊\"\n",
    "            print(f\"    {emoji} {row['Implementation']}: {row['Mean (ns)']:.0f}ns [{relative_perf:.2f}x]\")\n",
    "        \n",
    "        # Performance gap\n",
    "        if len(group_df) > 1:\n",
    "            slowest = group_df.iloc[-1]\n",
    "            speedup = slowest['Mean (ns)'] / fastest['Mean (ns)']\n",
    "            print(f\"    📈 Performance gap: {speedup:.2f}x ({slowest['Mean (ns)'] - fastest['Mean (ns)']:.0f}ns)\")"
   ]
  },
  {
   "cell_type": "markdown",
   "metadata": {},
   "source": [
    "# 📊 Plot Interpretation Guide\n",
    "\n",
    "This section explains how to interpret each type of plot and what to look for in your performance analysis.\n",
    "\n",
    "## 🎯 General Principle: **LOWER IS BETTER**\n",
    "For all timing measurements, **lower values = better performance** (faster execution).\n",
    "\n",
    "---\n",
    "\n",
    "## 📈 Bar Charts (Mean Performance)\n",
    "\n",
    "**What it shows:** Average execution time with error bars (standard deviation)\n",
    "\n",
    "**How to interpret:**\n",
    "- **📏 Bar Height:** Lower bars = faster performance ✅\n",
    "- **📐 Error Bars:** Shorter error bars = more consistent performance ✅\n",
    "- **📊 Comparison:** Easy to compare average performance between implementations\n",
    "\n",
    "**Look for:**\n",
    "- Which implementation has the **shortest bars** (fastest average)\n",
    "- Which has the **smallest error bars** (most consistent)\n",
    "- Large differences between implementations (performance gaps)\n",
    "\n",
    "---\n",
    "\n",
    "## 📦 Box Plots (Distribution Analysis)\n",
    "\n",
    "**What it shows:** Full distribution of all timing measurements\n",
    "\n",
    "**Box plot anatomy:**\n",
    "```\n",
    "     ┬ ← Max (excluding outliers)\n",
    "     │\n",
    "   ┌─┴─┐ ← 75th percentile (Q3)\n",
    "   │ ▬ │ ← Median (50th percentile)\n",
    "   └─┬─┘ ← 25th percentile (Q1)\n",
    "     │\n",
    "     ┴ ← Min (excluding outliers)\n",
    "     ● ← Outliers\n",
    "```\n",
    "\n",
    "**How to interpret:**\n",
    "- **🎯 Median line (middle line):** Lower = better average performance\n",
    "- **📦 Box height (Q3-Q1):** Shorter box = more consistent performance ✅\n",
    "- **📐 Whiskers (top/bottom lines):** Shorter whiskers = less variability ✅\n",
    "- **⚫ Outliers (dots):** Fewer outliers = more predictable performance ✅\n",
    "\n",
    "**Look for:**\n",
    "- **Lower median** (middle line in box)\n",
    "- **Shorter, tighter boxes** (consistent performance)\n",
    "- **Fewer outliers** (predictable behavior)\n",
    "\n",
    "---\n",
    "\n",
    "## 🌡️ Heatmap (Relative Performance)\n",
    "\n",
    "**What it shows:** Relative performance comparison normalized within each benchmark group\n",
    "\n",
    "**Color interpretation:**\n",
    "- 🟢 **Green values (closer to 1.0):** Better relative performance ✅\n",
    "- 🟡 **Yellow values (1.5-3.0):** Moderate performance\n",
    "- 🔴 **Red values (>3.0):** Worse relative performance ❌\n",
    "\n",
    "**How to read the numbers:**\n",
    "- **1.00:** Best performer in that category (baseline)\n",
    "- **2.50:** 2.5× slower than the best performer\n",
    "- **5.00:** 5× slower than the best performer\n",
    "\n",
    "**Look for:**\n",
    "- **Green cells** (values close to 1.0) across multiple benchmark categories\n",
    "- **Consistent patterns** - does one implementation always perform well?\n",
    "- **Trade-offs** - good at setup but slow at execution, or vice versa\n",
    "\n",
    "---\n",
    "\n",
    "## 📋 Statistical Table\n",
    "\n",
    "**Key metrics to focus on:**\n",
    "\n",
    "| Metric | Better Value | What It Means |\n",
    "|--------|-------------|---------------|\n",
    "| **Mean (ns)** | Lower ⬇️ | Average execution time |\n",
    "| **Median (ns)** | Lower ⬇️ | Middle value (less affected by outliers) |\n",
    "| **Std Dev (ns)** | Lower ⬇️ | How much times vary (consistency) |\n",
    "| **CV (%)** | Lower ⬇️ | Coefficient of Variation (relative consistency) |\n",
    "| **Min (ns)** | Lower ⬇️ | Best-case performance |\n",
    "| **Max (ns)** | Lower ⬇️ | Worst-case performance |\n",
    "\n",
    "---\n",
    "\n",
    "## 🎖️ Coefficient of Variation (CV) Guide\n",
    "\n",
    "**CV measures consistency relative to the mean:**\n",
    "\n",
    "| CV Range | Interpretation | Quality |\n",
    "|----------|----------------|---------|\n",
    "| **< 5%** | Very consistent ✅ | Excellent |\n",
    "| **5-10%** | Moderately consistent ✅ | Good |\n",
    "| **10-20%** | Somewhat variable ⚠️ | Fair |\n",
    "| **> 20%** | Highly variable ❌ | Poor |\n",
    "\n",
    "**Lower CV% = More predictable performance** ✅\n",
    "\n",
    "---\n",
    "\n",
    "## 🔍 What to Look For in Your Analysis\n",
    "\n",
    "### For **Runtime Setup**:\n",
    "- Which runtime initializes fastest?\n",
    "- Is the overhead consistent or variable?\n",
    "\n",
    "### For **Cold Execution** (first run):\n",
    "- Which handles cold starts best?\n",
    "- How much does compilation/initialization impact performance?\n",
    "\n",
    "### For **Hot Execution** (repeated runs):\n",
    "- Which runtime is fastest once warmed up?\n",
    "- How consistent is the hot performance?\n",
    "\n",
    "### Overall Questions:\n",
    "1. **Speed:** Which implementation is fastest overall?\n",
    "2. **Consistency:** Which implementation is most predictable?\n",
    "3. **Trade-offs:** Are there setup vs. execution trade-offs?\n",
    "4. **Use case fit:** Which runtime fits your specific use case best?\n",
    "\n",
    "**Remember: The \"best\" choice depends on your specific requirements!** 🎯"
   ]
  },
  {
   "cell_type": "markdown",
   "metadata": {},
   "source": [
    "## Interactive Visualizations"
   ]
  },
  {
   "cell_type": "code",
   "execution_count": 7,
   "metadata": {},
   "outputs": [
    {
     "data": {
      "application/vnd.plotly.v1+json": {
       "config": {
        "plotlyServerURL": "https://plot.ly"
       },
       "data": [
        {
         "error_y": {
          "array": {
           "bdata": "vdtpRj/HgUE=",
           "dtype": "f8"
          }
         },
         "hovertemplate": "Implementation=%{x}<br>Group=Cold Ping Pong Execution<br>Execution Time (ns)=%{y}<extra></extra>",
         "legendgroup": "Wasmtime",
         "marker": {
          "color": "#636efa",
          "pattern": {
           "shape": ""
          }
         },
         "name": "Wasmtime",
         "orientation": "v",
         "showlegend": true,
         "textposition": "auto",
         "type": "bar",
         "x": [
          "Wasmtime"
         ],
         "xaxis": "x",
         "y": {
          "bdata": "KVyPwk0cj0E=",
          "dtype": "f8"
         },
         "yaxis": "y"
        },
        {
         "error_y": {
          "array": {
           "bdata": "+GG9htDgwEE=",
           "dtype": "f8"
          }
         },
         "hovertemplate": "Implementation=%{x}<br>Group=Runtime Setup<br>Execution Time (ns)=%{y}<extra></extra>",
         "legendgroup": "Wasmtime",
         "marker": {
          "color": "#636efa",
          "pattern": {
           "shape": ""
          }
         },
         "name": "Wasmtime",
         "orientation": "v",
         "showlegend": false,
         "textposition": "auto",
         "type": "bar",
         "x": [
          "Wasmtime"
         ],
         "xaxis": "x2",
         "y": {
          "bdata": "7FFYeiaFzUE=",
          "dtype": "f8"
         },
         "yaxis": "y2"
        },
        {
         "error_y": {
          "array": {
           "bdata": "u3uK+JF1qEE=",
           "dtype": "f8"
          }
         },
         "hovertemplate": "Implementation=%{x}<br>Group=Hot Ping Pong Execution<br>Execution Time (ns)=%{y}<extra></extra>",
         "legendgroup": "Wasmtime",
         "marker": {
          "color": "#636efa",
          "pattern": {
           "shape": ""
          }
         },
         "name": "Wasmtime",
         "orientation": "v",
         "showlegend": false,
         "textposition": "auto",
         "type": "bar",
         "x": [
          "Wasmtime"
         ],
         "xaxis": "x3",
         "y": {
          "bdata": "4XqUjmVmtUE=",
          "dtype": "f8"
         },
         "yaxis": "y3"
        },
        {
         "error_y": {
          "array": {
           "bdata": "KF8luCZlpEE=",
           "dtype": "f8"
          }
         },
         "hovertemplate": "Implementation=%{x}<br>Group=Cold Ping Pong Execution<br>Execution Time (ns)=%{y}<extra></extra>",
         "legendgroup": "Native",
         "marker": {
          "color": "#EF553B",
          "pattern": {
           "shape": ""
          }
         },
         "name": "Native",
         "orientation": "v",
         "showlegend": true,
         "textposition": "auto",
         "type": "bar",
         "x": [
          "Native"
         ],
         "xaxis": "x",
         "y": {
          "bdata": "PQqXlW7csUE=",
          "dtype": "f8"
         },
         "yaxis": "y"
        },
        {
         "error_y": {
          "array": {
           "bdata": "+9N0w34tpEE=",
           "dtype": "f8"
          }
         },
         "hovertemplate": "Implementation=%{x}<br>Group=Runtime Setup<br>Execution Time (ns)=%{y}<extra></extra>",
         "legendgroup": "Native",
         "marker": {
          "color": "#EF553B",
          "pattern": {
           "shape": ""
          }
         },
         "name": "Native",
         "orientation": "v",
         "showlegend": false,
         "textposition": "auto",
         "type": "bar",
         "x": [
          "Native"
         ],
         "xaxis": "x2",
         "y": {
          "bdata": "16Nwe7GtsUE=",
          "dtype": "f8"
         },
         "yaxis": "y2"
        },
        {
         "error_y": {
          "array": {
           "bdata": "Kttew+BJpkE=",
           "dtype": "f8"
          }
         },
         "hovertemplate": "Implementation=%{x}<br>Group=Hot Ping Pong Execution<br>Execution Time (ns)=%{y}<extra></extra>",
         "legendgroup": "Native",
         "marker": {
          "color": "#EF553B",
          "pattern": {
           "shape": ""
          }
         },
         "name": "Native",
         "orientation": "v",
         "showlegend": false,
         "textposition": "auto",
         "type": "bar",
         "x": [
          "Native"
         ],
         "xaxis": "x3",
         "y": {
          "bdata": "zczMVIaAs0E=",
          "dtype": "f8"
         },
         "yaxis": "y3"
        },
        {
         "error_y": {
          "array": {
           "bdata": "5vq0CdfXpEE=",
           "dtype": "f8"
          }
         },
         "hovertemplate": "Implementation=%{x}<br>Group=Cold Ping Pong Execution<br>Execution Time (ns)=%{y}<extra></extra>",
         "legendgroup": "WAMR",
         "marker": {
          "color": "#00cc96",
          "pattern": {
           "shape": ""
          }
         },
         "name": "WAMR",
         "orientation": "v",
         "showlegend": true,
         "textposition": "auto",
         "type": "bar",
         "x": [
          "WAMR"
         ],
         "xaxis": "x",
         "y": {
          "bdata": "ZmZm05Q0skE=",
          "dtype": "f8"
         },
         "yaxis": "y"
        },
        {
         "error_y": {
          "array": {
           "bdata": "oO24MZzVpEE=",
           "dtype": "f8"
          }
         },
         "hovertemplate": "Implementation=%{x}<br>Group=Runtime Setup<br>Execution Time (ns)=%{y}<extra></extra>",
         "legendgroup": "WAMR",
         "marker": {
          "color": "#00cc96",
          "pattern": {
           "shape": ""
          }
         },
         "name": "WAMR",
         "orientation": "v",
         "showlegend": false,
         "textposition": "auto",
         "type": "bar",
         "x": [
          "WAMR"
         ],
         "xaxis": "x2",
         "y": {
          "bdata": "CtfjZKI2skE=",
          "dtype": "f8"
         },
         "yaxis": "y2"
        },
        {
         "error_y": {
          "array": {
           "bdata": "5aOOOqpxqEE=",
           "dtype": "f8"
          }
         },
         "hovertemplate": "Implementation=%{x}<br>Group=Hot Ping Pong Execution<br>Execution Time (ns)=%{y}<extra></extra>",
         "legendgroup": "WAMR",
         "marker": {
          "color": "#00cc96",
          "pattern": {
           "shape": ""
          }
         },
         "name": "WAMR",
         "orientation": "v",
         "showlegend": false,
         "textposition": "auto",
         "type": "bar",
         "x": [
          "WAMR"
         ],
         "xaxis": "x3",
         "y": {
          "bdata": "KVwP6OhhtUE=",
          "dtype": "f8"
         },
         "yaxis": "y3"
        }
       ],
       "layout": {
        "annotations": [
         {
          "font": {},
          "showarrow": false,
          "text": "Group=Cold Ping Pong Execution",
          "x": 0.15999999999999998,
          "xanchor": "center",
          "xref": "paper",
          "y": 1,
          "yanchor": "bottom",
          "yref": "paper"
         },
         {
          "font": {},
          "showarrow": false,
          "text": "Group=Runtime Setup",
          "x": 0.49999999999999994,
          "xanchor": "center",
          "xref": "paper",
          "y": 1,
          "yanchor": "bottom",
          "yref": "paper"
         },
         {
          "font": {},
          "showarrow": false,
          "text": "Group=Hot Ping Pong Execution",
          "x": 0.8399999999999999,
          "xanchor": "center",
          "xref": "paper",
          "y": 1,
          "yanchor": "bottom",
          "yref": "paper"
         }
        ],
        "barmode": "relative",
        "font": {
         "size": 12
        },
        "height": 500,
        "legend": {
         "title": {
          "text": "Implementation"
         },
         "tracegroupgap": 0
        },
        "showlegend": false,
        "template": {
         "data": {
          "bar": [
           {
            "error_x": {
             "color": "#2a3f5f"
            },
            "error_y": {
             "color": "#2a3f5f"
            },
            "marker": {
             "line": {
              "color": "#E5ECF6",
              "width": 0.5
             },
             "pattern": {
              "fillmode": "overlay",
              "size": 10,
              "solidity": 0.2
             }
            },
            "type": "bar"
           }
          ],
          "barpolar": [
           {
            "marker": {
             "line": {
              "color": "#E5ECF6",
              "width": 0.5
             },
             "pattern": {
              "fillmode": "overlay",
              "size": 10,
              "solidity": 0.2
             }
            },
            "type": "barpolar"
           }
          ],
          "carpet": [
           {
            "aaxis": {
             "endlinecolor": "#2a3f5f",
             "gridcolor": "white",
             "linecolor": "white",
             "minorgridcolor": "white",
             "startlinecolor": "#2a3f5f"
            },
            "baxis": {
             "endlinecolor": "#2a3f5f",
             "gridcolor": "white",
             "linecolor": "white",
             "minorgridcolor": "white",
             "startlinecolor": "#2a3f5f"
            },
            "type": "carpet"
           }
          ],
          "choropleth": [
           {
            "colorbar": {
             "outlinewidth": 0,
             "ticks": ""
            },
            "type": "choropleth"
           }
          ],
          "contour": [
           {
            "colorbar": {
             "outlinewidth": 0,
             "ticks": ""
            },
            "colorscale": [
             [
              0,
              "#0d0887"
             ],
             [
              0.1111111111111111,
              "#46039f"
             ],
             [
              0.2222222222222222,
              "#7201a8"
             ],
             [
              0.3333333333333333,
              "#9c179e"
             ],
             [
              0.4444444444444444,
              "#bd3786"
             ],
             [
              0.5555555555555556,
              "#d8576b"
             ],
             [
              0.6666666666666666,
              "#ed7953"
             ],
             [
              0.7777777777777778,
              "#fb9f3a"
             ],
             [
              0.8888888888888888,
              "#fdca26"
             ],
             [
              1,
              "#f0f921"
             ]
            ],
            "type": "contour"
           }
          ],
          "contourcarpet": [
           {
            "colorbar": {
             "outlinewidth": 0,
             "ticks": ""
            },
            "type": "contourcarpet"
           }
          ],
          "heatmap": [
           {
            "colorbar": {
             "outlinewidth": 0,
             "ticks": ""
            },
            "colorscale": [
             [
              0,
              "#0d0887"
             ],
             [
              0.1111111111111111,
              "#46039f"
             ],
             [
              0.2222222222222222,
              "#7201a8"
             ],
             [
              0.3333333333333333,
              "#9c179e"
             ],
             [
              0.4444444444444444,
              "#bd3786"
             ],
             [
              0.5555555555555556,
              "#d8576b"
             ],
             [
              0.6666666666666666,
              "#ed7953"
             ],
             [
              0.7777777777777778,
              "#fb9f3a"
             ],
             [
              0.8888888888888888,
              "#fdca26"
             ],
             [
              1,
              "#f0f921"
             ]
            ],
            "type": "heatmap"
           }
          ],
          "histogram": [
           {
            "marker": {
             "pattern": {
              "fillmode": "overlay",
              "size": 10,
              "solidity": 0.2
             }
            },
            "type": "histogram"
           }
          ],
          "histogram2d": [
           {
            "colorbar": {
             "outlinewidth": 0,
             "ticks": ""
            },
            "colorscale": [
             [
              0,
              "#0d0887"
             ],
             [
              0.1111111111111111,
              "#46039f"
             ],
             [
              0.2222222222222222,
              "#7201a8"
             ],
             [
              0.3333333333333333,
              "#9c179e"
             ],
             [
              0.4444444444444444,
              "#bd3786"
             ],
             [
              0.5555555555555556,
              "#d8576b"
             ],
             [
              0.6666666666666666,
              "#ed7953"
             ],
             [
              0.7777777777777778,
              "#fb9f3a"
             ],
             [
              0.8888888888888888,
              "#fdca26"
             ],
             [
              1,
              "#f0f921"
             ]
            ],
            "type": "histogram2d"
           }
          ],
          "histogram2dcontour": [
           {
            "colorbar": {
             "outlinewidth": 0,
             "ticks": ""
            },
            "colorscale": [
             [
              0,
              "#0d0887"
             ],
             [
              0.1111111111111111,
              "#46039f"
             ],
             [
              0.2222222222222222,
              "#7201a8"
             ],
             [
              0.3333333333333333,
              "#9c179e"
             ],
             [
              0.4444444444444444,
              "#bd3786"
             ],
             [
              0.5555555555555556,
              "#d8576b"
             ],
             [
              0.6666666666666666,
              "#ed7953"
             ],
             [
              0.7777777777777778,
              "#fb9f3a"
             ],
             [
              0.8888888888888888,
              "#fdca26"
             ],
             [
              1,
              "#f0f921"
             ]
            ],
            "type": "histogram2dcontour"
           }
          ],
          "mesh3d": [
           {
            "colorbar": {
             "outlinewidth": 0,
             "ticks": ""
            },
            "type": "mesh3d"
           }
          ],
          "parcoords": [
           {
            "line": {
             "colorbar": {
              "outlinewidth": 0,
              "ticks": ""
             }
            },
            "type": "parcoords"
           }
          ],
          "pie": [
           {
            "automargin": true,
            "type": "pie"
           }
          ],
          "scatter": [
           {
            "fillpattern": {
             "fillmode": "overlay",
             "size": 10,
             "solidity": 0.2
            },
            "type": "scatter"
           }
          ],
          "scatter3d": [
           {
            "line": {
             "colorbar": {
              "outlinewidth": 0,
              "ticks": ""
             }
            },
            "marker": {
             "colorbar": {
              "outlinewidth": 0,
              "ticks": ""
             }
            },
            "type": "scatter3d"
           }
          ],
          "scattercarpet": [
           {
            "marker": {
             "colorbar": {
              "outlinewidth": 0,
              "ticks": ""
             }
            },
            "type": "scattercarpet"
           }
          ],
          "scattergeo": [
           {
            "marker": {
             "colorbar": {
              "outlinewidth": 0,
              "ticks": ""
             }
            },
            "type": "scattergeo"
           }
          ],
          "scattergl": [
           {
            "marker": {
             "colorbar": {
              "outlinewidth": 0,
              "ticks": ""
             }
            },
            "type": "scattergl"
           }
          ],
          "scattermap": [
           {
            "marker": {
             "colorbar": {
              "outlinewidth": 0,
              "ticks": ""
             }
            },
            "type": "scattermap"
           }
          ],
          "scattermapbox": [
           {
            "marker": {
             "colorbar": {
              "outlinewidth": 0,
              "ticks": ""
             }
            },
            "type": "scattermapbox"
           }
          ],
          "scatterpolar": [
           {
            "marker": {
             "colorbar": {
              "outlinewidth": 0,
              "ticks": ""
             }
            },
            "type": "scatterpolar"
           }
          ],
          "scatterpolargl": [
           {
            "marker": {
             "colorbar": {
              "outlinewidth": 0,
              "ticks": ""
             }
            },
            "type": "scatterpolargl"
           }
          ],
          "scatterternary": [
           {
            "marker": {
             "colorbar": {
              "outlinewidth": 0,
              "ticks": ""
             }
            },
            "type": "scatterternary"
           }
          ],
          "surface": [
           {
            "colorbar": {
             "outlinewidth": 0,
             "ticks": ""
            },
            "colorscale": [
             [
              0,
              "#0d0887"
             ],
             [
              0.1111111111111111,
              "#46039f"
             ],
             [
              0.2222222222222222,
              "#7201a8"
             ],
             [
              0.3333333333333333,
              "#9c179e"
             ],
             [
              0.4444444444444444,
              "#bd3786"
             ],
             [
              0.5555555555555556,
              "#d8576b"
             ],
             [
              0.6666666666666666,
              "#ed7953"
             ],
             [
              0.7777777777777778,
              "#fb9f3a"
             ],
             [
              0.8888888888888888,
              "#fdca26"
             ],
             [
              1,
              "#f0f921"
             ]
            ],
            "type": "surface"
           }
          ],
          "table": [
           {
            "cells": {
             "fill": {
              "color": "#EBF0F8"
             },
             "line": {
              "color": "white"
             }
            },
            "header": {
             "fill": {
              "color": "#C8D4E3"
             },
             "line": {
              "color": "white"
             }
            },
            "type": "table"
           }
          ]
         },
         "layout": {
          "annotationdefaults": {
           "arrowcolor": "#2a3f5f",
           "arrowhead": 0,
           "arrowwidth": 1
          },
          "autotypenumbers": "strict",
          "coloraxis": {
           "colorbar": {
            "outlinewidth": 0,
            "ticks": ""
           }
          },
          "colorscale": {
           "diverging": [
            [
             0,
             "#8e0152"
            ],
            [
             0.1,
             "#c51b7d"
            ],
            [
             0.2,
             "#de77ae"
            ],
            [
             0.3,
             "#f1b6da"
            ],
            [
             0.4,
             "#fde0ef"
            ],
            [
             0.5,
             "#f7f7f7"
            ],
            [
             0.6,
             "#e6f5d0"
            ],
            [
             0.7,
             "#b8e186"
            ],
            [
             0.8,
             "#7fbc41"
            ],
            [
             0.9,
             "#4d9221"
            ],
            [
             1,
             "#276419"
            ]
           ],
           "sequential": [
            [
             0,
             "#0d0887"
            ],
            [
             0.1111111111111111,
             "#46039f"
            ],
            [
             0.2222222222222222,
             "#7201a8"
            ],
            [
             0.3333333333333333,
             "#9c179e"
            ],
            [
             0.4444444444444444,
             "#bd3786"
            ],
            [
             0.5555555555555556,
             "#d8576b"
            ],
            [
             0.6666666666666666,
             "#ed7953"
            ],
            [
             0.7777777777777778,
             "#fb9f3a"
            ],
            [
             0.8888888888888888,
             "#fdca26"
            ],
            [
             1,
             "#f0f921"
            ]
           ],
           "sequentialminus": [
            [
             0,
             "#0d0887"
            ],
            [
             0.1111111111111111,
             "#46039f"
            ],
            [
             0.2222222222222222,
             "#7201a8"
            ],
            [
             0.3333333333333333,
             "#9c179e"
            ],
            [
             0.4444444444444444,
             "#bd3786"
            ],
            [
             0.5555555555555556,
             "#d8576b"
            ],
            [
             0.6666666666666666,
             "#ed7953"
            ],
            [
             0.7777777777777778,
             "#fb9f3a"
            ],
            [
             0.8888888888888888,
             "#fdca26"
            ],
            [
             1,
             "#f0f921"
            ]
           ]
          },
          "colorway": [
           "#636efa",
           "#EF553B",
           "#00cc96",
           "#ab63fa",
           "#FFA15A",
           "#19d3f3",
           "#FF6692",
           "#B6E880",
           "#FF97FF",
           "#FECB52"
          ],
          "font": {
           "color": "#2a3f5f"
          },
          "geo": {
           "bgcolor": "white",
           "lakecolor": "white",
           "landcolor": "#E5ECF6",
           "showlakes": true,
           "showland": true,
           "subunitcolor": "white"
          },
          "hoverlabel": {
           "align": "left"
          },
          "hovermode": "closest",
          "mapbox": {
           "style": "light"
          },
          "paper_bgcolor": "white",
          "plot_bgcolor": "#E5ECF6",
          "polar": {
           "angularaxis": {
            "gridcolor": "white",
            "linecolor": "white",
            "ticks": ""
           },
           "bgcolor": "#E5ECF6",
           "radialaxis": {
            "gridcolor": "white",
            "linecolor": "white",
            "ticks": ""
           }
          },
          "scene": {
           "xaxis": {
            "backgroundcolor": "#E5ECF6",
            "gridcolor": "white",
            "gridwidth": 2,
            "linecolor": "white",
            "showbackground": true,
            "ticks": "",
            "zerolinecolor": "white"
           },
           "yaxis": {
            "backgroundcolor": "#E5ECF6",
            "gridcolor": "white",
            "gridwidth": 2,
            "linecolor": "white",
            "showbackground": true,
            "ticks": "",
            "zerolinecolor": "white"
           },
           "zaxis": {
            "backgroundcolor": "#E5ECF6",
            "gridcolor": "white",
            "gridwidth": 2,
            "linecolor": "white",
            "showbackground": true,
            "ticks": "",
            "zerolinecolor": "white"
           }
          },
          "shapedefaults": {
           "line": {
            "color": "#2a3f5f"
           }
          },
          "ternary": {
           "aaxis": {
            "gridcolor": "white",
            "linecolor": "white",
            "ticks": ""
           },
           "baxis": {
            "gridcolor": "white",
            "linecolor": "white",
            "ticks": ""
           },
           "bgcolor": "#E5ECF6",
           "caxis": {
            "gridcolor": "white",
            "linecolor": "white",
            "ticks": ""
           }
          },
          "title": {
           "x": 0.05
          },
          "xaxis": {
           "automargin": true,
           "gridcolor": "white",
           "linecolor": "white",
           "ticks": "",
           "title": {
            "standoff": 15
           },
           "zerolinecolor": "white",
           "zerolinewidth": 2
          },
          "yaxis": {
           "automargin": true,
           "gridcolor": "white",
           "linecolor": "white",
           "ticks": "",
           "title": {
            "standoff": 15
           },
           "zerolinecolor": "white",
           "zerolinewidth": 2
          }
         }
        },
        "title": {
         "font": {
          "size": 16
         },
         "text": "Benchmark Performance Comparison"
        },
        "xaxis": {
         "anchor": "y",
         "categoryarray": [
          "Wasmtime",
          "Native",
          "WAMR"
         ],
         "categoryorder": "array",
         "domain": [
          0,
          0.31999999999999995
         ],
         "tickangle": 45,
         "title": {
          "text": "Implementation"
         }
        },
        "xaxis2": {
         "anchor": "y2",
         "categoryarray": [
          "Wasmtime",
          "Native",
          "WAMR"
         ],
         "categoryorder": "array",
         "domain": [
          0.33999999999999997,
          0.6599999999999999
         ],
         "matches": "x",
         "tickangle": 45,
         "title": {
          "text": "Implementation"
         }
        },
        "xaxis3": {
         "anchor": "y3",
         "categoryarray": [
          "Wasmtime",
          "Native",
          "WAMR"
         ],
         "categoryorder": "array",
         "domain": [
          0.6799999999999999,
          0.9999999999999999
         ],
         "matches": "x",
         "tickangle": 45,
         "title": {
          "text": "Implementation"
         }
        },
        "yaxis": {
         "anchor": "x",
         "domain": [
          0,
          1
         ],
         "title": {
          "text": "Execution Time (ns)"
         }
        },
        "yaxis2": {
         "anchor": "x2",
         "domain": [
          0,
          1
         ],
         "matches": "y",
         "showticklabels": false
        },
        "yaxis3": {
         "anchor": "x3",
         "domain": [
          0,
          1
         ],
         "matches": "y",
         "showticklabels": false
        }
       }
      }
     },
     "metadata": {},
     "output_type": "display_data"
    }
   ],
   "source": [
    "# Interactive bar chart with Plotly\n",
    "if not df.empty:\n",
    "    fig = px.bar(\n",
    "        df, \n",
    "        x='Implementation', \n",
    "        y='Mean (ns)', \n",
    "        color='Implementation',\n",
    "        facet_col='Group',\n",
    "        error_y='Std Dev (ns)',\n",
    "        title='Benchmark Performance Comparison',\n",
    "        labels={'Mean (ns)': 'Execution Time (ns)'},\n",
    "        height=500\n",
    "    )\n",
    "    \n",
    "    fig.update_layout(\n",
    "        showlegend=False,\n",
    "        font=dict(size=12),\n",
    "        title_font_size=16\n",
    "    )\n",
    "    \n",
    "    # Rotate x-axis labels for better readability\n",
    "    fig.update_xaxes(tickangle=45)\n",
    "    \n",
    "    fig.show()\n",
    "else:\n",
    "    print(\"❌ No data available for plotting.\")"
   ]
  },
  {
   "cell_type": "code",
   "execution_count": 8,
   "metadata": {},
   "outputs": [
    {
     "data": {
      "application/vnd.plotly.v1+json": {
       "config": {
        "plotlyServerURL": "https://plot.ly"
       },
       "data": [
        {
         "alignmentgroup": "True",
         "hovertemplate": "Implementation=%{x}<br>Group=Cold Ping Pong Execution<br>Time (ns)=%{y}<extra></extra>",
         "legendgroup": "Wasmtime",
         "marker": {
          "color": "#636efa"
         },
         "name": "Wasmtime",
         "notched": false,
         "offsetgroup": "Wasmtime",
         "orientation": "v",
         "showlegend": true,
         "type": "box",
         "x": [
          "Wasmtime",
          "Wasmtime",
          "Wasmtime",
          "Wasmtime",
          "Wasmtime",
          "Wasmtime",
          "Wasmtime",
          "Wasmtime",
          "Wasmtime",
          "Wasmtime",
          "Wasmtime",
          "Wasmtime",
          "Wasmtime",
          "Wasmtime",
          "Wasmtime",
          "Wasmtime",
          "Wasmtime",
          "Wasmtime",
          "Wasmtime",
          "Wasmtime",
          "Wasmtime",
          "Wasmtime",
          "Wasmtime",
          "Wasmtime",
          "Wasmtime",
          "Wasmtime",
          "Wasmtime",
          "Wasmtime",
          "Wasmtime",
          "Wasmtime",
          "Wasmtime",
          "Wasmtime",
          "Wasmtime",
          "Wasmtime",
          "Wasmtime",
          "Wasmtime",
          "Wasmtime",
          "Wasmtime",
          "Wasmtime",
          "Wasmtime",
          "Wasmtime",
          "Wasmtime",
          "Wasmtime",
          "Wasmtime",
          "Wasmtime",
          "Wasmtime",
          "Wasmtime",
          "Wasmtime",
          "Wasmtime",
          "Wasmtime",
          "Wasmtime",
          "Wasmtime",
          "Wasmtime",
          "Wasmtime",
          "Wasmtime",
          "Wasmtime",
          "Wasmtime",
          "Wasmtime",
          "Wasmtime",
          "Wasmtime",
          "Wasmtime",
          "Wasmtime",
          "Wasmtime",
          "Wasmtime",
          "Wasmtime",
          "Wasmtime",
          "Wasmtime",
          "Wasmtime",
          "Wasmtime",
          "Wasmtime",
          "Wasmtime",
          "Wasmtime",
          "Wasmtime",
          "Wasmtime",
          "Wasmtime",
          "Wasmtime",
          "Wasmtime",
          "Wasmtime",
          "Wasmtime",
          "Wasmtime",
          "Wasmtime",
          "Wasmtime",
          "Wasmtime",
          "Wasmtime",
          "Wasmtime",
          "Wasmtime",
          "Wasmtime",
          "Wasmtime",
          "Wasmtime",
          "Wasmtime",
          "Wasmtime",
          "Wasmtime",
          "Wasmtime",
          "Wasmtime",
          "Wasmtime",
          "Wasmtime",
          "Wasmtime",
          "Wasmtime",
          "Wasmtime",
          "Wasmtime"
         ],
         "x0": " ",
         "xaxis": "x",
         "y": {
          "bdata": "AAAAAEPzM0EAAACADulDQQAAAAC0401BAAAAQIrWU0EAAACAwcxYQQAAAICq0l1BAAAAAP1oYUEAAABgveVjQQAAAKB+e2ZBAAAAYMjlaEEAAAAgnzdrQQAAAOA5vW1BAAAAoPoYcEEAAACQt01xQQAAAKA5hXJBAAAAEMPRc0EAAAAgMwx1QQAAANB4QHZBAAAAoAiPd0EAAACQ6sd4QQAAALC86nlBAAAAoM0re0EAAABwdmd8QQAAAKDJnH1BAAAAELjcfkEAAADgQAiAQQAAAIDIn4BBAAAAqBVEgUEAAADA6eKBQQAAAKBPdYJBAAAAcCkSg0EAAACoBa6DQQAAAJDDQ4RBAAAAMOHyhEEAAAC4AoiFQQAAABjPJ4ZBAAAAyMTJhkEAAABInFuHQQAAADgLAohBAAAAyF2giEEAAAD4BSyJQQAAAGCw1YlBAAAASOF2ikEAAAD4LQiLQQAAABips4tBAAAASGhVjEEAAAA4beuMQQAAAGjueo1BAAAAkDsijkEAAACAdcmOQQAAAOhpYY9BAAAAOJ/4j0EAAACsq1WQQQAAAIzXpJBBAAAA2LfqkEEAAAAAcTiRQQAAAAwNipFBAAAAnJ3SkUEAAAB8SiGSQQAAAGx6eJJBAAAAvN/CkkEAAAAg3gyTQQAAAEiDcJNBAAAAaPeyk0EAAADoAQ2UQQAAAHyNT5RBAAAA1HuflEEAAAC8TPGUQQAAAMw8QZVBAAAAKEOKlUEAAACE5dOVQQAAAJy8IpZBAAAAVEx2lkEAAACgV8uWQQAAAFR+F5dBAAAAcBtwl0EAAACMUrKXQQAAAHh7/ZdBAAAA6BZPmEEAAAB4Ba6YQQAAACy/+phBAAAA+HhEmUEAAAB88ZeZQQAAAMSazZlBAAAAlOUzmkEAAAD0F3KaQQAAALwsuppBAAAA8Lg3m0EAAADEzImbQQAAALQ4y5tBAAAAkMMUnEEAAAAc4WWcQQAAAEAKs5xBAAAAJOvpnEEAAADcPkCdQQAAAGjXjp1BAAAAYGndnUEAAAAMay2eQQAAAETOiJ5BAAAAPH3JnkE=",
          "dtype": "f8"
         },
         "y0": " ",
         "yaxis": "y"
        },
        {
         "alignmentgroup": "True",
         "hovertemplate": "Implementation=%{x}<br>Group=Runtime Setup<br>Time (ns)=%{y}<extra></extra>",
         "legendgroup": "Wasmtime",
         "marker": {
          "color": "#636efa"
         },
         "name": "Wasmtime",
         "notched": false,
         "offsetgroup": "Wasmtime",
         "orientation": "v",
         "showlegend": false,
         "type": "box",
         "x": [
          "Wasmtime",
          "Wasmtime",
          "Wasmtime",
          "Wasmtime",
          "Wasmtime",
          "Wasmtime",
          "Wasmtime",
          "Wasmtime",
          "Wasmtime",
          "Wasmtime",
          "Wasmtime",
          "Wasmtime",
          "Wasmtime",
          "Wasmtime",
          "Wasmtime",
          "Wasmtime",
          "Wasmtime",
          "Wasmtime",
          "Wasmtime",
          "Wasmtime",
          "Wasmtime",
          "Wasmtime",
          "Wasmtime",
          "Wasmtime",
          "Wasmtime",
          "Wasmtime",
          "Wasmtime",
          "Wasmtime",
          "Wasmtime",
          "Wasmtime",
          "Wasmtime",
          "Wasmtime",
          "Wasmtime",
          "Wasmtime",
          "Wasmtime",
          "Wasmtime",
          "Wasmtime",
          "Wasmtime",
          "Wasmtime",
          "Wasmtime",
          "Wasmtime",
          "Wasmtime",
          "Wasmtime",
          "Wasmtime",
          "Wasmtime",
          "Wasmtime",
          "Wasmtime",
          "Wasmtime",
          "Wasmtime",
          "Wasmtime",
          "Wasmtime",
          "Wasmtime",
          "Wasmtime",
          "Wasmtime",
          "Wasmtime",
          "Wasmtime",
          "Wasmtime",
          "Wasmtime",
          "Wasmtime",
          "Wasmtime",
          "Wasmtime",
          "Wasmtime",
          "Wasmtime",
          "Wasmtime",
          "Wasmtime",
          "Wasmtime",
          "Wasmtime",
          "Wasmtime",
          "Wasmtime",
          "Wasmtime",
          "Wasmtime",
          "Wasmtime",
          "Wasmtime",
          "Wasmtime",
          "Wasmtime",
          "Wasmtime",
          "Wasmtime",
          "Wasmtime",
          "Wasmtime",
          "Wasmtime",
          "Wasmtime",
          "Wasmtime",
          "Wasmtime",
          "Wasmtime",
          "Wasmtime",
          "Wasmtime",
          "Wasmtime",
          "Wasmtime",
          "Wasmtime",
          "Wasmtime",
          "Wasmtime",
          "Wasmtime",
          "Wasmtime",
          "Wasmtime",
          "Wasmtime",
          "Wasmtime",
          "Wasmtime",
          "Wasmtime",
          "Wasmtime",
          "Wasmtime"
         ],
         "x0": " ",
         "xaxis": "x2",
         "y": {
          "bdata": "AAAAkOK6ckEAAADILLWCQQAAAHD+FoxBAAAAHAOxkkEAAACo/GSXQQAAAGykCpxBAAAAhjxaoEEAAABWta2iQQAAAJa7BqVBAAAAnMFcp0EAAABMoLipQQAAALLQCqxBAAAAfgRerkEAAABIw1iwQQAAACx3h7FBAAAAZeyuskEAAADmIdyzQQAAAO1ZBLVBAAAA0eYvtkEAAADqyFu3QQAAAJ/aiLhBAAAA/XKuuUEAAAAgOeS6QQAAANYCDLxBAAAAp202vUEAAADKXl6+QQAAAJDzir9BAAAAzG1awEEAAIBqH/PAQQAAALvIg8FBAACAbcUZwkEAAADe87LCQQAAADUvVMNBAAAAvDvmw0EAAIBYV3jEQQAAAPR6C8VBAACAUwiixUEAAABUgjHGQQAAgIF9xsZBAACAg7pcx0EAAICVcu3HQQAAAIOziMhBAACAfXEcyUEAAAB/7bDJQQAAAKg4SspBAACA8ybdykEAAABGZnPLQQAAgKjxCMxBAAAA2gaizEEAAADutTXNQQAAAEmY081BAACASVVnzkEAAABFPf/OQQAAgJzwkc9BAABANqwW0EEAAIBVnmDQQQAAAC8HrNBBAACAx2j20EEAAMDsv0HRQQAAwByfi9FBAAAA7vXb0UEAAABl9iXSQQAAAGqEbdJBAACA+TC00kEAAICUMAHTQQAAQCUvS9NBAAAAA32V00EAAEAyj+TTQQAAgBsPK9RBAABAyTx21EEAAIDrPcDUQQAAwK+8CtVBAADA2ANW1UEAAIBJKKLVQQAAwP2r7NVBAABAnos31kEAAAArooLWQQAAAOL5z9ZBAABAG40V10EAAABYJGHXQQAAwKCPqddBAABAq8j110EAAEDq1kXYQQAAgPxYjthBAAAAOxPY2EEAAEAXzyPZQQAAgPKNbdlBAABAI1662UEAAEDn2ALaQQAAwO0VUdpBAABA0qee2kEAAMBQRenaQQAAwD/mLttBAAAAT+p220EAAMBu6sbbQQAAgKyBEtxBAABACWFT3EEAAAAJMZzcQQAAQOx98NxBAACAAjk33UE=",
          "dtype": "f8"
         },
         "y0": " ",
         "yaxis": "y2"
        },
        {
         "alignmentgroup": "True",
         "hovertemplate": "Implementation=%{x}<br>Group=Hot Ping Pong Execution<br>Time (ns)=%{y}<extra></extra>",
         "legendgroup": "Wasmtime",
         "marker": {
          "color": "#636efa"
         },
         "name": "Wasmtime",
         "notched": false,
         "offsetgroup": "Wasmtime",
         "orientation": "v",
         "showlegend": false,
         "type": "box",
         "x": [
          "Wasmtime",
          "Wasmtime",
          "Wasmtime",
          "Wasmtime",
          "Wasmtime",
          "Wasmtime",
          "Wasmtime",
          "Wasmtime",
          "Wasmtime",
          "Wasmtime",
          "Wasmtime",
          "Wasmtime",
          "Wasmtime",
          "Wasmtime",
          "Wasmtime",
          "Wasmtime",
          "Wasmtime",
          "Wasmtime",
          "Wasmtime",
          "Wasmtime",
          "Wasmtime",
          "Wasmtime",
          "Wasmtime",
          "Wasmtime",
          "Wasmtime",
          "Wasmtime",
          "Wasmtime",
          "Wasmtime",
          "Wasmtime",
          "Wasmtime",
          "Wasmtime",
          "Wasmtime",
          "Wasmtime",
          "Wasmtime",
          "Wasmtime",
          "Wasmtime",
          "Wasmtime",
          "Wasmtime",
          "Wasmtime",
          "Wasmtime",
          "Wasmtime",
          "Wasmtime",
          "Wasmtime",
          "Wasmtime",
          "Wasmtime",
          "Wasmtime",
          "Wasmtime",
          "Wasmtime",
          "Wasmtime",
          "Wasmtime",
          "Wasmtime",
          "Wasmtime",
          "Wasmtime",
          "Wasmtime",
          "Wasmtime",
          "Wasmtime",
          "Wasmtime",
          "Wasmtime",
          "Wasmtime",
          "Wasmtime",
          "Wasmtime",
          "Wasmtime",
          "Wasmtime",
          "Wasmtime",
          "Wasmtime",
          "Wasmtime",
          "Wasmtime",
          "Wasmtime",
          "Wasmtime",
          "Wasmtime",
          "Wasmtime",
          "Wasmtime",
          "Wasmtime",
          "Wasmtime",
          "Wasmtime",
          "Wasmtime",
          "Wasmtime",
          "Wasmtime",
          "Wasmtime",
          "Wasmtime",
          "Wasmtime",
          "Wasmtime",
          "Wasmtime",
          "Wasmtime",
          "Wasmtime",
          "Wasmtime",
          "Wasmtime",
          "Wasmtime",
          "Wasmtime",
          "Wasmtime",
          "Wasmtime",
          "Wasmtime",
          "Wasmtime",
          "Wasmtime",
          "Wasmtime",
          "Wasmtime",
          "Wasmtime",
          "Wasmtime",
          "Wasmtime",
          "Wasmtime"
         ],
         "x0": " ",
         "xaxis": "x3",
         "y": {
          "bdata": "AAAAgNJBW0EAAAAgYCVrQQAAANDMXHRBAAAAQK0ne0EAAACwYPeAQQAAAAjhX4RBAAAASKfDh0EAAAAw7yeLQQAAANgijI5BAAAAjPn4kEEAAAC49qqSQQAAABReXZRBAAAAIJoQlkEAAABQWMOXQQAAAOTndZlBAAAA4AIom0EAAAB0BNucQQAAAFgGjp5BAAAAeCkfoEEAAAByO/igQQAAANqF06FBAAAAMCGsokEAAABgrH2jQQAAANR3V6RBAAAAmmgxpUEAAADkuwmmQQAAALTo46ZBAAAAjBK7p0EAAACOFpOoQQAAAPgubalBAAAA8BhFqkEAAABULx+rQQAAAHrj9qtBAAAAgqrPrEEAAAC0lKqtQQAAAODpgK5BAAAA9Ctbr0EAAABPEhqwQQAAAKkNh7BBAAAA89X0sEEAAAAJrF6xQQAAAD/Py7FBAAAALxA4skEAAABz86OyQQAAAOM/ELNBAAAAhg19s0EAAADe1OmzQQAAAJscVrRBAAAAHovCtEEAAAAg6C61QQAAAIcrnLVBAAAAIPwHtkEAAADwCnW2QQAAAGWz4bZBAAAAdpJNt0EAAAD8I7q3QQAAAO/WKLhBAAAAfBuTuEEAAAAh0wC5QQAAADzua7lBAAAAbeLYuUEAAAA1n0W6QQAAAGEJsbpBAAAATxAfu0EAAAAL94q7QQAAACxB97tBAAAACMBjvEEAAAALAdC8QQAAANc2PL1BAAAA18upvUEAAAA95xW+QQAAABoRgr5BAAAALKbuvkEAAACQpFu/QQAAANdEx79BAAAAFiIawEEAAIAeTVDAQQAAgA+4hsBBAAAAIPG8wEEAAIA0DPPAQQAAgN3/KcFBAACAoClfwUEAAADCopjBQQAAgC29y8FBAAAAYAkCwkEAAAB4yjfCQQAAgCj8bsJBAAAAgdylwkEAAIBE09rCQQAAAKssEcNBAACAWbBHw0EAAADWa33DQQAAgHmqtMNBAACAOKjqw0EAAICbJSDEQQAAAFDeVsRBAAAAtimMxEEAAAAmcsLEQQAAAIQs+cRBAAAABzwwxUE=",
          "dtype": "f8"
         },
         "y0": " ",
         "yaxis": "y3"
        },
        {
         "alignmentgroup": "True",
         "hovertemplate": "Implementation=%{x}<br>Group=Cold Ping Pong Execution<br>Time (ns)=%{y}<extra></extra>",
         "legendgroup": "Native",
         "marker": {
          "color": "#EF553B"
         },
         "name": "Native",
         "notched": false,
         "offsetgroup": "Native",
         "orientation": "v",
         "showlegend": true,
         "type": "box",
         "x": [
          "Native",
          "Native",
          "Native",
          "Native",
          "Native",
          "Native",
          "Native",
          "Native",
          "Native",
          "Native",
          "Native",
          "Native",
          "Native",
          "Native",
          "Native",
          "Native",
          "Native",
          "Native",
          "Native",
          "Native",
          "Native",
          "Native",
          "Native",
          "Native",
          "Native",
          "Native",
          "Native",
          "Native",
          "Native",
          "Native",
          "Native",
          "Native",
          "Native",
          "Native",
          "Native",
          "Native",
          "Native",
          "Native",
          "Native",
          "Native",
          "Native",
          "Native",
          "Native",
          "Native",
          "Native",
          "Native",
          "Native",
          "Native",
          "Native",
          "Native",
          "Native",
          "Native",
          "Native",
          "Native",
          "Native",
          "Native",
          "Native",
          "Native",
          "Native",
          "Native",
          "Native",
          "Native",
          "Native",
          "Native",
          "Native",
          "Native",
          "Native",
          "Native",
          "Native",
          "Native",
          "Native",
          "Native",
          "Native",
          "Native",
          "Native",
          "Native",
          "Native",
          "Native",
          "Native",
          "Native",
          "Native",
          "Native",
          "Native",
          "Native",
          "Native",
          "Native",
          "Native",
          "Native",
          "Native",
          "Native",
          "Native",
          "Native",
          "Native",
          "Native",
          "Native",
          "Native",
          "Native",
          "Native",
          "Native",
          "Native"
         ],
         "x0": " ",
         "xaxis": "x",
         "y": {
          "bdata": "AAAAAF6uVkEAAACA0KNmQQAAAHAF+nBBAAAAMLukdkEAAAAA1Ux8QQAAAADr+4BBAAAA4IrQg0EAAACQp6aGQQAAAKDXeYlBAAAAAG1OjEEAAAB4UiOPQQAAAED4/pBBAAAAHLNnkkEAAAC4zdOTQQAAADBsP5VBAAAAVGKolkEAAAD8ihKYQQAAAPRkfZlBAAAAlB3nmkEAAADgNVOcQQAAALBuvZ1BAAAAsBkmn0EAAAAKaEigQQAAAIjf/KBBAAAAyACzoUEAAABYkWiiQQAAAPJ9HqNBAAAA4m7So0EAAACivIekQQAAAJj0O6VBAAAAtCvypUEAAACiqaemQQAAAIZ2XadBAAAAWDATqEEAAABAaMaoQQAAAGQlfKlBAAAAapAyqkEAAAA0GeiqQQAAACL4nKtBAAAA6HxRrEEAAAAsfgWtQQAAAEAivK1BAAAAvNNwrkEAAACcAyevQQAAAM5H2q9BAAAAoTZIsEEAAABHMqKwQQAAAKcM/rBBAAAAkYNYsUEAAACRw7KxQQAAACcJDbJBAAAAi5RnskEAAAB9UsKyQQAAAOp6H7NBAAAA1zF3s0EAAAD7o9KzQQAAAHQ7LbRBAAAAC2CHtEEAAAC/neK0QQAAAFhzPbVBAAAAK32XtUEAAAD7V/K1QQAAAPdATLZBAAAAdUantkEAAAAIAwK3QQAAACtjXLdBAAAAc6K3t0EAAABaKRK4QQAAAPb/bLhBAAAAu2XHuEEAAACknSG5QQAAACbMfLlBAAAA2RvWuUEAAADx0zG6QQAAAGvYjLpBAAAA99bmukEAAABLi0G7QQAAAE0hnLtBAAAA55r3u0EAAAB8i1G8QQAAAE+rqrxBAAAAONgGvUEAAADg9+q9QQAAAGlP6b1BAAAAZOvWvUEAAADTgDK+QQAAABlIi75BAAAARlzlvkEAAACHfD6/QQAAAHWrmL9BAAAAtSbyv0EAAABg8yXAQQAAAMiGWcBBAAAAcY+kwEEAAIDtJNPAQQAAgLCS/sBBAAAAdLYrwUEAAIAe3VnBQQAAAG6Yh8FBAAAAbku1wUE=",
          "dtype": "f8"
         },
         "y0": " ",
         "yaxis": "y"
        },
        {
         "alignmentgroup": "True",
         "hovertemplate": "Implementation=%{x}<br>Group=Runtime Setup<br>Time (ns)=%{y}<extra></extra>",
         "legendgroup": "Native",
         "marker": {
          "color": "#EF553B"
         },
         "name": "Native",
         "notched": false,
         "offsetgroup": "Native",
         "orientation": "v",
         "showlegend": false,
         "type": "box",
         "x": [
          "Native",
          "Native",
          "Native",
          "Native",
          "Native",
          "Native",
          "Native",
          "Native",
          "Native",
          "Native",
          "Native",
          "Native",
          "Native",
          "Native",
          "Native",
          "Native",
          "Native",
          "Native",
          "Native",
          "Native",
          "Native",
          "Native",
          "Native",
          "Native",
          "Native",
          "Native",
          "Native",
          "Native",
          "Native",
          "Native",
          "Native",
          "Native",
          "Native",
          "Native",
          "Native",
          "Native",
          "Native",
          "Native",
          "Native",
          "Native",
          "Native",
          "Native",
          "Native",
          "Native",
          "Native",
          "Native",
          "Native",
          "Native",
          "Native",
          "Native",
          "Native",
          "Native",
          "Native",
          "Native",
          "Native",
          "Native",
          "Native",
          "Native",
          "Native",
          "Native",
          "Native",
          "Native",
          "Native",
          "Native",
          "Native",
          "Native",
          "Native",
          "Native",
          "Native",
          "Native",
          "Native",
          "Native",
          "Native",
          "Native",
          "Native",
          "Native",
          "Native",
          "Native",
          "Native",
          "Native",
          "Native",
          "Native",
          "Native",
          "Native",
          "Native",
          "Native",
          "Native",
          "Native",
          "Native",
          "Native",
          "Native",
          "Native",
          "Native",
          "Native",
          "Native",
          "Native",
          "Native",
          "Native",
          "Native",
          "Native"
         ],
         "x0": " ",
         "xaxis": "x2",
         "y": {
          "bdata": "AAAAgA54VkEAAABge31mQQAAAOAb4XBBAAAAUNNtdkEAAACQ0BN8QQAAAJD51oBBAAAAmCudg0EAAACQFGGGQQAAABg1JYlBAAAAkGY8jEEAAABM4yySQQAAAByCppFBAAAAjKYwkkEAAAC8/KCTQQAAAHjq/ZRBAAAAZKtilkEAAAAIP82XQQAAALDlSZlBAAAAPPrJmkEAAADE1w+cQQAAAMwDbp1BAAAAoPTvnkEAAABi1C+gQQAAADKA3KBBAAAArPB+oUEAAAD+VU+iQQAAAE7a+6JBAAAAwO6wo0EAAACSGVikQQAAACji/qRBAAAAhkW1pUEAAADssWqmQQAAAP63D6dBAAAAZjK7p0EAAAACzG+oQQAAAMqk5KhBAAAAcKabqUEAAAD8noyqQQAAAGblOqtBAAAAEH0NrEEAAAAoeJ+sQQAAAALzTq1BAAAAyOT8rUEAAAAenLCuQQAAANRIY69BAAAAztoOsEEAAADo72iwQQAAAIMm3bBBAAAARX1EsUEAAACitZGxQQAAAA406bFBAAAAvfNFskEAAACZXGyyQQAAAFz1rrJBAAAAyBJPs0EAAAAjZKezQQAAABPE9LNBAAAACYBHtEEAAACLyqa0QQAAANaBArVBAAAAjPlftUEAAABmhce1QQAAAKG1IbZBAAAAQJuItkEAAADC5Yi2QQAAALAN/7ZBAAAA1dxst0EAAAAT49K3QQAAAEDkIbhBAAAAuX8QuEEAAADk4L24QQAAAHQ/OrlBAAAAT/+HuUEAAADcI6a5QQAAAH9eQ7pBAAAAr/WjukEAAADk4Pe6QQAAADvsUbtBAAAAF/iuu0EAAAAoRAS8QQAAANobX7xBAAAAVwW5vEEAAACoOxW9QQAAAKJ/bb1BAAAAw5XKvUEAAAD6uCS+QQAAAGgZhr5BAAAAFtLOvkEAAABUaiS/QQAAAPbzer9BAAAAntHHv0EAAIB4dRTAQQAAgOuCQcBBAAAAnl9wwEEAAACyepzAQQAAAJNW88BBAACAFf8KwUEAAIBWJCLBQQAAAKgXSsFBAACAw6x0wUE=",
          "dtype": "f8"
         },
         "y0": " ",
         "yaxis": "y2"
        },
        {
         "alignmentgroup": "True",
         "hovertemplate": "Implementation=%{x}<br>Group=Hot Ping Pong Execution<br>Time (ns)=%{y}<extra></extra>",
         "legendgroup": "Native",
         "marker": {
          "color": "#EF553B"
         },
         "name": "Native",
         "notched": false,
         "offsetgroup": "Native",
         "orientation": "v",
         "showlegend": false,
         "type": "box",
         "x": [
          "Native",
          "Native",
          "Native",
          "Native",
          "Native",
          "Native",
          "Native",
          "Native",
          "Native",
          "Native",
          "Native",
          "Native",
          "Native",
          "Native",
          "Native",
          "Native",
          "Native",
          "Native",
          "Native",
          "Native",
          "Native",
          "Native",
          "Native",
          "Native",
          "Native",
          "Native",
          "Native",
          "Native",
          "Native",
          "Native",
          "Native",
          "Native",
          "Native",
          "Native",
          "Native",
          "Native",
          "Native",
          "Native",
          "Native",
          "Native",
          "Native",
          "Native",
          "Native",
          "Native",
          "Native",
          "Native",
          "Native",
          "Native",
          "Native",
          "Native",
          "Native",
          "Native",
          "Native",
          "Native",
          "Native",
          "Native",
          "Native",
          "Native",
          "Native",
          "Native",
          "Native",
          "Native",
          "Native",
          "Native",
          "Native",
          "Native",
          "Native",
          "Native",
          "Native",
          "Native",
          "Native",
          "Native",
          "Native",
          "Native",
          "Native",
          "Native",
          "Native",
          "Native",
          "Native",
          "Native",
          "Native",
          "Native",
          "Native",
          "Native",
          "Native",
          "Native",
          "Native",
          "Native",
          "Native",
          "Native",
          "Native",
          "Native",
          "Native",
          "Native",
          "Native",
          "Native",
          "Native",
          "Native",
          "Native",
          "Native"
         ],
         "x0": " ",
         "xaxis": "x3",
         "y": {
          "bdata": "AAAAgKW7WEEAAACg0LVoQQAAACAOiXJBAAAAQL25eEEAAACw2eJ+QQAAABg5i4JBAAAAGFSihUEAAABoJbqIQQAAAGi+z4tBAAAAcKbpjkEAAAAAMwCRQQAAADxKjJJBAAAA7IsXlEEAAABgrqKVQQAAAGiCLZdBAAAAoF+7mEEAAAC4gUWaQQAAAHxHz5tBAAAAHO9bnUEAAACMceaeQQAAAFD/OaBBAAAAPAf/oEEAAADascWhQQAAAODGi6JBAAAASqBRo0EAAAA04BakQQAAAMYr3aRBAAAAZjijpUEAAABwIWmmQQAAACrxLqdBAAAA3jHzp0EAAAAy0bmoQQAAAAKRf6lBAAAABPVDqkEAAABm0QqrQQAAAIymz6tBAAAAmA2WrEEAAAD2FVutQQAAAFL2IK5BAAAAFn/nrkEAAABMFa6vQQAAAN9vObBBAAAAuAydsEEAAABNzf+wQQAAAGG1YrFBAAAAvxrGsUEAAAAsAiiyQQAAABlyi7JBAAAA48XtskEAAADTb1CzQQAAAFhNs7NBAAAAZpoUtEEAAAB8wXe0QQAAAKcz2rRBAAAAT6o9tUEAAABjTp+1QQAAAJU0ArZBAAAAUW1ltkEAAAAt48e2QQAAAEQtKrdBAAAAXvqMt0EAAABrTPC3QQAAAH1KU7hBAAAA9KC1uEEAAADVFh+5QQAAAD6He7lBAAAAHVPeuUEAAAAVOEK6QQAAADj9o7pBAAAAA7IGu0EAAACRD2q7QQAAAHBezbtBAAAAHY0vvEEAAAD3UZK8QQAAAAVJ9bxBAAAAU0JbvUEAAACtf7u9QQAAADXKHb5BAAAAvA6BvkEAAADxYeO+QQAAACK5Rr9BAAAAoympv0EAAACUOQbAQQAAAPhoN8BBAAAAGDlpwEEAAABYJ5rAQQAAAAfGy8BBAAAAMwD+wEEAAIBFdC7BQQAAAHRfYMFBAAAAImqRwUEAAAA4N8PBQQAAAAZr9MFBAACAyRUmwkEAAICzblfCQQAAgF0JiMJBAACAsZ+5wkEAAAD8RuvCQQAAAG6RHMNBAAAACThOw0E=",
          "dtype": "f8"
         },
         "y0": " ",
         "yaxis": "y3"
        },
        {
         "alignmentgroup": "True",
         "hovertemplate": "Implementation=%{x}<br>Group=Cold Ping Pong Execution<br>Time (ns)=%{y}<extra></extra>",
         "legendgroup": "WAMR",
         "marker": {
          "color": "#00cc96"
         },
         "name": "WAMR",
         "notched": false,
         "offsetgroup": "WAMR",
         "orientation": "v",
         "showlegend": true,
         "type": "box",
         "x": [
          "WAMR",
          "WAMR",
          "WAMR",
          "WAMR",
          "WAMR",
          "WAMR",
          "WAMR",
          "WAMR",
          "WAMR",
          "WAMR",
          "WAMR",
          "WAMR",
          "WAMR",
          "WAMR",
          "WAMR",
          "WAMR",
          "WAMR",
          "WAMR",
          "WAMR",
          "WAMR",
          "WAMR",
          "WAMR",
          "WAMR",
          "WAMR",
          "WAMR",
          "WAMR",
          "WAMR",
          "WAMR",
          "WAMR",
          "WAMR",
          "WAMR",
          "WAMR",
          "WAMR",
          "WAMR",
          "WAMR",
          "WAMR",
          "WAMR",
          "WAMR",
          "WAMR",
          "WAMR",
          "WAMR",
          "WAMR",
          "WAMR",
          "WAMR",
          "WAMR",
          "WAMR",
          "WAMR",
          "WAMR",
          "WAMR",
          "WAMR",
          "WAMR",
          "WAMR",
          "WAMR",
          "WAMR",
          "WAMR",
          "WAMR",
          "WAMR",
          "WAMR",
          "WAMR",
          "WAMR",
          "WAMR",
          "WAMR",
          "WAMR",
          "WAMR",
          "WAMR",
          "WAMR",
          "WAMR",
          "WAMR",
          "WAMR",
          "WAMR",
          "WAMR",
          "WAMR",
          "WAMR",
          "WAMR",
          "WAMR",
          "WAMR",
          "WAMR",
          "WAMR",
          "WAMR",
          "WAMR",
          "WAMR",
          "WAMR",
          "WAMR",
          "WAMR",
          "WAMR",
          "WAMR",
          "WAMR",
          "WAMR",
          "WAMR",
          "WAMR",
          "WAMR",
          "WAMR",
          "WAMR",
          "WAMR",
          "WAMR",
          "WAMR",
          "WAMR",
          "WAMR",
          "WAMR",
          "WAMR"
         ],
         "x0": " ",
         "xaxis": "x",
         "y": {
          "bdata": "AAAAwCwSV0EAAAAAXQNnQQAAAKDpNXFBAAAAgF/xdkEAAAAwdKd8QQAAAJg5MIFBAAAAcLkLhEEAAAD4yOaGQQAAANi9volBAAAAuHucjEEAAACoHHePQQAAAFiVKJFBAAAAZFqlkkEAAACkeASUQQAAADjPcZVBAAAA8OLelkEAAADEnkyYQQAAAGyzuplBAAAAfA0om0EAAADIC5WcQQAAABiHAp5BAAAAgENwn0EAAABU9G+gQQAAAM7YOqFBAAAAKsgLokEAAADu2L+iQQAAAEAwfaNBAAAA+p06pEEAAAB4fvakQQAAAMRUqKVBAAAA3MpbpkEAAAAICxmnQQAAAKBK0KdBAAAAwsyLqEEAAAA8o0GpQQAAALLJ+6lBAAAALMisqkEAAADQcmqrQQAAALqmIKxBAAAArFfXrEEAAADQXY6tQQAAAPzpTK5BAAAA2IIAr0EAAAAmB8CvQQAAAPaqPLBBAAAAHqyYsEEAAAC3WfOwQQAAAF49ULFBAAAAXbupsUEAAABcOQWyQQAAAKctZLJBAAAAhQfBskEAAABUoh2zQQAAABuFebNBAAAAG9XUs0EAAADptDK0QQAAADcGjLRBAAAAj9HqtEEAAABbBE21QQAAAK1LprVBAAAAXIT+tUEAAACU+l+2QQAAAJpItrZBAAAAyS0Zt0EAAACAiXK3QQAAABkxz7dBAAAAsBsruEEAAAA3oYi4QQAAAKoT5bhBAAAA/iJAuUEAAADmv6C5QQAAAENZ/7lBAAAAbfBXukEAAADoeK26QQAAAOtWC7tBAAAAD5tnu0EAAACI88q7QQAAAIcEJLxBAAAAjYiBvEEAAAAhK9S8QQAAAFOyML1BAAAAhj6LvUEAAACQ1+O9QQAAAHW9Q75BAAAA5ZeZvkEAAAD2pv6+QQAAAPLCVL9BAAAAvuq2v0EAAACnRwjAQQAAgM7KOsBBAACAvLNpwEEAAAABh5nAQQAAgMmuyMBBAACAEHv0wEEAAAB2NCLBQQAAgGhET8FBAACARy2DwUEAAIAXi7DBQQAAgGAk4MFBAAAAudANwkE=",
          "dtype": "f8"
         },
         "y0": " ",
         "yaxis": "y"
        },
        {
         "alignmentgroup": "True",
         "hovertemplate": "Implementation=%{x}<br>Group=Runtime Setup<br>Time (ns)=%{y}<extra></extra>",
         "legendgroup": "WAMR",
         "marker": {
          "color": "#00cc96"
         },
         "name": "WAMR",
         "notched": false,
         "offsetgroup": "WAMR",
         "orientation": "v",
         "showlegend": false,
         "type": "box",
         "x": [
          "WAMR",
          "WAMR",
          "WAMR",
          "WAMR",
          "WAMR",
          "WAMR",
          "WAMR",
          "WAMR",
          "WAMR",
          "WAMR",
          "WAMR",
          "WAMR",
          "WAMR",
          "WAMR",
          "WAMR",
          "WAMR",
          "WAMR",
          "WAMR",
          "WAMR",
          "WAMR",
          "WAMR",
          "WAMR",
          "WAMR",
          "WAMR",
          "WAMR",
          "WAMR",
          "WAMR",
          "WAMR",
          "WAMR",
          "WAMR",
          "WAMR",
          "WAMR",
          "WAMR",
          "WAMR",
          "WAMR",
          "WAMR",
          "WAMR",
          "WAMR",
          "WAMR",
          "WAMR",
          "WAMR",
          "WAMR",
          "WAMR",
          "WAMR",
          "WAMR",
          "WAMR",
          "WAMR",
          "WAMR",
          "WAMR",
          "WAMR",
          "WAMR",
          "WAMR",
          "WAMR",
          "WAMR",
          "WAMR",
          "WAMR",
          "WAMR",
          "WAMR",
          "WAMR",
          "WAMR",
          "WAMR",
          "WAMR",
          "WAMR",
          "WAMR",
          "WAMR",
          "WAMR",
          "WAMR",
          "WAMR",
          "WAMR",
          "WAMR",
          "WAMR",
          "WAMR",
          "WAMR",
          "WAMR",
          "WAMR",
          "WAMR",
          "WAMR",
          "WAMR",
          "WAMR",
          "WAMR",
          "WAMR",
          "WAMR",
          "WAMR",
          "WAMR",
          "WAMR",
          "WAMR",
          "WAMR",
          "WAMR",
          "WAMR",
          "WAMR",
          "WAMR",
          "WAMR",
          "WAMR",
          "WAMR",
          "WAMR",
          "WAMR",
          "WAMR",
          "WAMR",
          "WAMR",
          "WAMR"
         ],
         "x0": " ",
         "xaxis": "x2",
         "y": {
          "bdata": "AAAAQIAOV0EAAABAPxVnQQAAAFBnUnFBAAAA8OMTd0EAAACw+9V8QQAAADgHSoFBAAAAkDQuhEEAAADQygyHQQAAAIgs9YlBAAAAkFDUjEEAAAAw8L+PQQAAAOjaVJFBAAAA2OS+kkEAAACcbjCUQQAAADRjn5VBAAAA1BUOl0EAAADYH4GYQQAAANhg8JlBAAAA+Fxfm0EAAAD8SdGcQQAAAISDQZ5BAAAAFP+9n0EAAAAu/JSgQQAAAMLyTKFBAAAA5K8CokEAAAAAWbuiQQAAAJxodaNBAAAAYBY4pEEAAABCBeakQQAAAEyXoaVBAAAAyK1cpkEAAACushKnQQAAADZ+y6dBAAAANjSIqEEAAACiyjipQQAAANK986lBAAAABOWvqkEAAAC8b2arQQAAAJCRHqxBAAAAphzWrEEAAABalI2tQQAAABrXSK5BAAAAFgoCr0EAAABu2LWvQQAAAD4zN7BBAAAAOUOUsEEAAADBEvKwQQAAAEZfTbFBAAAAQ0ipsUEAAADdoASyQQAAAJtZYbJBAAAAnIK8skEAAABhtRizQQAAAEdjd7NBAAAAcT7Rs0EAAACzyi60QQAAAB75hrRBAAAAUVnitEEAAAAc/z+1QQAAAAqDm7VBAAAA37cCtkEAAABL7mm2QQAAAGajv7ZBAAAAu8QZt0EAAADASnK3QQAAAATvy7dBAAAAqT8ouEEAAAD/lIC4QQAAAKhM3bhBAAAAxZk9uUEAAADFLpi5QQAAAMZL9blBAAAAgeJMukEAAABecK+6QQAAAB5LD7tBAAAAKXZvu0EAAACNL8u7QQAAAPTdKLxBAAAAitmHvEEAAAAmCuW8QQAAAKtoOr1BAAAAFd2ivUEAAABGpfO9QQAAAIJST75BAAAACaqsvkEAAAC22gi/QQAAAMj8Z79BAAAAlgrCv0EAAICqHQ/AQQAAgGksO8BBAAAABW5pwEEAAIBdq5nAQQAAgNhox8BBAACAqY31wEEAAADIrSTBQQAAgOcsUcFBAAAAGY9/wUEAAABC96zBQQAAgKTr2cFBAAAADXMHwkE=",
          "dtype": "f8"
         },
         "y0": " ",
         "yaxis": "y2"
        },
        {
         "alignmentgroup": "True",
         "hovertemplate": "Implementation=%{x}<br>Group=Hot Ping Pong Execution<br>Time (ns)=%{y}<extra></extra>",
         "legendgroup": "WAMR",
         "marker": {
          "color": "#00cc96"
         },
         "name": "WAMR",
         "notched": false,
         "offsetgroup": "WAMR",
         "orientation": "v",
         "showlegend": false,
         "type": "box",
         "x": [
          "WAMR",
          "WAMR",
          "WAMR",
          "WAMR",
          "WAMR",
          "WAMR",
          "WAMR",
          "WAMR",
          "WAMR",
          "WAMR",
          "WAMR",
          "WAMR",
          "WAMR",
          "WAMR",
          "WAMR",
          "WAMR",
          "WAMR",
          "WAMR",
          "WAMR",
          "WAMR",
          "WAMR",
          "WAMR",
          "WAMR",
          "WAMR",
          "WAMR",
          "WAMR",
          "WAMR",
          "WAMR",
          "WAMR",
          "WAMR",
          "WAMR",
          "WAMR",
          "WAMR",
          "WAMR",
          "WAMR",
          "WAMR",
          "WAMR",
          "WAMR",
          "WAMR",
          "WAMR",
          "WAMR",
          "WAMR",
          "WAMR",
          "WAMR",
          "WAMR",
          "WAMR",
          "WAMR",
          "WAMR",
          "WAMR",
          "WAMR",
          "WAMR",
          "WAMR",
          "WAMR",
          "WAMR",
          "WAMR",
          "WAMR",
          "WAMR",
          "WAMR",
          "WAMR",
          "WAMR",
          "WAMR",
          "WAMR",
          "WAMR",
          "WAMR",
          "WAMR",
          "WAMR",
          "WAMR",
          "WAMR",
          "WAMR",
          "WAMR",
          "WAMR",
          "WAMR",
          "WAMR",
          "WAMR",
          "WAMR",
          "WAMR",
          "WAMR",
          "WAMR",
          "WAMR",
          "WAMR",
          "WAMR",
          "WAMR",
          "WAMR",
          "WAMR",
          "WAMR",
          "WAMR",
          "WAMR",
          "WAMR",
          "WAMR",
          "WAMR",
          "WAMR",
          "WAMR",
          "WAMR",
          "WAMR",
          "WAMR",
          "WAMR",
          "WAMR",
          "WAMR",
          "WAMR",
          "WAMR"
         ],
         "x0": " ",
         "xaxis": "x3",
         "y": {
          "bdata": "AAAAACQeW0EAAADAtxZrQQAAAKAzU3RBAAAAEEsbe0EAAADIHO2AQQAAAHDLUoRBAAAAKEm3h0EAAACAShiLQQAAALiDfY5BAAAAzOPwkEEAAADwZ6GSQQAAACS+UpRBAAAAYCEElkEAAAAg37SXQQAAAISpaJlBAAAAMB4bm0EAAADE4MqcQQAAAHh1fJ5BAAAAwrEWoEEAAAC4P/CgQQAAAMJzyKFBAAAAdL+fokEAAABCeXujQQAAACypUqRBAAAAPFwrpUEAAAB4sASmQQAAANi63KZBAAAAUn22p0EAAADQbo6oQQAAACpgaKlBAAAAhuZAqkEAAABEQRirQQAAAIDl8atBAAAA/K3KrEEAAACMLaWtQQAAAOiifK5BAAAAODZWr0EAAAB+yRawQQAAAI5pg7BBAAAA86zvsEEAAACQRVyxQQAAABE8ybFBAAAACnQ1skEAAAASLqKyQQAAAMOODbNBAAAAp+J6s0EAAADtSeazQQAAAG3ZUrRBAAAAn1a/tEEAAAB52iu1QQAAAPYkmLVBAAAAteQEtkEAAAAuj3C2QQAAAJpL3bZBAAAAexVMt0EAAAB1jbW3QQAAALmSIrhBAAAARnaOuEEAAAAbX/q4QQAAAFXTZ7lBAAAAPxLUuUEAAABkekC6QQAAAEXYrbpBAAAAmD0au0EAAADeVIa7QQAAABUY8rtBAAAAA7levEEAAACwwsu8QQAAAFyTOL1BAAAAvwOjvUEAAADwrQ++QQAAAOZ+e75BAAAAzIPnvkEAAAAiHVS/QQAAAMrgwb9BAAAA8tgWwEEAAICMU03AQQAAADUAg8BBAAAA4yi5wEEAAACMIu/AQQAAgJ5CJcFBAAAAbCJcwUEAAABkzpHBQQAAAAf5yMFBAACAUY7+wUEAAADUDDXCQQAAgN61asJBAACArAqhwkEAAACKb9fCQQAAgEnZDcNBAAAADiBDw0EAAACYGnzDQQAAAHQTsMNBAAAAwQ/mw0EAAACVuxzEQQAAAPXfUsRBAACAb8WIxEEAAIBqM7/EQQAAABfh9cRBAACA6morxUE=",
          "dtype": "f8"
         },
         "y0": " ",
         "yaxis": "y3"
        }
       ],
       "layout": {
        "annotations": [
         {
          "font": {},
          "showarrow": false,
          "text": "Group=Cold Ping Pong Execution",
          "x": 0.15999999999999998,
          "xanchor": "center",
          "xref": "paper",
          "y": 1,
          "yanchor": "bottom",
          "yref": "paper"
         },
         {
          "font": {},
          "showarrow": false,
          "text": "Group=Runtime Setup",
          "x": 0.49999999999999994,
          "xanchor": "center",
          "xref": "paper",
          "y": 1,
          "yanchor": "bottom",
          "yref": "paper"
         },
         {
          "font": {},
          "showarrow": false,
          "text": "Group=Hot Ping Pong Execution",
          "x": 0.8399999999999999,
          "xanchor": "center",
          "xref": "paper",
          "y": 1,
          "yanchor": "bottom",
          "yref": "paper"
         }
        ],
        "boxmode": "overlay",
        "font": {
         "size": 12
        },
        "height": 500,
        "legend": {
         "title": {
          "text": "Implementation"
         },
         "tracegroupgap": 0
        },
        "showlegend": false,
        "template": {
         "data": {
          "bar": [
           {
            "error_x": {
             "color": "#2a3f5f"
            },
            "error_y": {
             "color": "#2a3f5f"
            },
            "marker": {
             "line": {
              "color": "#E5ECF6",
              "width": 0.5
             },
             "pattern": {
              "fillmode": "overlay",
              "size": 10,
              "solidity": 0.2
             }
            },
            "type": "bar"
           }
          ],
          "barpolar": [
           {
            "marker": {
             "line": {
              "color": "#E5ECF6",
              "width": 0.5
             },
             "pattern": {
              "fillmode": "overlay",
              "size": 10,
              "solidity": 0.2
             }
            },
            "type": "barpolar"
           }
          ],
          "carpet": [
           {
            "aaxis": {
             "endlinecolor": "#2a3f5f",
             "gridcolor": "white",
             "linecolor": "white",
             "minorgridcolor": "white",
             "startlinecolor": "#2a3f5f"
            },
            "baxis": {
             "endlinecolor": "#2a3f5f",
             "gridcolor": "white",
             "linecolor": "white",
             "minorgridcolor": "white",
             "startlinecolor": "#2a3f5f"
            },
            "type": "carpet"
           }
          ],
          "choropleth": [
           {
            "colorbar": {
             "outlinewidth": 0,
             "ticks": ""
            },
            "type": "choropleth"
           }
          ],
          "contour": [
           {
            "colorbar": {
             "outlinewidth": 0,
             "ticks": ""
            },
            "colorscale": [
             [
              0,
              "#0d0887"
             ],
             [
              0.1111111111111111,
              "#46039f"
             ],
             [
              0.2222222222222222,
              "#7201a8"
             ],
             [
              0.3333333333333333,
              "#9c179e"
             ],
             [
              0.4444444444444444,
              "#bd3786"
             ],
             [
              0.5555555555555556,
              "#d8576b"
             ],
             [
              0.6666666666666666,
              "#ed7953"
             ],
             [
              0.7777777777777778,
              "#fb9f3a"
             ],
             [
              0.8888888888888888,
              "#fdca26"
             ],
             [
              1,
              "#f0f921"
             ]
            ],
            "type": "contour"
           }
          ],
          "contourcarpet": [
           {
            "colorbar": {
             "outlinewidth": 0,
             "ticks": ""
            },
            "type": "contourcarpet"
           }
          ],
          "heatmap": [
           {
            "colorbar": {
             "outlinewidth": 0,
             "ticks": ""
            },
            "colorscale": [
             [
              0,
              "#0d0887"
             ],
             [
              0.1111111111111111,
              "#46039f"
             ],
             [
              0.2222222222222222,
              "#7201a8"
             ],
             [
              0.3333333333333333,
              "#9c179e"
             ],
             [
              0.4444444444444444,
              "#bd3786"
             ],
             [
              0.5555555555555556,
              "#d8576b"
             ],
             [
              0.6666666666666666,
              "#ed7953"
             ],
             [
              0.7777777777777778,
              "#fb9f3a"
             ],
             [
              0.8888888888888888,
              "#fdca26"
             ],
             [
              1,
              "#f0f921"
             ]
            ],
            "type": "heatmap"
           }
          ],
          "histogram": [
           {
            "marker": {
             "pattern": {
              "fillmode": "overlay",
              "size": 10,
              "solidity": 0.2
             }
            },
            "type": "histogram"
           }
          ],
          "histogram2d": [
           {
            "colorbar": {
             "outlinewidth": 0,
             "ticks": ""
            },
            "colorscale": [
             [
              0,
              "#0d0887"
             ],
             [
              0.1111111111111111,
              "#46039f"
             ],
             [
              0.2222222222222222,
              "#7201a8"
             ],
             [
              0.3333333333333333,
              "#9c179e"
             ],
             [
              0.4444444444444444,
              "#bd3786"
             ],
             [
              0.5555555555555556,
              "#d8576b"
             ],
             [
              0.6666666666666666,
              "#ed7953"
             ],
             [
              0.7777777777777778,
              "#fb9f3a"
             ],
             [
              0.8888888888888888,
              "#fdca26"
             ],
             [
              1,
              "#f0f921"
             ]
            ],
            "type": "histogram2d"
           }
          ],
          "histogram2dcontour": [
           {
            "colorbar": {
             "outlinewidth": 0,
             "ticks": ""
            },
            "colorscale": [
             [
              0,
              "#0d0887"
             ],
             [
              0.1111111111111111,
              "#46039f"
             ],
             [
              0.2222222222222222,
              "#7201a8"
             ],
             [
              0.3333333333333333,
              "#9c179e"
             ],
             [
              0.4444444444444444,
              "#bd3786"
             ],
             [
              0.5555555555555556,
              "#d8576b"
             ],
             [
              0.6666666666666666,
              "#ed7953"
             ],
             [
              0.7777777777777778,
              "#fb9f3a"
             ],
             [
              0.8888888888888888,
              "#fdca26"
             ],
             [
              1,
              "#f0f921"
             ]
            ],
            "type": "histogram2dcontour"
           }
          ],
          "mesh3d": [
           {
            "colorbar": {
             "outlinewidth": 0,
             "ticks": ""
            },
            "type": "mesh3d"
           }
          ],
          "parcoords": [
           {
            "line": {
             "colorbar": {
              "outlinewidth": 0,
              "ticks": ""
             }
            },
            "type": "parcoords"
           }
          ],
          "pie": [
           {
            "automargin": true,
            "type": "pie"
           }
          ],
          "scatter": [
           {
            "fillpattern": {
             "fillmode": "overlay",
             "size": 10,
             "solidity": 0.2
            },
            "type": "scatter"
           }
          ],
          "scatter3d": [
           {
            "line": {
             "colorbar": {
              "outlinewidth": 0,
              "ticks": ""
             }
            },
            "marker": {
             "colorbar": {
              "outlinewidth": 0,
              "ticks": ""
             }
            },
            "type": "scatter3d"
           }
          ],
          "scattercarpet": [
           {
            "marker": {
             "colorbar": {
              "outlinewidth": 0,
              "ticks": ""
             }
            },
            "type": "scattercarpet"
           }
          ],
          "scattergeo": [
           {
            "marker": {
             "colorbar": {
              "outlinewidth": 0,
              "ticks": ""
             }
            },
            "type": "scattergeo"
           }
          ],
          "scattergl": [
           {
            "marker": {
             "colorbar": {
              "outlinewidth": 0,
              "ticks": ""
             }
            },
            "type": "scattergl"
           }
          ],
          "scattermap": [
           {
            "marker": {
             "colorbar": {
              "outlinewidth": 0,
              "ticks": ""
             }
            },
            "type": "scattermap"
           }
          ],
          "scattermapbox": [
           {
            "marker": {
             "colorbar": {
              "outlinewidth": 0,
              "ticks": ""
             }
            },
            "type": "scattermapbox"
           }
          ],
          "scatterpolar": [
           {
            "marker": {
             "colorbar": {
              "outlinewidth": 0,
              "ticks": ""
             }
            },
            "type": "scatterpolar"
           }
          ],
          "scatterpolargl": [
           {
            "marker": {
             "colorbar": {
              "outlinewidth": 0,
              "ticks": ""
             }
            },
            "type": "scatterpolargl"
           }
          ],
          "scatterternary": [
           {
            "marker": {
             "colorbar": {
              "outlinewidth": 0,
              "ticks": ""
             }
            },
            "type": "scatterternary"
           }
          ],
          "surface": [
           {
            "colorbar": {
             "outlinewidth": 0,
             "ticks": ""
            },
            "colorscale": [
             [
              0,
              "#0d0887"
             ],
             [
              0.1111111111111111,
              "#46039f"
             ],
             [
              0.2222222222222222,
              "#7201a8"
             ],
             [
              0.3333333333333333,
              "#9c179e"
             ],
             [
              0.4444444444444444,
              "#bd3786"
             ],
             [
              0.5555555555555556,
              "#d8576b"
             ],
             [
              0.6666666666666666,
              "#ed7953"
             ],
             [
              0.7777777777777778,
              "#fb9f3a"
             ],
             [
              0.8888888888888888,
              "#fdca26"
             ],
             [
              1,
              "#f0f921"
             ]
            ],
            "type": "surface"
           }
          ],
          "table": [
           {
            "cells": {
             "fill": {
              "color": "#EBF0F8"
             },
             "line": {
              "color": "white"
             }
            },
            "header": {
             "fill": {
              "color": "#C8D4E3"
             },
             "line": {
              "color": "white"
             }
            },
            "type": "table"
           }
          ]
         },
         "layout": {
          "annotationdefaults": {
           "arrowcolor": "#2a3f5f",
           "arrowhead": 0,
           "arrowwidth": 1
          },
          "autotypenumbers": "strict",
          "coloraxis": {
           "colorbar": {
            "outlinewidth": 0,
            "ticks": ""
           }
          },
          "colorscale": {
           "diverging": [
            [
             0,
             "#8e0152"
            ],
            [
             0.1,
             "#c51b7d"
            ],
            [
             0.2,
             "#de77ae"
            ],
            [
             0.3,
             "#f1b6da"
            ],
            [
             0.4,
             "#fde0ef"
            ],
            [
             0.5,
             "#f7f7f7"
            ],
            [
             0.6,
             "#e6f5d0"
            ],
            [
             0.7,
             "#b8e186"
            ],
            [
             0.8,
             "#7fbc41"
            ],
            [
             0.9,
             "#4d9221"
            ],
            [
             1,
             "#276419"
            ]
           ],
           "sequential": [
            [
             0,
             "#0d0887"
            ],
            [
             0.1111111111111111,
             "#46039f"
            ],
            [
             0.2222222222222222,
             "#7201a8"
            ],
            [
             0.3333333333333333,
             "#9c179e"
            ],
            [
             0.4444444444444444,
             "#bd3786"
            ],
            [
             0.5555555555555556,
             "#d8576b"
            ],
            [
             0.6666666666666666,
             "#ed7953"
            ],
            [
             0.7777777777777778,
             "#fb9f3a"
            ],
            [
             0.8888888888888888,
             "#fdca26"
            ],
            [
             1,
             "#f0f921"
            ]
           ],
           "sequentialminus": [
            [
             0,
             "#0d0887"
            ],
            [
             0.1111111111111111,
             "#46039f"
            ],
            [
             0.2222222222222222,
             "#7201a8"
            ],
            [
             0.3333333333333333,
             "#9c179e"
            ],
            [
             0.4444444444444444,
             "#bd3786"
            ],
            [
             0.5555555555555556,
             "#d8576b"
            ],
            [
             0.6666666666666666,
             "#ed7953"
            ],
            [
             0.7777777777777778,
             "#fb9f3a"
            ],
            [
             0.8888888888888888,
             "#fdca26"
            ],
            [
             1,
             "#f0f921"
            ]
           ]
          },
          "colorway": [
           "#636efa",
           "#EF553B",
           "#00cc96",
           "#ab63fa",
           "#FFA15A",
           "#19d3f3",
           "#FF6692",
           "#B6E880",
           "#FF97FF",
           "#FECB52"
          ],
          "font": {
           "color": "#2a3f5f"
          },
          "geo": {
           "bgcolor": "white",
           "lakecolor": "white",
           "landcolor": "#E5ECF6",
           "showlakes": true,
           "showland": true,
           "subunitcolor": "white"
          },
          "hoverlabel": {
           "align": "left"
          },
          "hovermode": "closest",
          "mapbox": {
           "style": "light"
          },
          "paper_bgcolor": "white",
          "plot_bgcolor": "#E5ECF6",
          "polar": {
           "angularaxis": {
            "gridcolor": "white",
            "linecolor": "white",
            "ticks": ""
           },
           "bgcolor": "#E5ECF6",
           "radialaxis": {
            "gridcolor": "white",
            "linecolor": "white",
            "ticks": ""
           }
          },
          "scene": {
           "xaxis": {
            "backgroundcolor": "#E5ECF6",
            "gridcolor": "white",
            "gridwidth": 2,
            "linecolor": "white",
            "showbackground": true,
            "ticks": "",
            "zerolinecolor": "white"
           },
           "yaxis": {
            "backgroundcolor": "#E5ECF6",
            "gridcolor": "white",
            "gridwidth": 2,
            "linecolor": "white",
            "showbackground": true,
            "ticks": "",
            "zerolinecolor": "white"
           },
           "zaxis": {
            "backgroundcolor": "#E5ECF6",
            "gridcolor": "white",
            "gridwidth": 2,
            "linecolor": "white",
            "showbackground": true,
            "ticks": "",
            "zerolinecolor": "white"
           }
          },
          "shapedefaults": {
           "line": {
            "color": "#2a3f5f"
           }
          },
          "ternary": {
           "aaxis": {
            "gridcolor": "white",
            "linecolor": "white",
            "ticks": ""
           },
           "baxis": {
            "gridcolor": "white",
            "linecolor": "white",
            "ticks": ""
           },
           "bgcolor": "#E5ECF6",
           "caxis": {
            "gridcolor": "white",
            "linecolor": "white",
            "ticks": ""
           }
          },
          "title": {
           "x": 0.05
          },
          "xaxis": {
           "automargin": true,
           "gridcolor": "white",
           "linecolor": "white",
           "ticks": "",
           "title": {
            "standoff": 15
           },
           "zerolinecolor": "white",
           "zerolinewidth": 2
          },
          "yaxis": {
           "automargin": true,
           "gridcolor": "white",
           "linecolor": "white",
           "ticks": "",
           "title": {
            "standoff": 15
           },
           "zerolinecolor": "white",
           "zerolinewidth": 2
          }
         }
        },
        "title": {
         "font": {
          "size": 16
         },
         "text": "Execution Time Distribution (Box Plots)"
        },
        "xaxis": {
         "anchor": "y",
         "categoryarray": [
          "Wasmtime",
          "Native",
          "WAMR"
         ],
         "categoryorder": "array",
         "domain": [
          0,
          0.31999999999999995
         ],
         "tickangle": 45,
         "title": {
          "text": "Implementation"
         }
        },
        "xaxis2": {
         "anchor": "y2",
         "categoryarray": [
          "Wasmtime",
          "Native",
          "WAMR"
         ],
         "categoryorder": "array",
         "domain": [
          0.33999999999999997,
          0.6599999999999999
         ],
         "matches": "x",
         "tickangle": 45,
         "title": {
          "text": "Implementation"
         }
        },
        "xaxis3": {
         "anchor": "y3",
         "categoryarray": [
          "Wasmtime",
          "Native",
          "WAMR"
         ],
         "categoryorder": "array",
         "domain": [
          0.6799999999999999,
          0.9999999999999999
         ],
         "matches": "x",
         "tickangle": 45,
         "title": {
          "text": "Implementation"
         }
        },
        "yaxis": {
         "anchor": "x",
         "domain": [
          0,
          1
         ],
         "title": {
          "text": "Time (ns)"
         }
        },
        "yaxis2": {
         "anchor": "x2",
         "domain": [
          0,
          1
         ],
         "matches": "y",
         "showticklabels": false
        },
        "yaxis3": {
         "anchor": "x3",
         "domain": [
          0,
          1
         ],
         "matches": "y",
         "showticklabels": false
        }
       }
      },
      "image/png": "[encoded data removed]"
     },
     "metadata": {},
     "output_type": "display_data"
    }
   ],
   "source": [
    "# Box plots showing distribution\n",
    "if not df.empty:\n",
    "    raw_data = analyzer.get_raw_data()\n",
    "    \n",
    "    # Prepare data for box plots\n",
    "    plot_data = []\n",
    "    for group_name, group_data in raw_data.items():\n",
    "        for impl_name, times in group_data.items():\n",
    "            for time in times:\n",
    "                plot_data.append({\n",
    "                    'Group': group_name,\n",
    "                    'Implementation': impl_name,\n",
    "                    'Time (ns)': time\n",
    "                })\n",
    "    \n",
    "    if plot_data:\n",
    "        plot_df = pd.DataFrame(plot_data)\n",
    "        \n",
    "        fig = px.box(\n",
    "            plot_df,\n",
    "            x='Implementation',\n",
    "            y='Time (ns)',\n",
    "            color='Implementation',\n",
    "            facet_col='Group',\n",
    "            title='Execution Time Distribution (Box Plots)',\n",
    "            height=500\n",
    "        )\n",
    "        \n",
    "        fig.update_layout(\n",
    "            showlegend=False,\n",
    "            font=dict(size=12),\n",
    "            title_font_size=16\n",
    "        )\n",
    "        \n",
    "        fig.update_xaxes(tickangle=45)\n",
    "        fig.show()\n",
    "else:\n",
    "    print(\"❌ No raw data available for distribution plots.\")"
   ]
  },
  {
   "cell_type": "code",
   "execution_count": 9,
   "metadata": {},
   "outputs": [
    {
     "data": {
      "application/vnd.plotly.v1+json": {
       "config": {
        "plotlyServerURL": "https://plot.ly"
       },
       "data": [
        {
         "coloraxis": "coloraxis",
         "hovertemplate": "x: %{x}<br>y: %{y}<br>Relative Performance: %{z}<extra></extra>",
         "name": "0",
         "texttemplate": "%{z:.2f}",
         "type": "heatmap",
         "x": [
          "Cold Ping Pong Execution",
          "Hot Ping Pong Execution",
          "Runtime Setup"
         ],
         "xaxis": "x",
         "y": [
          "Native",
          "WAMR",
          "Wasmtime"
         ],
         "yaxis": "y",
         "z": {
          "bdata": "oUZn7SdfEkAAAAAAAADwPwAAAAAAAPA/1ckeVNO5EkCDndvr8IrxP+CnS2zwe/A/AAAAAAAA8D8aqQBOn47xP7XJCGqitwpA",
          "dtype": "f8",
          "shape": "3, 3"
         }
        }
       ],
       "layout": {
        "coloraxis": {
         "colorbar": {
          "title": {
           "text": "Relative Performance"
          }
         },
         "colorscale": [
          [
           0,
           "rgb(0,104,55)"
          ],
          [
           0.1,
           "rgb(26,152,80)"
          ],
          [
           0.2,
           "rgb(102,189,99)"
          ],
          [
           0.3,
           "rgb(166,217,106)"
          ],
          [
           0.4,
           "rgb(217,239,139)"
          ],
          [
           0.5,
           "rgb(255,255,191)"
          ],
          [
           0.6,
           "rgb(254,224,139)"
          ],
          [
           0.7,
           "rgb(253,174,97)"
          ],
          [
           0.8,
           "rgb(244,109,67)"
          ],
          [
           0.9,
           "rgb(215,48,39)"
          ],
          [
           1,
           "rgb(165,0,38)"
          ]
         ]
        },
        "font": {
         "size": 12
        },
        "height": 400,
        "template": {
         "data": {
          "bar": [
           {
            "error_x": {
             "color": "#2a3f5f"
            },
            "error_y": {
             "color": "#2a3f5f"
            },
            "marker": {
             "line": {
              "color": "#E5ECF6",
              "width": 0.5
             },
             "pattern": {
              "fillmode": "overlay",
              "size": 10,
              "solidity": 0.2
             }
            },
            "type": "bar"
           }
          ],
          "barpolar": [
           {
            "marker": {
             "line": {
              "color": "#E5ECF6",
              "width": 0.5
             },
             "pattern": {
              "fillmode": "overlay",
              "size": 10,
              "solidity": 0.2
             }
            },
            "type": "barpolar"
           }
          ],
          "carpet": [
           {
            "aaxis": {
             "endlinecolor": "#2a3f5f",
             "gridcolor": "white",
             "linecolor": "white",
             "minorgridcolor": "white",
             "startlinecolor": "#2a3f5f"
            },
            "baxis": {
             "endlinecolor": "#2a3f5f",
             "gridcolor": "white",
             "linecolor": "white",
             "minorgridcolor": "white",
             "startlinecolor": "#2a3f5f"
            },
            "type": "carpet"
           }
          ],
          "choropleth": [
           {
            "colorbar": {
             "outlinewidth": 0,
             "ticks": ""
            },
            "type": "choropleth"
           }
          ],
          "contour": [
           {
            "colorbar": {
             "outlinewidth": 0,
             "ticks": ""
            },
            "colorscale": [
             [
              0,
              "#0d0887"
             ],
             [
              0.1111111111111111,
              "#46039f"
             ],
             [
              0.2222222222222222,
              "#7201a8"
             ],
             [
              0.3333333333333333,
              "#9c179e"
             ],
             [
              0.4444444444444444,
              "#bd3786"
             ],
             [
              0.5555555555555556,
              "#d8576b"
             ],
             [
              0.6666666666666666,
              "#ed7953"
             ],
             [
              0.7777777777777778,
              "#fb9f3a"
             ],
             [
              0.8888888888888888,
              "#fdca26"
             ],
             [
              1,
              "#f0f921"
             ]
            ],
            "type": "contour"
           }
          ],
          "contourcarpet": [
           {
            "colorbar": {
             "outlinewidth": 0,
             "ticks": ""
            },
            "type": "contourcarpet"
           }
          ],
          "heatmap": [
           {
            "colorbar": {
             "outlinewidth": 0,
             "ticks": ""
            },
            "colorscale": [
             [
              0,
              "#0d0887"
             ],
             [
              0.1111111111111111,
              "#46039f"
             ],
             [
              0.2222222222222222,
              "#7201a8"
             ],
             [
              0.3333333333333333,
              "#9c179e"
             ],
             [
              0.4444444444444444,
              "#bd3786"
             ],
             [
              0.5555555555555556,
              "#d8576b"
             ],
             [
              0.6666666666666666,
              "#ed7953"
             ],
             [
              0.7777777777777778,
              "#fb9f3a"
             ],
             [
              0.8888888888888888,
              "#fdca26"
             ],
             [
              1,
              "#f0f921"
             ]
            ],
            "type": "heatmap"
           }
          ],
          "histogram": [
           {
            "marker": {
             "pattern": {
              "fillmode": "overlay",
              "size": 10,
              "solidity": 0.2
             }
            },
            "type": "histogram"
           }
          ],
          "histogram2d": [
           {
            "colorbar": {
             "outlinewidth": 0,
             "ticks": ""
            },
            "colorscale": [
             [
              0,
              "#0d0887"
             ],
             [
              0.1111111111111111,
              "#46039f"
             ],
             [
              0.2222222222222222,
              "#7201a8"
             ],
             [
              0.3333333333333333,
              "#9c179e"
             ],
             [
              0.4444444444444444,
              "#bd3786"
             ],
             [
              0.5555555555555556,
              "#d8576b"
             ],
             [
              0.6666666666666666,
              "#ed7953"
             ],
             [
              0.7777777777777778,
              "#fb9f3a"
             ],
             [
              0.8888888888888888,
              "#fdca26"
             ],
             [
              1,
              "#f0f921"
             ]
            ],
            "type": "histogram2d"
           }
          ],
          "histogram2dcontour": [
           {
            "colorbar": {
             "outlinewidth": 0,
             "ticks": ""
            },
            "colorscale": [
             [
              0,
              "#0d0887"
             ],
             [
              0.1111111111111111,
              "#46039f"
             ],
             [
              0.2222222222222222,
              "#7201a8"
             ],
             [
              0.3333333333333333,
              "#9c179e"
             ],
             [
              0.4444444444444444,
              "#bd3786"
             ],
             [
              0.5555555555555556,
              "#d8576b"
             ],
             [
              0.6666666666666666,
              "#ed7953"
             ],
             [
              0.7777777777777778,
              "#fb9f3a"
             ],
             [
              0.8888888888888888,
              "#fdca26"
             ],
             [
              1,
              "#f0f921"
             ]
            ],
            "type": "histogram2dcontour"
           }
          ],
          "mesh3d": [
           {
            "colorbar": {
             "outlinewidth": 0,
             "ticks": ""
            },
            "type": "mesh3d"
           }
          ],
          "parcoords": [
           {
            "line": {
             "colorbar": {
              "outlinewidth": 0,
              "ticks": ""
             }
            },
            "type": "parcoords"
           }
          ],
          "pie": [
           {
            "automargin": true,
            "type": "pie"
           }
          ],
          "scatter": [
           {
            "fillpattern": {
             "fillmode": "overlay",
             "size": 10,
             "solidity": 0.2
            },
            "type": "scatter"
           }
          ],
          "scatter3d": [
           {
            "line": {
             "colorbar": {
              "outlinewidth": 0,
              "ticks": ""
             }
            },
            "marker": {
             "colorbar": {
              "outlinewidth": 0,
              "ticks": ""
             }
            },
            "type": "scatter3d"
           }
          ],
          "scattercarpet": [
           {
            "marker": {
             "colorbar": {
              "outlinewidth": 0,
              "ticks": ""
             }
            },
            "type": "scattercarpet"
           }
          ],
          "scattergeo": [
           {
            "marker": {
             "colorbar": {
              "outlinewidth": 0,
              "ticks": ""
             }
            },
            "type": "scattergeo"
           }
          ],
          "scattergl": [
           {
            "marker": {
             "colorbar": {
              "outlinewidth": 0,
              "ticks": ""
             }
            },
            "type": "scattergl"
           }
          ],
          "scattermap": [
           {
            "marker": {
             "colorbar": {
              "outlinewidth": 0,
              "ticks": ""
             }
            },
            "type": "scattermap"
           }
          ],
          "scattermapbox": [
           {
            "marker": {
             "colorbar": {
              "outlinewidth": 0,
              "ticks": ""
             }
            },
            "type": "scattermapbox"
           }
          ],
          "scatterpolar": [
           {
            "marker": {
             "colorbar": {
              "outlinewidth": 0,
              "ticks": ""
             }
            },
            "type": "scatterpolar"
           }
          ],
          "scatterpolargl": [
           {
            "marker": {
             "colorbar": {
              "outlinewidth": 0,
              "ticks": ""
             }
            },
            "type": "scatterpolargl"
           }
          ],
          "scatterternary": [
           {
            "marker": {
             "colorbar": {
              "outlinewidth": 0,
              "ticks": ""
             }
            },
            "type": "scatterternary"
           }
          ],
          "surface": [
           {
            "colorbar": {
             "outlinewidth": 0,
             "ticks": ""
            },
            "colorscale": [
             [
              0,
              "#0d0887"
             ],
             [
              0.1111111111111111,
              "#46039f"
             ],
             [
              0.2222222222222222,
              "#7201a8"
             ],
             [
              0.3333333333333333,
              "#9c179e"
             ],
             [
              0.4444444444444444,
              "#bd3786"
             ],
             [
              0.5555555555555556,
              "#d8576b"
             ],
             [
              0.6666666666666666,
              "#ed7953"
             ],
             [
              0.7777777777777778,
              "#fb9f3a"
             ],
             [
              0.8888888888888888,
              "#fdca26"
             ],
             [
              1,
              "#f0f921"
             ]
            ],
            "type": "surface"
           }
          ],
          "table": [
           {
            "cells": {
             "fill": {
              "color": "#EBF0F8"
             },
             "line": {
              "color": "white"
             }
            },
            "header": {
             "fill": {
              "color": "#C8D4E3"
             },
             "line": {
              "color": "white"
             }
            },
            "type": "table"
           }
          ]
         },
         "layout": {
          "annotationdefaults": {
           "arrowcolor": "#2a3f5f",
           "arrowhead": 0,
           "arrowwidth": 1
          },
          "autotypenumbers": "strict",
          "coloraxis": {
           "colorbar": {
            "outlinewidth": 0,
            "ticks": ""
           }
          },
          "colorscale": {
           "diverging": [
            [
             0,
             "#8e0152"
            ],
            [
             0.1,
             "#c51b7d"
            ],
            [
             0.2,
             "#de77ae"
            ],
            [
             0.3,
             "#f1b6da"
            ],
            [
             0.4,
             "#fde0ef"
            ],
            [
             0.5,
             "#f7f7f7"
            ],
            [
             0.6,
             "#e6f5d0"
            ],
            [
             0.7,
             "#b8e186"
            ],
            [
             0.8,
             "#7fbc41"
            ],
            [
             0.9,
             "#4d9221"
            ],
            [
             1,
             "#276419"
            ]
           ],
           "sequential": [
            [
             0,
             "#0d0887"
            ],
            [
             0.1111111111111111,
             "#46039f"
            ],
            [
             0.2222222222222222,
             "#7201a8"
            ],
            [
             0.3333333333333333,
             "#9c179e"
            ],
            [
             0.4444444444444444,
             "#bd3786"
            ],
            [
             0.5555555555555556,
             "#d8576b"
            ],
            [
             0.6666666666666666,
             "#ed7953"
            ],
            [
             0.7777777777777778,
             "#fb9f3a"
            ],
            [
             0.8888888888888888,
             "#fdca26"
            ],
            [
             1,
             "#f0f921"
            ]
           ],
           "sequentialminus": [
            [
             0,
             "#0d0887"
            ],
            [
             0.1111111111111111,
             "#46039f"
            ],
            [
             0.2222222222222222,
             "#7201a8"
            ],
            [
             0.3333333333333333,
             "#9c179e"
            ],
            [
             0.4444444444444444,
             "#bd3786"
            ],
            [
             0.5555555555555556,
             "#d8576b"
            ],
            [
             0.6666666666666666,
             "#ed7953"
            ],
            [
             0.7777777777777778,
             "#fb9f3a"
            ],
            [
             0.8888888888888888,
             "#fdca26"
            ],
            [
             1,
             "#f0f921"
            ]
           ]
          },
          "colorway": [
           "#636efa",
           "#EF553B",
           "#00cc96",
           "#ab63fa",
           "#FFA15A",
           "#19d3f3",
           "#FF6692",
           "#B6E880",
           "#FF97FF",
           "#FECB52"
          ],
          "font": {
           "color": "#2a3f5f"
          },
          "geo": {
           "bgcolor": "white",
           "lakecolor": "white",
           "landcolor": "#E5ECF6",
           "showlakes": true,
           "showland": true,
           "subunitcolor": "white"
          },
          "hoverlabel": {
           "align": "left"
          },
          "hovermode": "closest",
          "mapbox": {
           "style": "light"
          },
          "paper_bgcolor": "white",
          "plot_bgcolor": "#E5ECF6",
          "polar": {
           "angularaxis": {
            "gridcolor": "white",
            "linecolor": "white",
            "ticks": ""
           },
           "bgcolor": "#E5ECF6",
           "radialaxis": {
            "gridcolor": "white",
            "linecolor": "white",
            "ticks": ""
           }
          },
          "scene": {
           "xaxis": {
            "backgroundcolor": "#E5ECF6",
            "gridcolor": "white",
            "gridwidth": 2,
            "linecolor": "white",
            "showbackground": true,
            "ticks": "",
            "zerolinecolor": "white"
           },
           "yaxis": {
            "backgroundcolor": "#E5ECF6",
            "gridcolor": "white",
            "gridwidth": 2,
            "linecolor": "white",
            "showbackground": true,
            "ticks": "",
            "zerolinecolor": "white"
           },
           "zaxis": {
            "backgroundcolor": "#E5ECF6",
            "gridcolor": "white",
            "gridwidth": 2,
            "linecolor": "white",
            "showbackground": true,
            "ticks": "",
            "zerolinecolor": "white"
           }
          },
          "shapedefaults": {
           "line": {
            "color": "#2a3f5f"
           }
          },
          "ternary": {
           "aaxis": {
            "gridcolor": "white",
            "linecolor": "white",
            "ticks": ""
           },
           "baxis": {
            "gridcolor": "white",
            "linecolor": "white",
            "ticks": ""
           },
           "bgcolor": "#E5ECF6",
           "caxis": {
            "gridcolor": "white",
            "linecolor": "white",
            "ticks": ""
           }
          },
          "title": {
           "x": 0.05
          },
          "xaxis": {
           "automargin": true,
           "gridcolor": "white",
           "linecolor": "white",
           "ticks": "",
           "title": {
            "standoff": 15
           },
           "zerolinecolor": "white",
           "zerolinewidth": 2
          },
          "yaxis": {
           "automargin": true,
           "gridcolor": "white",
           "linecolor": "white",
           "ticks": "",
           "title": {
            "standoff": 15
           },
           "zerolinecolor": "white",
           "zerolinewidth": 2
          }
         }
        },
        "title": {
         "font": {
          "size": 16
         },
         "text": "Relative Performance Heatmap<br><sub>Lower values (green) are better</sub>"
        },
        "width": 800,
        "xaxis": {
         "anchor": "y",
         "constrain": "domain",
         "domain": [
          0,
          1
         ],
         "scaleanchor": "y"
        },
        "yaxis": {
         "anchor": "x",
         "autorange": "reversed",
         "constrain": "domain",
         "domain": [
          0,
          1
         ]
        }
       }
      },
      "image/png": "[encoded data removed]"
     },
     "metadata": {},
     "output_type": "display_data"
    }
   ],
   "source": [
    "# Performance heatmap\n",
    "if not df.empty and len(df['Group'].unique()) > 1:\n",
    "    # Create pivot table for heatmap\n",
    "    pivot_df = df.pivot(index='Implementation', columns='Group', values='Mean (ns)')\n",
    "    \n",
    "    # Calculate relative performance (normalize by minimum in each column)\n",
    "    normalized_df = pivot_df.div(pivot_df.min(), axis=1)\n",
    "    \n",
    "    fig = px.imshow(\n",
    "        normalized_df.values,\n",
    "        x=normalized_df.columns,\n",
    "        y=normalized_df.index,\n",
    "        color_continuous_scale='RdYlGn_r',\n",
    "        title='Relative Performance Heatmap<br><sub>Lower values (green) are better</sub>',\n",
    "        labels=dict(color=\"Relative Performance\"),\n",
    "        text_auto='.2f'\n",
    "    )\n",
    "    \n",
    "    fig.update_layout(\n",
    "        width=800,\n",
    "        height=400,\n",
    "        font=dict(size=12),\n",
    "        title_font_size=16\n",
    "    )\n",
    "    \n",
    "    fig.show()\n",
    "else:\n",
    "    print(\"❌ Not enough data for heatmap (need multiple benchmark groups).\")"
   ]
  },
  {
   "cell_type": "markdown",
   "metadata": {},
   "source": [
    "## Static Matplotlib Plots"
   ]
  },
  {
   "cell_type": "code",
   "execution_count": 10,
   "metadata": {},
   "outputs": [
    {
     "data": {
      "image/png": "[encoded data removed]",
      "text/plain": [
       "<Figure size 1500x600 with 3 Axes>"
      ]
     },
     "metadata": {},
     "output_type": "display_data"
    },
    {
     "name": "stdout",
     "output_type": "stream",
     "text": [
      "💾 Plot saved as 'benchmark_comparison.png'\n"
     ]
    }
   ],
   "source": [
    "# Traditional matplotlib plots for publication\n",
    "if not df.empty:\n",
    "    groups = df['Group'].unique()\n",
    "    n_groups = len(groups)\n",
    "    \n",
    "    fig, axes = plt.subplots(1, n_groups, figsize=(5*n_groups, 6))\n",
    "    if n_groups == 1:\n",
    "        axes = [axes]\n",
    "    \n",
    "    colors = ['#1f77b4', '#ff7f0e', '#2ca02c', '#d62728', '#9467bd']\n",
    "    \n",
    "    for idx, group_name in enumerate(groups):\n",
    "        group_data = df[df['Group'] == group_name]\n",
    "        \n",
    "        bars = axes[idx].bar(\n",
    "            group_data['Implementation'],\n",
    "            group_data['Mean (ns)'],\n",
    "            yerr=group_data['Std Dev (ns)'],\n",
    "            capsize=5,\n",
    "            alpha=0.8,\n",
    "            color=colors[:len(group_data)]\n",
    "        )\n",
    "        \n",
    "        axes[idx].set_title(f'{group_name}', fontweight='bold', fontsize=14)\n",
    "        axes[idx].set_ylabel('Execution Time (ns)', fontsize=12)\n",
    "        axes[idx].tick_params(axis='x', rotation=45)\n",
    "        axes[idx].grid(True, alpha=0.3)\n",
    "        \n",
    "        # Add value labels on bars\n",
    "        for bar, mean_val in zip(bars, group_data['Mean (ns)']):\n",
    "            height = bar.get_height()\n",
    "            axes[idx].text(\n",
    "                bar.get_x() + bar.get_width()/2.,\n",
    "                height + max(group_data['Std Dev (ns)'])/10,\n",
    "                f'{mean_val:.0f}ns',\n",
    "                ha='center', va='bottom', fontsize=10, fontweight='bold'\n",
    "            )\n",
    "    \n",
    "    plt.suptitle('WASM Runtime Performance Comparison', fontsize=16, fontweight='bold', y=1.02)\n",
    "    plt.tight_layout()\n",
    "    plt.show()\n",
    "    \n",
    "    # Save the plot\n",
    "    fig.savefig('benchmark_comparison.png', dpi=300, bbox_inches='tight')\n",
    "    print(\"💾 Plot saved as 'benchmark_comparison.png'\")\n",
    "else:\n",
    "    print(\"❌ No data available for matplotlib plots.\")"
   ]
  },
  {
   "cell_type": "markdown",
   "metadata": {},
   "source": [
    "## Detailed Statistical Analysis"
   ]
  },
  {
   "cell_type": "code",
   "execution_count": 11,
   "metadata": {},
   "outputs": [
    {
     "name": "stdout",
     "output_type": "stream",
     "text": [
      "📈 COEFFICIENT OF VARIATION (Consistency Measure)\n",
      "Lower CV% = more consistent performance\n",
      "==================================================\n"
     ]
    },
    {
     "data": {
      "text/html": [
       "<div>\n",
       "<style scoped>\n",
       "    .dataframe tbody tr th:only-of-type {\n",
       "        vertical-align: middle;\n",
       "    }\n",
       "\n",
       "    .dataframe tbody tr th {\n",
       "        vertical-align: top;\n",
       "    }\n",
       "\n",
       "    .dataframe thead th {\n",
       "        text-align: right;\n",
       "    }\n",
       "</style>\n",
       "<table border=\"1\" class=\"dataframe\">\n",
       "  <thead>\n",
       "    <tr style=\"text-align: right;\">\n",
       "      <th></th>\n",
       "      <th>Group</th>\n",
       "      <th>Implementation</th>\n",
       "      <th>CV (%)</th>\n",
       "    </tr>\n",
       "  </thead>\n",
       "  <tbody>\n",
       "    <tr>\n",
       "      <th>1</th>\n",
       "      <td>Cold Ping Pong Execution</td>\n",
       "      <td>Native</td>\n",
       "      <td>57.09</td>\n",
       "    </tr>\n",
       "    <tr>\n",
       "      <th>0</th>\n",
       "      <td>Cold Ping Pong Execution</td>\n",
       "      <td>Wasmtime</td>\n",
       "      <td>57.15</td>\n",
       "    </tr>\n",
       "    <tr>\n",
       "      <th>2</th>\n",
       "      <td>Cold Ping Pong Execution</td>\n",
       "      <td>WAMR</td>\n",
       "      <td>57.24</td>\n",
       "    </tr>\n",
       "    <tr>\n",
       "      <th>7</th>\n",
       "      <td>Hot Ping Pong Execution</td>\n",
       "      <td>Native</td>\n",
       "      <td>57.14</td>\n",
       "    </tr>\n",
       "    <tr>\n",
       "      <th>6</th>\n",
       "      <td>Hot Ping Pong Execution</td>\n",
       "      <td>Wasmtime</td>\n",
       "      <td>57.15</td>\n",
       "    </tr>\n",
       "    <tr>\n",
       "      <th>8</th>\n",
       "      <td>Hot Ping Pong Execution</td>\n",
       "      <td>WAMR</td>\n",
       "      <td>57.16</td>\n",
       "    </tr>\n",
       "    <tr>\n",
       "      <th>4</th>\n",
       "      <td>Runtime Setup</td>\n",
       "      <td>Native</td>\n",
       "      <td>57.07</td>\n",
       "    </tr>\n",
       "    <tr>\n",
       "      <th>3</th>\n",
       "      <td>Runtime Setup</td>\n",
       "      <td>Wasmtime</td>\n",
       "      <td>57.18</td>\n",
       "    </tr>\n",
       "    <tr>\n",
       "      <th>5</th>\n",
       "      <td>Runtime Setup</td>\n",
       "      <td>WAMR</td>\n",
       "      <td>57.20</td>\n",
       "    </tr>\n",
       "  </tbody>\n",
       "</table>\n",
       "</div>"
      ],
      "text/plain": [
       "                      Group Implementation  CV (%)\n",
       "1  Cold Ping Pong Execution         Native   57.09\n",
       "0  Cold Ping Pong Execution       Wasmtime   57.15\n",
       "2  Cold Ping Pong Execution           WAMR   57.24\n",
       "7   Hot Ping Pong Execution         Native   57.14\n",
       "6   Hot Ping Pong Execution       Wasmtime   57.15\n",
       "8   Hot Ping Pong Execution           WAMR   57.16\n",
       "4             Runtime Setup         Native   57.07\n",
       "3             Runtime Setup       Wasmtime   57.18\n",
       "5             Runtime Setup           WAMR   57.20"
      ]
     },
     "metadata": {},
     "output_type": "display_data"
    },
    {
     "name": "stdout",
     "output_type": "stream",
     "text": [
      "\n",
      "💡 Interpretation:\n",
      "   • CV < 5%: Very consistent\n",
      "   • CV 5-10%: Moderately consistent\n",
      "   • CV > 10%: High variability\n"
     ]
    }
   ],
   "source": [
    "# Statistical significance testing (if you want to add this later)\n",
    "if not df.empty:\n",
    "    print(\"📈 COEFFICIENT OF VARIATION (Consistency Measure)\")\n",
    "    print(\"Lower CV% = more consistent performance\")\n",
    "    print(\"=\" * 50)\n",
    "    \n",
    "    cv_df = df[['Group', 'Implementation', 'CV (%)']].sort_values(['Group', 'CV (%)'])\n",
    "    display(cv_df.round(2))\n",
    "    \n",
    "    print(\"\\n💡 Interpretation:\")\n",
    "    print(\"   • CV < 5%: Very consistent\")\n",
    "    print(\"   • CV 5-10%: Moderately consistent\")\n",
    "    print(\"   • CV > 10%: High variability\")"
   ]
  },
  {
   "cell_type": "code",
   "execution_count": 12,
   "metadata": {},
   "outputs": [
    {
     "name": "stdout",
     "output_type": "stream",
     "text": [
      "💾 Results exported to 'benchmark_results.csv'\n",
      "💾 Raw data exported to 'raw_benchmark_data.json'\n"
     ]
    }
   ],
   "source": [
    "# Export results for further analysis\n",
    "if not df.empty:\n",
    "    # Save to CSV\n",
    "    df.to_csv('benchmark_results.csv', index=False)\n",
    "    print(\"💾 Results exported to 'benchmark_results.csv'\")\n",
    "    \n",
    "    # Export raw data as JSON for other tools\n",
    "    raw_data = analyzer.get_raw_data()\n",
    "    with open('raw_benchmark_data.json', 'w') as f:\n",
    "        json.dump(raw_data, f, indent=2)\n",
    "    print(\"💾 Raw data exported to 'raw_benchmark_data.json'\")\n",
    "else:\n",
    "    print(\"❌ No data to export.\")"
   ]
  },
  {
   "cell_type": "markdown",
   "metadata": {},
   "source": [
    "## Notes for Master's Thesis\n",
    "\n",
    "### 🎯 Key Performance Insights for Your Analysis\n",
    "\n",
    "**1. Setup Overhead Analysis:**\n",
    "- Compare initialization costs between Native, WAMR, and Wasmtime\n",
    "- WASM runtimes will typically have higher setup overhead due to module loading/compilation\n",
    "- Look for: Which runtime has the fastest \"time to first execution\"?\n",
    "\n",
    "**2. Cold vs Hot Performance:**\n",
    "- **Cold:** Includes compilation, optimization, and first-run overhead\n",
    "- **Hot:** Steady-state performance after warmup\n",
    "- Expected pattern: Cold > Hot (first run is usually slower)\n",
    "- Look for: How much does each runtime improve from cold to hot?\n",
    "\n",
    "**3. Consistency Analysis (CV%):**\n",
    "- Lower CV% = more predictable performance\n",
    "- Important for real-time or embedded systems\n",
    "- Look for: Which runtime has the most consistent performance?\n",
    "\n",
    "**4. Performance Trade-offs:**\n",
    "- **Native:** Fastest execution, but no sandboxing/portability\n",
    "- **WAMR:** Optimized for embedded, smaller footprint\n",
    "- **Wasmtime:** Full-featured, more optimizations, larger footprint\n",
    "\n",
    "### 📊 Expected Results Patterns\n",
    "\n",
    "Based on typical WASM runtime characteristics:\n",
    "\n",
    "| Metric | Expected Ranking (Best to Worst) |\n",
    "|--------|-----------------------------------|\n",
    "| **Setup Speed** | Native > WAMR > Wasmtime |\n",
    "| **Hot Execution** | Native > Wasmtime ≈ WAMR |\n",
    "| **Consistency** | Native > WAMR > Wasmtime |\n",
    "| **Memory Usage** | Native < WAMR < Wasmtime |\n",
    "\n",
    "### 🔬 Statistical Significance\n",
    "\n",
    "For rigorous analysis:\n",
    "- Run benchmarks multiple times (different sessions)\n",
    "- Check if performance differences are statistically significant\n",
    "- Consider: Are the differences large enough to matter in practice?\n",
    "\n",
    "### 📝 Thesis Writing Tips\n",
    "\n",
    "**For your results section:**\n",
    "1. Start with the summary table (quantitative overview)\n",
    "2. Use bar charts to show main performance differences\n",
    "3. Use box plots to discuss consistency/variability\n",
    "4. Use heatmap to show relative performance patterns\n",
    "5. Discuss practical implications of the differences\n",
    "\n",
    "**Key questions to answer:**\n",
    "- Is the performance overhead of WASM acceptable for I2C operations?\n",
    "- Which runtime offers the best balance of performance vs. features?\n",
    "- How do the results align with your expectations?\n",
    "- What are the practical implications for embedded systems?\n",
    "\n",
    "**Remember:** Context matters! A 10× overhead might be acceptable if absolute times are still microseconds, but problematic if they're milliseconds."
   ]
  }
 ],
 "metadata": {
  "kernelspec": {
   "display_name": "MP Visualizer",
   "language": "python",
   "name": "mp-visualizer"
  },
  "language_info": {
   "codemirror_mode": {
    "name": "ipython",
    "version": 3
   },
   "file_extension": ".py",
   "mimetype": "text/x-python",
   "name": "python",
   "nbconvert_exporter": "python",
   "pygments_lexer": "ipython3",
   "version": "3.12.3"
  }
 },
 "nbformat": 4,
 "nbformat_minor": 4
}
